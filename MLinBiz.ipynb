{
 "cells": [
  {
   "cell_type": "markdown",
   "metadata": {},
   "source": [
    "# Oil Well Placement Optimization: Using Machine Learning to Predict Profitable Placement and Maximize Profit for OilyGiant\n",
    "Selecting the ideal placement for a profitable oil well is critical for the success of OilyGiant.  The labor and expense of drilling in a sub-par location is damaging for the company's and investors' profits.  Machine learning can leverage data-driven techniques to predict profitable placement.\n",
    "\n",
    "I will determine the ideal placement for a new well from one of three potential regions by analyzing existing wells in each respective region and training an ML model to estimate oil volume using this historical data and predict profit potential.  Given the need for accurate predictions, I will use the bootstrapping method to assess variability and stability of profit estimates.  By identifying the region that is predicted to have the highest profit margin, OilyGiant can make a data-informed decision for new well placement and maximize profit.\n",
    "\n",
    "## Data Preparation\n",
    "I will first import all needed modules, then download and prepare the data."
   ]
  },
  {
   "cell_type": "code",
   "execution_count": 1,
   "metadata": {},
   "outputs": [],
   "source": [
    "# Core Libraries\n",
    "import pandas as pd\n",
    "import numpy as np\n",
    "\n",
    "# Model Selection and Preprocessing\n",
    "from sklearn.model_selection import train_test_split\n",
    "from sklearn.preprocessing import StandardScaler\n",
    "from sklearn.utils import shuffle\n",
    "\n",
    "# Machine Learning Model\n",
    "from sklearn.linear_model import LinearRegression\n",
    "\n",
    "# Metrics and Evaluation\n",
    "from sklearn.metrics import (\n",
    "    accuracy_score, \n",
    "    mean_squared_error\n",
    ")\n",
    "\n",
    "# Visualization\n",
    "import matplotlib.pyplot as plt"
   ]
  },
  {
   "cell_type": "code",
   "execution_count": 2,
   "metadata": {},
   "outputs": [],
   "source": [
    "region_1 = pd.read_csv('/datasets/geo_data_0.csv')\n",
    "region_2 = pd.read_csv('/datasets/geo_data_1.csv')\n",
    "region_3 = pd.read_csv('/datasets/geo_data_2.csv')"
   ]
  },
  {
   "cell_type": "code",
   "execution_count": 3,
   "metadata": {},
   "outputs": [
    {
     "data": {
      "text/html": [
       "<div>\n",
       "<style scoped>\n",
       "    .dataframe tbody tr th:only-of-type {\n",
       "        vertical-align: middle;\n",
       "    }\n",
       "\n",
       "    .dataframe tbody tr th {\n",
       "        vertical-align: top;\n",
       "    }\n",
       "\n",
       "    .dataframe thead th {\n",
       "        text-align: right;\n",
       "    }\n",
       "</style>\n",
       "<table border=\"1\" class=\"dataframe\">\n",
       "  <thead>\n",
       "    <tr style=\"text-align: right;\">\n",
       "      <th></th>\n",
       "      <th>id</th>\n",
       "      <th>f0</th>\n",
       "      <th>f1</th>\n",
       "      <th>f2</th>\n",
       "      <th>product</th>\n",
       "    </tr>\n",
       "  </thead>\n",
       "  <tbody>\n",
       "    <tr>\n",
       "      <th>0</th>\n",
       "      <td>txEyH</td>\n",
       "      <td>0.705745</td>\n",
       "      <td>-0.497823</td>\n",
       "      <td>1.221170</td>\n",
       "      <td>105.280062</td>\n",
       "    </tr>\n",
       "    <tr>\n",
       "      <th>1</th>\n",
       "      <td>2acmU</td>\n",
       "      <td>1.334711</td>\n",
       "      <td>-0.340164</td>\n",
       "      <td>4.365080</td>\n",
       "      <td>73.037750</td>\n",
       "    </tr>\n",
       "    <tr>\n",
       "      <th>2</th>\n",
       "      <td>409Wp</td>\n",
       "      <td>1.022732</td>\n",
       "      <td>0.151990</td>\n",
       "      <td>1.419926</td>\n",
       "      <td>85.265647</td>\n",
       "    </tr>\n",
       "    <tr>\n",
       "      <th>3</th>\n",
       "      <td>iJLyR</td>\n",
       "      <td>-0.032172</td>\n",
       "      <td>0.139033</td>\n",
       "      <td>2.978566</td>\n",
       "      <td>168.620776</td>\n",
       "    </tr>\n",
       "    <tr>\n",
       "      <th>4</th>\n",
       "      <td>Xdl7t</td>\n",
       "      <td>1.988431</td>\n",
       "      <td>0.155413</td>\n",
       "      <td>4.751769</td>\n",
       "      <td>154.036647</td>\n",
       "    </tr>\n",
       "    <tr>\n",
       "      <th>...</th>\n",
       "      <td>...</td>\n",
       "      <td>...</td>\n",
       "      <td>...</td>\n",
       "      <td>...</td>\n",
       "      <td>...</td>\n",
       "    </tr>\n",
       "    <tr>\n",
       "      <th>99995</th>\n",
       "      <td>DLsed</td>\n",
       "      <td>0.971957</td>\n",
       "      <td>0.370953</td>\n",
       "      <td>6.075346</td>\n",
       "      <td>110.744026</td>\n",
       "    </tr>\n",
       "    <tr>\n",
       "      <th>99996</th>\n",
       "      <td>QKivN</td>\n",
       "      <td>1.392429</td>\n",
       "      <td>-0.382606</td>\n",
       "      <td>1.273912</td>\n",
       "      <td>122.346843</td>\n",
       "    </tr>\n",
       "    <tr>\n",
       "      <th>99997</th>\n",
       "      <td>3rnvd</td>\n",
       "      <td>1.029585</td>\n",
       "      <td>0.018787</td>\n",
       "      <td>-1.348308</td>\n",
       "      <td>64.375443</td>\n",
       "    </tr>\n",
       "    <tr>\n",
       "      <th>99998</th>\n",
       "      <td>7kl59</td>\n",
       "      <td>0.998163</td>\n",
       "      <td>-0.528582</td>\n",
       "      <td>1.583869</td>\n",
       "      <td>74.040764</td>\n",
       "    </tr>\n",
       "    <tr>\n",
       "      <th>99999</th>\n",
       "      <td>1CWhH</td>\n",
       "      <td>1.764754</td>\n",
       "      <td>-0.266417</td>\n",
       "      <td>5.722849</td>\n",
       "      <td>149.633246</td>\n",
       "    </tr>\n",
       "  </tbody>\n",
       "</table>\n",
       "<p>100000 rows × 5 columns</p>\n",
       "</div>"
      ],
      "text/plain": [
       "          id        f0        f1        f2     product\n",
       "0      txEyH  0.705745 -0.497823  1.221170  105.280062\n",
       "1      2acmU  1.334711 -0.340164  4.365080   73.037750\n",
       "2      409Wp  1.022732  0.151990  1.419926   85.265647\n",
       "3      iJLyR -0.032172  0.139033  2.978566  168.620776\n",
       "4      Xdl7t  1.988431  0.155413  4.751769  154.036647\n",
       "...      ...       ...       ...       ...         ...\n",
       "99995  DLsed  0.971957  0.370953  6.075346  110.744026\n",
       "99996  QKivN  1.392429 -0.382606  1.273912  122.346843\n",
       "99997  3rnvd  1.029585  0.018787 -1.348308   64.375443\n",
       "99998  7kl59  0.998163 -0.528582  1.583869   74.040764\n",
       "99999  1CWhH  1.764754 -0.266417  5.722849  149.633246\n",
       "\n",
       "[100000 rows x 5 columns]"
      ]
     },
     "execution_count": 3,
     "metadata": {},
     "output_type": "execute_result"
    }
   ],
   "source": [
    "region_1"
   ]
  },
  {
   "cell_type": "code",
   "execution_count": 4,
   "metadata": {},
   "outputs": [
    {
     "data": {
      "text/html": [
       "<div>\n",
       "<style scoped>\n",
       "    .dataframe tbody tr th:only-of-type {\n",
       "        vertical-align: middle;\n",
       "    }\n",
       "\n",
       "    .dataframe tbody tr th {\n",
       "        vertical-align: top;\n",
       "    }\n",
       "\n",
       "    .dataframe thead th {\n",
       "        text-align: right;\n",
       "    }\n",
       "</style>\n",
       "<table border=\"1\" class=\"dataframe\">\n",
       "  <thead>\n",
       "    <tr style=\"text-align: right;\">\n",
       "      <th></th>\n",
       "      <th>id</th>\n",
       "      <th>f0</th>\n",
       "      <th>f1</th>\n",
       "      <th>f2</th>\n",
       "      <th>product</th>\n",
       "    </tr>\n",
       "  </thead>\n",
       "  <tbody>\n",
       "    <tr>\n",
       "      <th>0</th>\n",
       "      <td>kBEdx</td>\n",
       "      <td>-15.001348</td>\n",
       "      <td>-8.276000</td>\n",
       "      <td>-0.005876</td>\n",
       "      <td>3.179103</td>\n",
       "    </tr>\n",
       "    <tr>\n",
       "      <th>1</th>\n",
       "      <td>62mP7</td>\n",
       "      <td>14.272088</td>\n",
       "      <td>-3.475083</td>\n",
       "      <td>0.999183</td>\n",
       "      <td>26.953261</td>\n",
       "    </tr>\n",
       "    <tr>\n",
       "      <th>2</th>\n",
       "      <td>vyE1P</td>\n",
       "      <td>6.263187</td>\n",
       "      <td>-5.948386</td>\n",
       "      <td>5.001160</td>\n",
       "      <td>134.766305</td>\n",
       "    </tr>\n",
       "    <tr>\n",
       "      <th>3</th>\n",
       "      <td>KcrkZ</td>\n",
       "      <td>-13.081196</td>\n",
       "      <td>-11.506057</td>\n",
       "      <td>4.999415</td>\n",
       "      <td>137.945408</td>\n",
       "    </tr>\n",
       "    <tr>\n",
       "      <th>4</th>\n",
       "      <td>AHL4O</td>\n",
       "      <td>12.702195</td>\n",
       "      <td>-8.147433</td>\n",
       "      <td>5.004363</td>\n",
       "      <td>134.766305</td>\n",
       "    </tr>\n",
       "    <tr>\n",
       "      <th>...</th>\n",
       "      <td>...</td>\n",
       "      <td>...</td>\n",
       "      <td>...</td>\n",
       "      <td>...</td>\n",
       "      <td>...</td>\n",
       "    </tr>\n",
       "    <tr>\n",
       "      <th>99995</th>\n",
       "      <td>QywKC</td>\n",
       "      <td>9.535637</td>\n",
       "      <td>-6.878139</td>\n",
       "      <td>1.998296</td>\n",
       "      <td>53.906522</td>\n",
       "    </tr>\n",
       "    <tr>\n",
       "      <th>99996</th>\n",
       "      <td>ptvty</td>\n",
       "      <td>-10.160631</td>\n",
       "      <td>-12.558096</td>\n",
       "      <td>5.005581</td>\n",
       "      <td>137.945408</td>\n",
       "    </tr>\n",
       "    <tr>\n",
       "      <th>99997</th>\n",
       "      <td>09gWa</td>\n",
       "      <td>-7.378891</td>\n",
       "      <td>-3.084104</td>\n",
       "      <td>4.998651</td>\n",
       "      <td>137.945408</td>\n",
       "    </tr>\n",
       "    <tr>\n",
       "      <th>99998</th>\n",
       "      <td>rqwUm</td>\n",
       "      <td>0.665714</td>\n",
       "      <td>-6.152593</td>\n",
       "      <td>1.000146</td>\n",
       "      <td>30.132364</td>\n",
       "    </tr>\n",
       "    <tr>\n",
       "      <th>99999</th>\n",
       "      <td>relB0</td>\n",
       "      <td>-3.426139</td>\n",
       "      <td>-7.794274</td>\n",
       "      <td>-0.003299</td>\n",
       "      <td>3.179103</td>\n",
       "    </tr>\n",
       "  </tbody>\n",
       "</table>\n",
       "<p>100000 rows × 5 columns</p>\n",
       "</div>"
      ],
      "text/plain": [
       "          id         f0         f1        f2     product\n",
       "0      kBEdx -15.001348  -8.276000 -0.005876    3.179103\n",
       "1      62mP7  14.272088  -3.475083  0.999183   26.953261\n",
       "2      vyE1P   6.263187  -5.948386  5.001160  134.766305\n",
       "3      KcrkZ -13.081196 -11.506057  4.999415  137.945408\n",
       "4      AHL4O  12.702195  -8.147433  5.004363  134.766305\n",
       "...      ...        ...        ...       ...         ...\n",
       "99995  QywKC   9.535637  -6.878139  1.998296   53.906522\n",
       "99996  ptvty -10.160631 -12.558096  5.005581  137.945408\n",
       "99997  09gWa  -7.378891  -3.084104  4.998651  137.945408\n",
       "99998  rqwUm   0.665714  -6.152593  1.000146   30.132364\n",
       "99999  relB0  -3.426139  -7.794274 -0.003299    3.179103\n",
       "\n",
       "[100000 rows x 5 columns]"
      ]
     },
     "execution_count": 4,
     "metadata": {},
     "output_type": "execute_result"
    }
   ],
   "source": [
    "region_2"
   ]
  },
  {
   "cell_type": "code",
   "execution_count": 5,
   "metadata": {},
   "outputs": [
    {
     "data": {
      "text/html": [
       "<div>\n",
       "<style scoped>\n",
       "    .dataframe tbody tr th:only-of-type {\n",
       "        vertical-align: middle;\n",
       "    }\n",
       "\n",
       "    .dataframe tbody tr th {\n",
       "        vertical-align: top;\n",
       "    }\n",
       "\n",
       "    .dataframe thead th {\n",
       "        text-align: right;\n",
       "    }\n",
       "</style>\n",
       "<table border=\"1\" class=\"dataframe\">\n",
       "  <thead>\n",
       "    <tr style=\"text-align: right;\">\n",
       "      <th></th>\n",
       "      <th>id</th>\n",
       "      <th>f0</th>\n",
       "      <th>f1</th>\n",
       "      <th>f2</th>\n",
       "      <th>product</th>\n",
       "    </tr>\n",
       "  </thead>\n",
       "  <tbody>\n",
       "    <tr>\n",
       "      <th>0</th>\n",
       "      <td>fwXo0</td>\n",
       "      <td>-1.146987</td>\n",
       "      <td>0.963328</td>\n",
       "      <td>-0.828965</td>\n",
       "      <td>27.758673</td>\n",
       "    </tr>\n",
       "    <tr>\n",
       "      <th>1</th>\n",
       "      <td>WJtFt</td>\n",
       "      <td>0.262778</td>\n",
       "      <td>0.269839</td>\n",
       "      <td>-2.530187</td>\n",
       "      <td>56.069697</td>\n",
       "    </tr>\n",
       "    <tr>\n",
       "      <th>2</th>\n",
       "      <td>ovLUW</td>\n",
       "      <td>0.194587</td>\n",
       "      <td>0.289035</td>\n",
       "      <td>-5.586433</td>\n",
       "      <td>62.871910</td>\n",
       "    </tr>\n",
       "    <tr>\n",
       "      <th>3</th>\n",
       "      <td>q6cA6</td>\n",
       "      <td>2.236060</td>\n",
       "      <td>-0.553760</td>\n",
       "      <td>0.930038</td>\n",
       "      <td>114.572842</td>\n",
       "    </tr>\n",
       "    <tr>\n",
       "      <th>4</th>\n",
       "      <td>WPMUX</td>\n",
       "      <td>-0.515993</td>\n",
       "      <td>1.716266</td>\n",
       "      <td>5.899011</td>\n",
       "      <td>149.600746</td>\n",
       "    </tr>\n",
       "    <tr>\n",
       "      <th>...</th>\n",
       "      <td>...</td>\n",
       "      <td>...</td>\n",
       "      <td>...</td>\n",
       "      <td>...</td>\n",
       "      <td>...</td>\n",
       "    </tr>\n",
       "    <tr>\n",
       "      <th>99995</th>\n",
       "      <td>4GxBu</td>\n",
       "      <td>-1.777037</td>\n",
       "      <td>1.125220</td>\n",
       "      <td>6.263374</td>\n",
       "      <td>172.327046</td>\n",
       "    </tr>\n",
       "    <tr>\n",
       "      <th>99996</th>\n",
       "      <td>YKFjq</td>\n",
       "      <td>-1.261523</td>\n",
       "      <td>-0.894828</td>\n",
       "      <td>2.524545</td>\n",
       "      <td>138.748846</td>\n",
       "    </tr>\n",
       "    <tr>\n",
       "      <th>99997</th>\n",
       "      <td>tKPY3</td>\n",
       "      <td>-1.199934</td>\n",
       "      <td>-2.957637</td>\n",
       "      <td>5.219411</td>\n",
       "      <td>157.080080</td>\n",
       "    </tr>\n",
       "    <tr>\n",
       "      <th>99998</th>\n",
       "      <td>nmxp2</td>\n",
       "      <td>-2.419896</td>\n",
       "      <td>2.417221</td>\n",
       "      <td>-5.548444</td>\n",
       "      <td>51.795253</td>\n",
       "    </tr>\n",
       "    <tr>\n",
       "      <th>99999</th>\n",
       "      <td>V9kWn</td>\n",
       "      <td>-2.551421</td>\n",
       "      <td>-2.025625</td>\n",
       "      <td>6.090891</td>\n",
       "      <td>102.775767</td>\n",
       "    </tr>\n",
       "  </tbody>\n",
       "</table>\n",
       "<p>100000 rows × 5 columns</p>\n",
       "</div>"
      ],
      "text/plain": [
       "          id        f0        f1        f2     product\n",
       "0      fwXo0 -1.146987  0.963328 -0.828965   27.758673\n",
       "1      WJtFt  0.262778  0.269839 -2.530187   56.069697\n",
       "2      ovLUW  0.194587  0.289035 -5.586433   62.871910\n",
       "3      q6cA6  2.236060 -0.553760  0.930038  114.572842\n",
       "4      WPMUX -0.515993  1.716266  5.899011  149.600746\n",
       "...      ...       ...       ...       ...         ...\n",
       "99995  4GxBu -1.777037  1.125220  6.263374  172.327046\n",
       "99996  YKFjq -1.261523 -0.894828  2.524545  138.748846\n",
       "99997  tKPY3 -1.199934 -2.957637  5.219411  157.080080\n",
       "99998  nmxp2 -2.419896  2.417221 -5.548444   51.795253\n",
       "99999  V9kWn -2.551421 -2.025625  6.090891  102.775767\n",
       "\n",
       "[100000 rows x 5 columns]"
      ]
     },
     "execution_count": 5,
     "metadata": {},
     "output_type": "execute_result"
    }
   ],
   "source": [
    "region_3"
   ]
  },
  {
   "cell_type": "code",
   "execution_count": 6,
   "metadata": {},
   "outputs": [
    {
     "data": {
      "text/plain": [
       "count    100000.000000\n",
       "mean         92.500000\n",
       "std          44.288691\n",
       "min           0.000000\n",
       "25%          56.497507\n",
       "50%          91.849972\n",
       "75%         128.564089\n",
       "max         185.364347\n",
       "Name: product, dtype: float64"
      ]
     },
     "execution_count": 6,
     "metadata": {},
     "output_type": "execute_result"
    }
   ],
   "source": [
    "region_1['product'].describe()"
   ]
  },
  {
   "cell_type": "code",
   "execution_count": 7,
   "metadata": {},
   "outputs": [
    {
     "data": {
      "text/plain": [
       "count    100000.000000\n",
       "mean         68.825000\n",
       "std          45.944423\n",
       "min           0.000000\n",
       "25%          26.953261\n",
       "50%          57.085625\n",
       "75%         107.813044\n",
       "max         137.945408\n",
       "Name: product, dtype: float64"
      ]
     },
     "execution_count": 7,
     "metadata": {},
     "output_type": "execute_result"
    }
   ],
   "source": [
    "region_2['product'].describe()"
   ]
  },
  {
   "cell_type": "code",
   "execution_count": 8,
   "metadata": {},
   "outputs": [
    {
     "data": {
      "text/plain": [
       "0.000000      8235\n",
       "3.179103      8337\n",
       "26.953261     8468\n",
       "30.132364     8306\n",
       "53.906522     8472\n",
       "57.085625     8390\n",
       "80.859783     8320\n",
       "84.038886     8431\n",
       "107.813044    8201\n",
       "110.992147    8303\n",
       "134.766305    8304\n",
       "137.945408    8233\n",
       "Name: product, dtype: int64"
      ]
     },
     "execution_count": 8,
     "metadata": {},
     "output_type": "execute_result"
    }
   ],
   "source": [
    "region_2['product'].value_counts().sort_index()"
   ]
  },
  {
   "cell_type": "code",
   "execution_count": 9,
   "metadata": {},
   "outputs": [
    {
     "data": {
      "text/plain": [
       "count    100000.000000\n",
       "mean         95.000000\n",
       "std          44.749921\n",
       "min           0.000000\n",
       "25%          59.450441\n",
       "50%          94.925613\n",
       "75%         130.595027\n",
       "max         190.029838\n",
       "Name: product, dtype: float64"
      ]
     },
     "execution_count": 9,
     "metadata": {},
     "output_type": "execute_result"
    }
   ],
   "source": [
    "region_3['product'].describe()"
   ]
  },
  {
   "cell_type": "code",
   "execution_count": 10,
   "metadata": {},
   "outputs": [
    {
     "name": "stdout",
     "output_type": "stream",
     "text": [
      "<class 'pandas.core.frame.DataFrame'>\n",
      "RangeIndex: 100000 entries, 0 to 99999\n",
      "Data columns (total 5 columns):\n",
      " #   Column   Non-Null Count   Dtype  \n",
      "---  ------   --------------   -----  \n",
      " 0   id       100000 non-null  object \n",
      " 1   f0       100000 non-null  float64\n",
      " 2   f1       100000 non-null  float64\n",
      " 3   f2       100000 non-null  float64\n",
      " 4   product  100000 non-null  float64\n",
      "dtypes: float64(4), object(1)\n",
      "memory usage: 3.8+ MB\n"
     ]
    }
   ],
   "source": [
    "region_1.info()"
   ]
  },
  {
   "cell_type": "code",
   "execution_count": 11,
   "metadata": {},
   "outputs": [
    {
     "name": "stdout",
     "output_type": "stream",
     "text": [
      "<class 'pandas.core.frame.DataFrame'>\n",
      "RangeIndex: 100000 entries, 0 to 99999\n",
      "Data columns (total 5 columns):\n",
      " #   Column   Non-Null Count   Dtype  \n",
      "---  ------   --------------   -----  \n",
      " 0   id       100000 non-null  object \n",
      " 1   f0       100000 non-null  float64\n",
      " 2   f1       100000 non-null  float64\n",
      " 3   f2       100000 non-null  float64\n",
      " 4   product  100000 non-null  float64\n",
      "dtypes: float64(4), object(1)\n",
      "memory usage: 3.8+ MB\n"
     ]
    }
   ],
   "source": [
    "region_2.info()"
   ]
  },
  {
   "cell_type": "code",
   "execution_count": 12,
   "metadata": {},
   "outputs": [
    {
     "name": "stdout",
     "output_type": "stream",
     "text": [
      "<class 'pandas.core.frame.DataFrame'>\n",
      "RangeIndex: 100000 entries, 0 to 99999\n",
      "Data columns (total 5 columns):\n",
      " #   Column   Non-Null Count   Dtype  \n",
      "---  ------   --------------   -----  \n",
      " 0   id       100000 non-null  object \n",
      " 1   f0       100000 non-null  float64\n",
      " 2   f1       100000 non-null  float64\n",
      " 3   f2       100000 non-null  float64\n",
      " 4   product  100000 non-null  float64\n",
      "dtypes: float64(4), object(1)\n",
      "memory usage: 3.8+ MB\n"
     ]
    }
   ],
   "source": [
    "region_3.info()"
   ]
  },
  {
   "cell_type": "code",
   "execution_count": 13,
   "metadata": {},
   "outputs": [
    {
     "data": {
      "image/png": "[encoded data removed]",
      "text/plain": [
       "<Figure size 640x480 with 1 Axes>"
      ]
     },
     "metadata": {},
     "output_type": "display_data"
    }
   ],
   "source": [
    "region_1_product = region_1['product']\n",
    "region_2_product = region_2['product']\n",
    "region_3_product = region_3['product']\n",
    "\n",
    "plt.boxplot([region_1_product, region_2_product, region_3_product], labels=['Product in Region 1', 'Product in Region 2', 'Product in Region 3'])\n",
    "plt.ylabel('Volume of Reserves (in Thousands of Barrels)')\n",
    "plt.title('Distribution of Volume of Reserves by Region')\n",
    "plt.show()"
   ]
  },
  {
   "cell_type": "markdown",
   "metadata": {},
   "source": [
    "The datasets contain data for 100k wells in each geographic region.  Specifically, each well is identified by a unique id, followed by 3 data points that provide specifics on each well's features, and the volume of reserves (in thousands of barrels) in each well.  All data is intact.  Data is primarily numerical with the exception of the unique well id.  Given this id is not needed for building a predictive model, I will drop this column in each dataset.\n",
    "\n",
    "On average, wells in region 3 contain the most oil (95k barrels), followed by region 1 (92.5k).  Wells in region 2 contain only around 2/3 as much on average (just under 69k).  Region 3 is also home to the oil well with the greatest volume of oil: just over 190k barrels.  The boxplot above, however, shows how close Region 1 and Region 3 are in terms of reserves.  Region 2, by volume alone, is unlikely to be a good choice for new wells given the comparatively low volume of its reserves."
   ]
  },
  {
   "cell_type": "code",
   "execution_count": 14,
   "metadata": {},
   "outputs": [
    {
     "data": {
      "text/plain": [
       "0"
      ]
     },
     "execution_count": 14,
     "metadata": {},
     "output_type": "execute_result"
    }
   ],
   "source": [
    "region_1.duplicated().sum()"
   ]
  },
  {
   "cell_type": "code",
   "execution_count": 15,
   "metadata": {},
   "outputs": [
    {
     "data": {
      "text/plain": [
       "0"
      ]
     },
     "execution_count": 15,
     "metadata": {},
     "output_type": "execute_result"
    }
   ],
   "source": [
    "region_2.duplicated().sum()"
   ]
  },
  {
   "cell_type": "code",
   "execution_count": 16,
   "metadata": {},
   "outputs": [
    {
     "data": {
      "text/plain": [
       "0"
      ]
     },
     "execution_count": 16,
     "metadata": {},
     "output_type": "execute_result"
    }
   ],
   "source": [
    "region_3.duplicated().sum()"
   ]
  },
  {
   "cell_type": "markdown",
   "metadata": {},
   "source": [
    "There are no fully duplicate rows.  I will also check the id column for duplicates."
   ]
  },
  {
   "cell_type": "code",
   "execution_count": 17,
   "metadata": {},
   "outputs": [
    {
     "data": {
      "text/plain": [
       "10"
      ]
     },
     "execution_count": 17,
     "metadata": {},
     "output_type": "execute_result"
    }
   ],
   "source": [
    "region_1.duplicated('id').sum()"
   ]
  },
  {
   "cell_type": "code",
   "execution_count": 18,
   "metadata": {},
   "outputs": [
    {
     "data": {
      "text/html": [
       "<div>\n",
       "<style scoped>\n",
       "    .dataframe tbody tr th:only-of-type {\n",
       "        vertical-align: middle;\n",
       "    }\n",
       "\n",
       "    .dataframe tbody tr th {\n",
       "        vertical-align: top;\n",
       "    }\n",
       "\n",
       "    .dataframe thead th {\n",
       "        text-align: right;\n",
       "    }\n",
       "</style>\n",
       "<table border=\"1\" class=\"dataframe\">\n",
       "  <thead>\n",
       "    <tr style=\"text-align: right;\">\n",
       "      <th></th>\n",
       "      <th>id</th>\n",
       "      <th>f0</th>\n",
       "      <th>f1</th>\n",
       "      <th>f2</th>\n",
       "      <th>product</th>\n",
       "    </tr>\n",
       "  </thead>\n",
       "  <tbody>\n",
       "    <tr>\n",
       "      <th>931</th>\n",
       "      <td>HZww2</td>\n",
       "      <td>0.755284</td>\n",
       "      <td>0.368511</td>\n",
       "      <td>1.863211</td>\n",
       "      <td>30.681774</td>\n",
       "    </tr>\n",
       "    <tr>\n",
       "      <th>1364</th>\n",
       "      <td>bxg6G</td>\n",
       "      <td>0.411645</td>\n",
       "      <td>0.856830</td>\n",
       "      <td>-3.653440</td>\n",
       "      <td>73.604260</td>\n",
       "    </tr>\n",
       "    <tr>\n",
       "      <th>1949</th>\n",
       "      <td>QcMuo</td>\n",
       "      <td>0.506563</td>\n",
       "      <td>-0.323775</td>\n",
       "      <td>-2.215583</td>\n",
       "      <td>75.496502</td>\n",
       "    </tr>\n",
       "    <tr>\n",
       "      <th>3389</th>\n",
       "      <td>A5aEY</td>\n",
       "      <td>-0.039949</td>\n",
       "      <td>0.156872</td>\n",
       "      <td>0.209861</td>\n",
       "      <td>89.249364</td>\n",
       "    </tr>\n",
       "    <tr>\n",
       "      <th>7530</th>\n",
       "      <td>HZww2</td>\n",
       "      <td>1.061194</td>\n",
       "      <td>-0.373969</td>\n",
       "      <td>10.430210</td>\n",
       "      <td>158.828695</td>\n",
       "    </tr>\n",
       "    <tr>\n",
       "      <th>16633</th>\n",
       "      <td>fiKDv</td>\n",
       "      <td>0.157341</td>\n",
       "      <td>1.028359</td>\n",
       "      <td>5.585586</td>\n",
       "      <td>95.817889</td>\n",
       "    </tr>\n",
       "    <tr>\n",
       "      <th>21426</th>\n",
       "      <td>Tdehs</td>\n",
       "      <td>0.829407</td>\n",
       "      <td>0.298807</td>\n",
       "      <td>-0.049563</td>\n",
       "      <td>96.035308</td>\n",
       "    </tr>\n",
       "    <tr>\n",
       "      <th>41724</th>\n",
       "      <td>bxg6G</td>\n",
       "      <td>-0.823752</td>\n",
       "      <td>0.546319</td>\n",
       "      <td>3.630479</td>\n",
       "      <td>93.007798</td>\n",
       "    </tr>\n",
       "    <tr>\n",
       "      <th>42529</th>\n",
       "      <td>AGS9W</td>\n",
       "      <td>1.454747</td>\n",
       "      <td>-0.479651</td>\n",
       "      <td>0.683380</td>\n",
       "      <td>126.370504</td>\n",
       "    </tr>\n",
       "    <tr>\n",
       "      <th>51970</th>\n",
       "      <td>A5aEY</td>\n",
       "      <td>-0.180335</td>\n",
       "      <td>0.935548</td>\n",
       "      <td>-2.094773</td>\n",
       "      <td>33.020205</td>\n",
       "    </tr>\n",
       "    <tr>\n",
       "      <th>60140</th>\n",
       "      <td>TtcGQ</td>\n",
       "      <td>0.569276</td>\n",
       "      <td>-0.104876</td>\n",
       "      <td>6.440215</td>\n",
       "      <td>85.350186</td>\n",
       "    </tr>\n",
       "    <tr>\n",
       "      <th>63593</th>\n",
       "      <td>QcMuo</td>\n",
       "      <td>0.635635</td>\n",
       "      <td>-0.473422</td>\n",
       "      <td>0.862670</td>\n",
       "      <td>64.578675</td>\n",
       "    </tr>\n",
       "    <tr>\n",
       "      <th>64022</th>\n",
       "      <td>74z30</td>\n",
       "      <td>0.741456</td>\n",
       "      <td>0.459229</td>\n",
       "      <td>5.153109</td>\n",
       "      <td>140.771492</td>\n",
       "    </tr>\n",
       "    <tr>\n",
       "      <th>66136</th>\n",
       "      <td>74z30</td>\n",
       "      <td>1.084962</td>\n",
       "      <td>-0.312358</td>\n",
       "      <td>6.990771</td>\n",
       "      <td>127.643327</td>\n",
       "    </tr>\n",
       "    <tr>\n",
       "      <th>69163</th>\n",
       "      <td>AGS9W</td>\n",
       "      <td>-0.933795</td>\n",
       "      <td>0.116194</td>\n",
       "      <td>-3.655896</td>\n",
       "      <td>19.230453</td>\n",
       "    </tr>\n",
       "    <tr>\n",
       "      <th>75715</th>\n",
       "      <td>Tdehs</td>\n",
       "      <td>0.112079</td>\n",
       "      <td>0.430296</td>\n",
       "      <td>3.218993</td>\n",
       "      <td>60.964018</td>\n",
       "    </tr>\n",
       "    <tr>\n",
       "      <th>89582</th>\n",
       "      <td>bsk9y</td>\n",
       "      <td>0.398908</td>\n",
       "      <td>-0.400253</td>\n",
       "      <td>10.122376</td>\n",
       "      <td>163.433078</td>\n",
       "    </tr>\n",
       "    <tr>\n",
       "      <th>90815</th>\n",
       "      <td>fiKDv</td>\n",
       "      <td>0.049883</td>\n",
       "      <td>0.841313</td>\n",
       "      <td>6.394613</td>\n",
       "      <td>137.346586</td>\n",
       "    </tr>\n",
       "    <tr>\n",
       "      <th>92341</th>\n",
       "      <td>TtcGQ</td>\n",
       "      <td>0.110711</td>\n",
       "      <td>1.022689</td>\n",
       "      <td>0.911381</td>\n",
       "      <td>101.318008</td>\n",
       "    </tr>\n",
       "    <tr>\n",
       "      <th>97785</th>\n",
       "      <td>bsk9y</td>\n",
       "      <td>0.378429</td>\n",
       "      <td>0.005837</td>\n",
       "      <td>0.160827</td>\n",
       "      <td>160.637302</td>\n",
       "    </tr>\n",
       "  </tbody>\n",
       "</table>\n",
       "</div>"
      ],
      "text/plain": [
       "          id        f0        f1         f2     product\n",
       "931    HZww2  0.755284  0.368511   1.863211   30.681774\n",
       "1364   bxg6G  0.411645  0.856830  -3.653440   73.604260\n",
       "1949   QcMuo  0.506563 -0.323775  -2.215583   75.496502\n",
       "3389   A5aEY -0.039949  0.156872   0.209861   89.249364\n",
       "7530   HZww2  1.061194 -0.373969  10.430210  158.828695\n",
       "16633  fiKDv  0.157341  1.028359   5.585586   95.817889\n",
       "21426  Tdehs  0.829407  0.298807  -0.049563   96.035308\n",
       "41724  bxg6G -0.823752  0.546319   3.630479   93.007798\n",
       "42529  AGS9W  1.454747 -0.479651   0.683380  126.370504\n",
       "51970  A5aEY -0.180335  0.935548  -2.094773   33.020205\n",
       "60140  TtcGQ  0.569276 -0.104876   6.440215   85.350186\n",
       "63593  QcMuo  0.635635 -0.473422   0.862670   64.578675\n",
       "64022  74z30  0.741456  0.459229   5.153109  140.771492\n",
       "66136  74z30  1.084962 -0.312358   6.990771  127.643327\n",
       "69163  AGS9W -0.933795  0.116194  -3.655896   19.230453\n",
       "75715  Tdehs  0.112079  0.430296   3.218993   60.964018\n",
       "89582  bsk9y  0.398908 -0.400253  10.122376  163.433078\n",
       "90815  fiKDv  0.049883  0.841313   6.394613  137.346586\n",
       "92341  TtcGQ  0.110711  1.022689   0.911381  101.318008\n",
       "97785  bsk9y  0.378429  0.005837   0.160827  160.637302"
      ]
     },
     "execution_count": 18,
     "metadata": {},
     "output_type": "execute_result"
    }
   ],
   "source": [
    "region_1[region_1.duplicated(subset='id', keep=False)]"
   ]
  },
  {
   "cell_type": "markdown",
   "metadata": {},
   "source": [
    "Given that the ids seem to be assigned to different rows with very different values, this seems to just be a strange coincidence.  It would definitely be worth contacting the data owner to find out why this happened and get additional details about these wells.  However, for now, I will leave them in the dataset as they are clearly associated with different locations.  The team can reach out to the data owner before well production begins, especially if any of these IDs are associated with the 200 final well locations the team decides upon."
   ]
  },
  {
   "cell_type": "code",
   "execution_count": 19,
   "metadata": {},
   "outputs": [
    {
     "data": {
      "text/plain": [
       "4"
      ]
     },
     "execution_count": 19,
     "metadata": {},
     "output_type": "execute_result"
    }
   ],
   "source": [
    "region_2.duplicated('id').sum()"
   ]
  },
  {
   "cell_type": "code",
   "execution_count": 20,
   "metadata": {},
   "outputs": [
    {
     "data": {
      "text/html": [
       "<div>\n",
       "<style scoped>\n",
       "    .dataframe tbody tr th:only-of-type {\n",
       "        vertical-align: middle;\n",
       "    }\n",
       "\n",
       "    .dataframe tbody tr th {\n",
       "        vertical-align: top;\n",
       "    }\n",
       "\n",
       "    .dataframe thead th {\n",
       "        text-align: right;\n",
       "    }\n",
       "</style>\n",
       "<table border=\"1\" class=\"dataframe\">\n",
       "  <thead>\n",
       "    <tr style=\"text-align: right;\">\n",
       "      <th></th>\n",
       "      <th>id</th>\n",
       "      <th>f0</th>\n",
       "      <th>f1</th>\n",
       "      <th>f2</th>\n",
       "      <th>product</th>\n",
       "    </tr>\n",
       "  </thead>\n",
       "  <tbody>\n",
       "    <tr>\n",
       "      <th>1305</th>\n",
       "      <td>LHZR0</td>\n",
       "      <td>11.170835</td>\n",
       "      <td>-1.945066</td>\n",
       "      <td>3.002872</td>\n",
       "      <td>80.859783</td>\n",
       "    </tr>\n",
       "    <tr>\n",
       "      <th>2721</th>\n",
       "      <td>bfPNe</td>\n",
       "      <td>-9.494442</td>\n",
       "      <td>-5.463692</td>\n",
       "      <td>4.006042</td>\n",
       "      <td>110.992147</td>\n",
       "    </tr>\n",
       "    <tr>\n",
       "      <th>5849</th>\n",
       "      <td>5ltQ6</td>\n",
       "      <td>-3.435401</td>\n",
       "      <td>-12.296043</td>\n",
       "      <td>1.999796</td>\n",
       "      <td>57.085625</td>\n",
       "    </tr>\n",
       "    <tr>\n",
       "      <th>41906</th>\n",
       "      <td>LHZR0</td>\n",
       "      <td>-8.989672</td>\n",
       "      <td>-4.286607</td>\n",
       "      <td>2.009139</td>\n",
       "      <td>57.085625</td>\n",
       "    </tr>\n",
       "    <tr>\n",
       "      <th>47591</th>\n",
       "      <td>wt4Uk</td>\n",
       "      <td>-9.091098</td>\n",
       "      <td>-8.109279</td>\n",
       "      <td>-0.002314</td>\n",
       "      <td>3.179103</td>\n",
       "    </tr>\n",
       "    <tr>\n",
       "      <th>82178</th>\n",
       "      <td>bfPNe</td>\n",
       "      <td>-6.202799</td>\n",
       "      <td>-4.820045</td>\n",
       "      <td>2.995107</td>\n",
       "      <td>84.038886</td>\n",
       "    </tr>\n",
       "    <tr>\n",
       "      <th>82873</th>\n",
       "      <td>wt4Uk</td>\n",
       "      <td>10.259972</td>\n",
       "      <td>-9.376355</td>\n",
       "      <td>4.994297</td>\n",
       "      <td>134.766305</td>\n",
       "    </tr>\n",
       "    <tr>\n",
       "      <th>84461</th>\n",
       "      <td>5ltQ6</td>\n",
       "      <td>18.213839</td>\n",
       "      <td>2.191999</td>\n",
       "      <td>3.993869</td>\n",
       "      <td>107.813044</td>\n",
       "    </tr>\n",
       "  </tbody>\n",
       "</table>\n",
       "</div>"
      ],
      "text/plain": [
       "          id         f0         f1        f2     product\n",
       "1305   LHZR0  11.170835  -1.945066  3.002872   80.859783\n",
       "2721   bfPNe  -9.494442  -5.463692  4.006042  110.992147\n",
       "5849   5ltQ6  -3.435401 -12.296043  1.999796   57.085625\n",
       "41906  LHZR0  -8.989672  -4.286607  2.009139   57.085625\n",
       "47591  wt4Uk  -9.091098  -8.109279 -0.002314    3.179103\n",
       "82178  bfPNe  -6.202799  -4.820045  2.995107   84.038886\n",
       "82873  wt4Uk  10.259972  -9.376355  4.994297  134.766305\n",
       "84461  5ltQ6  18.213839   2.191999  3.993869  107.813044"
      ]
     },
     "execution_count": 20,
     "metadata": {},
     "output_type": "execute_result"
    }
   ],
   "source": [
    "region_2[region_2.duplicated(subset='id', keep=False)]"
   ]
  },
  {
   "cell_type": "code",
   "execution_count": 21,
   "metadata": {},
   "outputs": [
    {
     "data": {
      "text/plain": [
       "4"
      ]
     },
     "execution_count": 21,
     "metadata": {},
     "output_type": "execute_result"
    }
   ],
   "source": [
    "region_3.duplicated('id').sum()"
   ]
  },
  {
   "cell_type": "code",
   "execution_count": 22,
   "metadata": {},
   "outputs": [
    {
     "data": {
      "text/html": [
       "<div>\n",
       "<style scoped>\n",
       "    .dataframe tbody tr th:only-of-type {\n",
       "        vertical-align: middle;\n",
       "    }\n",
       "\n",
       "    .dataframe tbody tr th {\n",
       "        vertical-align: top;\n",
       "    }\n",
       "\n",
       "    .dataframe thead th {\n",
       "        text-align: right;\n",
       "    }\n",
       "</style>\n",
       "<table border=\"1\" class=\"dataframe\">\n",
       "  <thead>\n",
       "    <tr style=\"text-align: right;\">\n",
       "      <th></th>\n",
       "      <th>id</th>\n",
       "      <th>f0</th>\n",
       "      <th>f1</th>\n",
       "      <th>f2</th>\n",
       "      <th>product</th>\n",
       "    </tr>\n",
       "  </thead>\n",
       "  <tbody>\n",
       "    <tr>\n",
       "      <th>11449</th>\n",
       "      <td>VF7Jo</td>\n",
       "      <td>2.122656</td>\n",
       "      <td>-0.858275</td>\n",
       "      <td>5.746001</td>\n",
       "      <td>181.716817</td>\n",
       "    </tr>\n",
       "    <tr>\n",
       "      <th>28039</th>\n",
       "      <td>xCHr8</td>\n",
       "      <td>1.633027</td>\n",
       "      <td>0.368135</td>\n",
       "      <td>-2.378367</td>\n",
       "      <td>6.120525</td>\n",
       "    </tr>\n",
       "    <tr>\n",
       "      <th>43233</th>\n",
       "      <td>xCHr8</td>\n",
       "      <td>-0.847066</td>\n",
       "      <td>2.101796</td>\n",
       "      <td>5.597130</td>\n",
       "      <td>184.388641</td>\n",
       "    </tr>\n",
       "    <tr>\n",
       "      <th>44378</th>\n",
       "      <td>Vcm5J</td>\n",
       "      <td>-1.229484</td>\n",
       "      <td>-2.439204</td>\n",
       "      <td>1.222909</td>\n",
       "      <td>137.968290</td>\n",
       "    </tr>\n",
       "    <tr>\n",
       "      <th>45404</th>\n",
       "      <td>KUPhW</td>\n",
       "      <td>0.231846</td>\n",
       "      <td>-1.698941</td>\n",
       "      <td>4.990775</td>\n",
       "      <td>11.716299</td>\n",
       "    </tr>\n",
       "    <tr>\n",
       "      <th>49564</th>\n",
       "      <td>VF7Jo</td>\n",
       "      <td>-0.883115</td>\n",
       "      <td>0.560537</td>\n",
       "      <td>0.723601</td>\n",
       "      <td>136.233420</td>\n",
       "    </tr>\n",
       "    <tr>\n",
       "      <th>55967</th>\n",
       "      <td>KUPhW</td>\n",
       "      <td>1.211150</td>\n",
       "      <td>3.176408</td>\n",
       "      <td>5.543540</td>\n",
       "      <td>132.831802</td>\n",
       "    </tr>\n",
       "    <tr>\n",
       "      <th>95090</th>\n",
       "      <td>Vcm5J</td>\n",
       "      <td>2.587702</td>\n",
       "      <td>1.986875</td>\n",
       "      <td>2.482245</td>\n",
       "      <td>92.327572</td>\n",
       "    </tr>\n",
       "  </tbody>\n",
       "</table>\n",
       "</div>"
      ],
      "text/plain": [
       "          id        f0        f1        f2     product\n",
       "11449  VF7Jo  2.122656 -0.858275  5.746001  181.716817\n",
       "28039  xCHr8  1.633027  0.368135 -2.378367    6.120525\n",
       "43233  xCHr8 -0.847066  2.101796  5.597130  184.388641\n",
       "44378  Vcm5J -1.229484 -2.439204  1.222909  137.968290\n",
       "45404  KUPhW  0.231846 -1.698941  4.990775   11.716299\n",
       "49564  VF7Jo -0.883115  0.560537  0.723601  136.233420\n",
       "55967  KUPhW  1.211150  3.176408  5.543540  132.831802\n",
       "95090  Vcm5J  2.587702  1.986875  2.482245   92.327572"
      ]
     },
     "execution_count": 22,
     "metadata": {},
     "output_type": "execute_result"
    }
   ],
   "source": [
    "region_3[region_3.duplicated(subset='id', keep=False)]"
   ]
  },
  {
   "cell_type": "markdown",
   "metadata": {},
   "source": [
    "The same duplicate id problem occurs in the other two datasets, but for now, it seems best to leave them intact, as explained above."
   ]
  },
  {
   "cell_type": "markdown",
   "metadata": {},
   "source": [
    "The data is now ready for beginning to build predictive models.  In the next section, I will build, train, and test a model for each region.\n",
    "\n",
    "## Training and Testing Regional Models\n",
    "For each region, I will train and test a model to help determine the ideal placement for new, profitable wells.\n",
    "### Splitting Data\n",
    "I will first identify the features and target value for each region.  Then, I will split the data into a training and validation set at a ratio of 75:25."
   ]
  },
  {
   "cell_type": "code",
   "execution_count": 23,
   "metadata": {},
   "outputs": [],
   "source": [
    "#features & target value\n",
    "#region 1\n",
    "features_1 = region_1.drop(['id', 'product'], axis=1)\n",
    "target_1 = region_1['product']\n",
    "\n",
    "#region 2\n",
    "features_2 = region_2.drop(['id', 'product'], axis=1)\n",
    "target_2 = region_2['product']\n",
    "\n",
    "#region 3\n",
    "features_3 = region_3.drop(['id', 'product'], axis=1)\n",
    "target_3 = region_3['product']"
   ]
  },
  {
   "cell_type": "code",
   "execution_count": null,
   "metadata": {},
   "outputs": [],
   "source": [
    "#training & validation sets\n",
    "#region 1\n",
    "train_features_1, valid_features_1, train_target_1, valid_target_1 = train_test_split(features_1, target_1, test_size=0.25, random_state=21)\n",
    "\n",
    "#region 2\n",
    "train_features_2, valid_features_2, train_target_2, valid_target_2 = train_test_split(features_2, target_2, test_size=0.25, random_state=21)\n",
    "\n",
    "#region 3\n",
    "train_features_3, valid_features_3, train_target_3, valid_target_3 = train_test_split(features_3, target_3, test_size=0.25, random_state=21)"
   ]
  },
  {
   "cell_type": "markdown",
   "metadata": {},
   "source": [
    "### Training the Model & Making Predictions\n",
    "In this section, I will build a linear regression model for each region as it is the most predictable model in this instance.  Because linear regression is sensitive to the scale of input features, I will normalize the features before training the models."
   ]
  },
  {
   "cell_type": "code",
   "execution_count": 25,
   "metadata": {},
   "outputs": [],
   "source": [
    "scaler = StandardScaler()\n",
    "\n",
    "train_features_1 = scaler.fit_transform(train_features_1)\n",
    "valid_features_1 = scaler.transform(valid_features_1)\n",
    "train_features_2 = scaler.fit_transform(train_features_2)\n",
    "valid_features_2 = scaler.transform(valid_features_2)\n",
    "train_features_3 = scaler.fit_transform(train_features_3)\n",
    "valid_features_3 = scaler.transform(valid_features_3)"
   ]
  },
  {
   "cell_type": "code",
   "execution_count": 26,
   "metadata": {},
   "outputs": [],
   "source": [
    "model = LinearRegression()\n",
    "\n",
    "#model for region 1\n",
    "model_1 = model.fit(train_features_1, train_target_1)\n",
    "predict_1 = model_1.predict(valid_features_1)\n",
    "\n",
    "#model for region 2\n",
    "model_2 = model.fit(train_features_2, train_target_2)\n",
    "predict_2 = model_2.predict(valid_features_2)\n",
    "\n",
    "#model for region 3\n",
    "model_3 = model.fit(train_features_3, train_target_3)\n",
    "predict_3 = model_3.predict(valid_features_3)"
   ]
  },
  {
   "cell_type": "markdown",
   "metadata": {},
   "source": [
    "### Correct Answers\n",
    "Predictions are saved in their corresponding variable above: predict_x.  Correct answers for each region are renamed below for simplicity in code going forward:"
   ]
  },
  {
   "cell_type": "code",
   "execution_count": 27,
   "metadata": {},
   "outputs": [],
   "source": [
    "correct_1 = valid_target_1.copy()\n",
    "correct_2 = valid_target_2.copy()\n",
    "correct_3 = valid_target_3.copy()"
   ]
  },
  {
   "cell_type": "code",
   "execution_count": 28,
   "metadata": {},
   "outputs": [
    {
     "data": {
      "text/html": [
       "<div>\n",
       "<style scoped>\n",
       "    .dataframe tbody tr th:only-of-type {\n",
       "        vertical-align: middle;\n",
       "    }\n",
       "\n",
       "    .dataframe tbody tr th {\n",
       "        vertical-align: top;\n",
       "    }\n",
       "\n",
       "    .dataframe thead th {\n",
       "        text-align: right;\n",
       "    }\n",
       "</style>\n",
       "<table border=\"1\" class=\"dataframe\">\n",
       "  <thead>\n",
       "    <tr style=\"text-align: right;\">\n",
       "      <th></th>\n",
       "      <th>A</th>\n",
       "      <th>B</th>\n",
       "    </tr>\n",
       "  </thead>\n",
       "  <tbody>\n",
       "    <tr>\n",
       "      <th>0</th>\n",
       "      <td>1</td>\n",
       "      <td>3</td>\n",
       "    </tr>\n",
       "    <tr>\n",
       "      <th>1</th>\n",
       "      <td>2</td>\n",
       "      <td>3</td>\n",
       "    </tr>\n",
       "    <tr>\n",
       "      <th>2</th>\n",
       "      <td>4</td>\n",
       "      <td>5</td>\n",
       "    </tr>\n",
       "  </tbody>\n",
       "</table>\n",
       "</div>"
      ],
      "text/plain": [
       "   A  B\n",
       "0  1  3\n",
       "1  2  3\n",
       "2  4  5"
      ]
     },
     "metadata": {},
     "output_type": "display_data"
    },
    {
     "data": {
      "text/html": [
       "<div>\n",
       "<style scoped>\n",
       "    .dataframe tbody tr th:only-of-type {\n",
       "        vertical-align: middle;\n",
       "    }\n",
       "\n",
       "    .dataframe tbody tr th {\n",
       "        vertical-align: top;\n",
       "    }\n",
       "\n",
       "    .dataframe thead th {\n",
       "        text-align: right;\n",
       "    }\n",
       "</style>\n",
       "<table border=\"1\" class=\"dataframe\">\n",
       "  <thead>\n",
       "    <tr style=\"text-align: right;\">\n",
       "      <th></th>\n",
       "      <th>A</th>\n",
       "      <th>B</th>\n",
       "    </tr>\n",
       "  </thead>\n",
       "  <tbody>\n",
       "    <tr>\n",
       "      <th>0</th>\n",
       "      <td>1</td>\n",
       "      <td>3</td>\n",
       "    </tr>\n",
       "    <tr>\n",
       "      <th>1</th>\n",
       "      <td>2</td>\n",
       "      <td>3</td>\n",
       "    </tr>\n",
       "    <tr>\n",
       "      <th>2</th>\n",
       "      <td>4</td>\n",
       "      <td>5</td>\n",
       "    </tr>\n",
       "  </tbody>\n",
       "</table>\n",
       "</div>"
      ],
      "text/plain": [
       "   A  B\n",
       "0  1  3\n",
       "1  2  3\n",
       "2  4  5"
      ]
     },
     "metadata": {},
     "output_type": "display_data"
    },
    {
     "data": {
      "text/html": [
       "<div>\n",
       "<style scoped>\n",
       "    .dataframe tbody tr th:only-of-type {\n",
       "        vertical-align: middle;\n",
       "    }\n",
       "\n",
       "    .dataframe tbody tr th {\n",
       "        vertical-align: top;\n",
       "    }\n",
       "\n",
       "    .dataframe thead th {\n",
       "        text-align: right;\n",
       "    }\n",
       "</style>\n",
       "<table border=\"1\" class=\"dataframe\">\n",
       "  <thead>\n",
       "    <tr style=\"text-align: right;\">\n",
       "      <th></th>\n",
       "      <th>A</th>\n",
       "      <th>B</th>\n",
       "    </tr>\n",
       "  </thead>\n",
       "  <tbody>\n",
       "    <tr>\n",
       "      <th>0</th>\n",
       "      <td>1</td>\n",
       "      <td>3</td>\n",
       "    </tr>\n",
       "    <tr>\n",
       "      <th>1</th>\n",
       "      <td>2</td>\n",
       "      <td>3</td>\n",
       "    </tr>\n",
       "    <tr>\n",
       "      <th>2</th>\n",
       "      <td>4</td>\n",
       "      <td>5</td>\n",
       "    </tr>\n",
       "  </tbody>\n",
       "</table>\n",
       "</div>"
      ],
      "text/plain": [
       "   A  B\n",
       "0  1  3\n",
       "1  2  3\n",
       "2  4  5"
      ]
     },
     "metadata": {},
     "output_type": "display_data"
    }
   ],
   "source": [
    "# Reviewer's code 1.1\n",
    "\n",
    "l = {'A':[1,2,4], 'B':[3,3,5]}\n",
    "\n",
    "df1 = pd.DataFrame(l)\n",
    "\n",
    "df2 = df1\n",
    "\n",
    "df3 = df1.copy() \n",
    "\n",
    "display(df1, df2, df3)"
   ]
  },
  {
   "cell_type": "code",
   "execution_count": 29,
   "metadata": {},
   "outputs": [
    {
     "data": {
      "text/html": [
       "<div>\n",
       "<style scoped>\n",
       "    .dataframe tbody tr th:only-of-type {\n",
       "        vertical-align: middle;\n",
       "    }\n",
       "\n",
       "    .dataframe tbody tr th {\n",
       "        vertical-align: top;\n",
       "    }\n",
       "\n",
       "    .dataframe thead th {\n",
       "        text-align: right;\n",
       "    }\n",
       "</style>\n",
       "<table border=\"1\" class=\"dataframe\">\n",
       "  <thead>\n",
       "    <tr style=\"text-align: right;\">\n",
       "      <th></th>\n",
       "      <th>A</th>\n",
       "      <th>B</th>\n",
       "    </tr>\n",
       "  </thead>\n",
       "  <tbody>\n",
       "    <tr>\n",
       "      <th>0</th>\n",
       "      <td>change2</td>\n",
       "      <td>3</td>\n",
       "    </tr>\n",
       "    <tr>\n",
       "      <th>1</th>\n",
       "      <td>2</td>\n",
       "      <td>3</td>\n",
       "    </tr>\n",
       "    <tr>\n",
       "      <th>2</th>\n",
       "      <td>4</td>\n",
       "      <td>5</td>\n",
       "    </tr>\n",
       "  </tbody>\n",
       "</table>\n",
       "</div>"
      ],
      "text/plain": [
       "         A  B\n",
       "0  change2  3\n",
       "1        2  3\n",
       "2        4  5"
      ]
     },
     "metadata": {},
     "output_type": "display_data"
    },
    {
     "data": {
      "text/html": [
       "<div>\n",
       "<style scoped>\n",
       "    .dataframe tbody tr th:only-of-type {\n",
       "        vertical-align: middle;\n",
       "    }\n",
       "\n",
       "    .dataframe tbody tr th {\n",
       "        vertical-align: top;\n",
       "    }\n",
       "\n",
       "    .dataframe thead th {\n",
       "        text-align: right;\n",
       "    }\n",
       "</style>\n",
       "<table border=\"1\" class=\"dataframe\">\n",
       "  <thead>\n",
       "    <tr style=\"text-align: right;\">\n",
       "      <th></th>\n",
       "      <th>A</th>\n",
       "      <th>B</th>\n",
       "    </tr>\n",
       "  </thead>\n",
       "  <tbody>\n",
       "    <tr>\n",
       "      <th>0</th>\n",
       "      <td>change2</td>\n",
       "      <td>3</td>\n",
       "    </tr>\n",
       "    <tr>\n",
       "      <th>1</th>\n",
       "      <td>2</td>\n",
       "      <td>3</td>\n",
       "    </tr>\n",
       "    <tr>\n",
       "      <th>2</th>\n",
       "      <td>4</td>\n",
       "      <td>5</td>\n",
       "    </tr>\n",
       "  </tbody>\n",
       "</table>\n",
       "</div>"
      ],
      "text/plain": [
       "         A  B\n",
       "0  change2  3\n",
       "1        2  3\n",
       "2        4  5"
      ]
     },
     "metadata": {},
     "output_type": "display_data"
    },
    {
     "data": {
      "text/html": [
       "<div>\n",
       "<style scoped>\n",
       "    .dataframe tbody tr th:only-of-type {\n",
       "        vertical-align: middle;\n",
       "    }\n",
       "\n",
       "    .dataframe tbody tr th {\n",
       "        vertical-align: top;\n",
       "    }\n",
       "\n",
       "    .dataframe thead th {\n",
       "        text-align: right;\n",
       "    }\n",
       "</style>\n",
       "<table border=\"1\" class=\"dataframe\">\n",
       "  <thead>\n",
       "    <tr style=\"text-align: right;\">\n",
       "      <th></th>\n",
       "      <th>A</th>\n",
       "      <th>B</th>\n",
       "    </tr>\n",
       "  </thead>\n",
       "  <tbody>\n",
       "    <tr>\n",
       "      <th>0</th>\n",
       "      <td>1</td>\n",
       "      <td>3</td>\n",
       "    </tr>\n",
       "    <tr>\n",
       "      <th>1</th>\n",
       "      <td>change3</td>\n",
       "      <td>3</td>\n",
       "    </tr>\n",
       "    <tr>\n",
       "      <th>2</th>\n",
       "      <td>4</td>\n",
       "      <td>5</td>\n",
       "    </tr>\n",
       "  </tbody>\n",
       "</table>\n",
       "</div>"
      ],
      "text/plain": [
       "         A  B\n",
       "0        1  3\n",
       "1  change3  3\n",
       "2        4  5"
      ]
     },
     "metadata": {},
     "output_type": "display_data"
    }
   ],
   "source": [
    "# Reviewer's code 1.2\n",
    "\n",
    "df2.loc[0, 'A'] = 'change2'\n",
    "\n",
    "df3.loc[1, 'A'] = 'change3'\n",
    "\n",
    "display(df1, df2, df3)"
   ]
  },
  {
   "cell_type": "markdown",
   "metadata": {},
   "source": [
    "### Average Volume of Predicted Reserves & Model RMSE\n",
    "First, I will calculate the average volume of predicted reserves for each region.  Then, I will calculate the model's root mean squared error to gain insight into how accurate these predictions are."
   ]
  },
  {
   "cell_type": "code",
   "execution_count": 30,
   "metadata": {},
   "outputs": [
    {
     "name": "stdout",
     "output_type": "stream",
     "text": [
      "The average volume of predicted reserves in Region 1 is 92.59328351703151\n",
      "The average volume of predicted reserves in Region 2 is 68.62481567708402\n",
      "The average volume of predicted reserves in Region 3 is 95.12464975101973\n"
     ]
    }
   ],
   "source": [
    "avg_rsv_1 = predict_1.mean()\n",
    "avg_rsv_2 = predict_2.mean()\n",
    "avg_rsv_3 = predict_3.mean()\n",
    "\n",
    "print('The average volume of predicted reserves in Region 1 is', avg_rsv_1)\n",
    "print('The average volume of predicted reserves in Region 2 is', avg_rsv_2)\n",
    "print('The average volume of predicted reserves in Region 3 is', avg_rsv_3)"
   ]
  },
  {
   "cell_type": "markdown",
   "metadata": {},
   "source": [
    "The average volume of predicted reserves is very similar to the average volume for each data set calculated above.  I will verify the accuracy of these predictions by calculating the RMSE."
   ]
  },
  {
   "cell_type": "code",
   "execution_count": 31,
   "metadata": {},
   "outputs": [
    {
     "name": "stdout",
     "output_type": "stream",
     "text": [
      "The RMSE of the model for Region 1 is 37.88444219106963\n",
      "The RMSE of the model for Region 2 is 0.887448352297974\n",
      "The RMSE of the model for Region 3 is 40.09564551166241\n"
     ]
    }
   ],
   "source": [
    "rmse_1 = mean_squared_error(correct_1, predict_1) ** 0.5\n",
    "rmse_2 = mean_squared_error(correct_2, predict_2) ** 0.5\n",
    "rmse_3 = mean_squared_error(correct_3, predict_3) ** 0.5\n",
    "\n",
    "print('The RMSE of the model for Region 1 is', rmse_1)\n",
    "print('The RMSE of the model for Region 2 is', rmse_2)\n",
    "print('The RMSE of the model for Region 3 is', rmse_3)"
   ]
  },
  {
   "cell_type": "markdown",
   "metadata": {},
   "source": [
    "The model for Region 2 is very accurate.  The models for regions 1 and 3 are less accurate, though this may be due to the fact that the range for those datasets is larger."
   ]
  },
  {
   "cell_type": "markdown",
   "metadata": {},
   "source": [
    "### Analysis\n",
    "Based on initial runs of the models, wells in Region 3 have the highest average volume of predicted reserves (95k), followed closely by Region 1 (93k).  However, while Region 2 has lower average predicted reserves (69k), the model is significantly more accurate compared to the models for Regions 1 and 3.\n",
    "\n",
    "## Calculating Potential Profit\n",
    "I will now calculate potential profit for each region.\n",
    "### Key Values\n",
    "To make calculations easier, I will first establish key value variables for calculating the return on investment.  Before OilyGiant invests in drilling a new well, the company needs to ensure that the well will provide a positive return on investment.  Due to lack of information on operating costs, taxes, etc, these calculations will use a modified ROI calculation that uses only known revenue and investment figures."
   ]
  },
  {
   "cell_type": "code",
   "execution_count": 32,
   "metadata": {},
   "outputs": [],
   "source": [
    "#Constants\n",
    "INVESTMENT = 100_000_000\n",
    "WELLS = 200\n",
    "REVENUE = 4500 #usd per thousand barrels\n",
    "COST_PER_WELL = INVESTMENT / WELLS"
   ]
  },
  {
   "cell_type": "markdown",
   "metadata": {},
   "source": [
    "### Calculating Reserves Needed to Justify Development \n",
    "Using these key values, I will now calculate what volume of reserves are needed to justify potential development.  Then, I will compare this against the predictions created by the models above."
   ]
  },
  {
   "cell_type": "code",
   "execution_count": 33,
   "metadata": {},
   "outputs": [
    {
     "name": "stdout",
     "output_type": "stream",
     "text": [
      "The minimum volume for regional wells to make a profit is: 111.11 thousand barrels.\n"
     ]
    }
   ],
   "source": [
    "POS_ROI = COST_PER_WELL / REVENUE\n",
    "print(f'The minimum volume for regional wells to make a profit is: {POS_ROI:.2f} thousand barrels.')"
   ]
  },
  {
   "cell_type": "markdown",
   "metadata": {},
   "source": [
    "### Findings\n",
    "Looking at just averages, none of the regions are prime for profitable development: all have an average well output of under 111k barrels.  However, this number is just an average.  Some wells produce more than others and a region may still be profitable even if its wells' average volume is less than 111k.  Given the company does not plan to drill more than 200 wells in a given area, this finding is not proscriptive.  In further steps, calculations will only focus on wells with high predicted reserves.\n",
    "\n",
    "## Calculating Potential Profit\n",
    "### Selecting Most Profitable Wells\n",
    "Given that the company only plans to drill 200 wells in a region, I will write a function calculating potential profits for only those 200 wells."
   ]
  },
  {
   "cell_type": "code",
   "execution_count": 34,
   "metadata": {},
   "outputs": [
    {
     "name": "stdout",
     "output_type": "stream",
     "text": [
      "Profit for Region 1: 30488361.316397265.\n",
      "Profit for Region 2: 24150866.966815114.\n",
      "Profit for Region 3: 26557464.5850565.\n"
     ]
    }
   ],
   "source": [
    "def profit_calc(predictions, targets):\n",
    "    predictions = pd.Series(predictions).sort_values(ascending=False)\n",
    "    targets = pd.Series(targets).reset_index(drop=True)\n",
    "\n",
    "    top_targets = targets[predictions.index][:WELLS]\n",
    "    \n",
    "    total_reserves = top_targets.sum()\n",
    "    total_revenue = total_reserves * REVENUE\n",
    "    profit = total_revenue - WELLS * COST_PER_WELL\n",
    "    \n",
    "    return profit\n",
    "\n",
    "reg_1_profit = profit_calc(predict_1, valid_target_1)\n",
    "reg_2_profit = profit_calc(predict_2, valid_target_2)\n",
    "reg_3_profit = profit_calc(predict_3, valid_target_3)\n",
    "print(f'Profit for Region 1: {reg_1_profit}.')\n",
    "print(f'Profit for Region 2: {reg_2_profit}.')\n",
    "print(f'Profit for Region 3: {reg_3_profit}.')"
   ]
  },
  {
   "cell_type": "code",
   "execution_count": 35,
   "metadata": {},
   "outputs": [
    {
     "data": {
      "text/plain": [
       "30488361.316397265"
      ]
     },
     "execution_count": 35,
     "metadata": {},
     "output_type": "execute_result"
    }
   ],
   "source": [
    "# Reviewer's code 2\n",
    "\n",
    "pred1 = pd.Series(predict_1).sort_values(ascending=False)\n",
    "target = valid_target_1.reset_index(drop=True)\n",
    "\n",
    "points = target[pred1.index][:200]\n",
    "product = points.sum()\n",
    "product * 4500 - 1e8"
   ]
  },
  {
   "cell_type": "markdown",
   "metadata": {},
   "source": [
    "Based on these predictions, Region 1 is the best region for OilyGiant to pursue drilling new wells.  It is poised to generate over 30 million in profits for the company.  The other regions are, in terms of pure profit predictions, less appealing: Region 3 would produce 26 million in profits, followed by Region 2 with 24 million.  Use of bootstrap sampling, calculating the 95% confidence interval, and further inquiry into risk will help determine if Region 1 is in fact the better region.\n",
    "\n",
    "### Target Volume of Reserves vs Profit Potential\n",
    "I previously discovered that the minimum volume for wells to be profitable is by generating approximately 111k barrels.  Region 1 is the most profitable potential region.  Given that each well needs to generate at least 111k barrels to be profitable, I will verify that each of the 200 wells to be drilled in the region is capable of producing at least that much."
   ]
  },
  {
   "cell_type": "code",
   "execution_count": 36,
   "metadata": {
    "scrolled": true
   },
   "outputs": [
    {
     "name": "stdout",
     "output_type": "stream",
     "text": [
      "147.26169944896566\n",
      "185.46312771311\n"
     ]
    }
   ],
   "source": [
    "top_200_1 = np.sort(predict_1)[-200:]\n",
    "print(top_200_1.min())\n",
    "print(top_200_1.max())"
   ]
  },
  {
   "cell_type": "code",
   "execution_count": 37,
   "metadata": {},
   "outputs": [
    {
     "name": "stdout",
     "output_type": "stream",
     "text": [
      "138.3994560989703\n",
      "139.7595734266725\n"
     ]
    }
   ],
   "source": [
    "top_200_2 = np.sort(predict_2)[-200:]\n",
    "print(top_200_2.min())\n",
    "print(top_200_2.max())"
   ]
  },
  {
   "cell_type": "code",
   "execution_count": 38,
   "metadata": {},
   "outputs": [
    {
     "name": "stdout",
     "output_type": "stream",
     "text": [
      "142.50244421226412\n",
      "171.46223527487265\n"
     ]
    }
   ],
   "source": [
    "top_200_3 = np.sort(predict_3)[-200:]\n",
    "print(top_200_3.min())\n",
    "print(top_200_3.max())"
   ]
  },
  {
   "cell_type": "markdown",
   "metadata": {},
   "source": [
    "All 200 wells will produce at least 27k barrels in excess of the minimum required to justify the cost of drilling the well, generating  at least 121k in profits.  The well with the greatest volume of reserves will produce around 74k extra barrels or 333k in profits.\n",
    "\n",
    "As for the other regions, Region 2's wells will all produce less than Region 1 and Region 3's smallest wells.  Region 3 trends below Region 1, but may still be a good region to consider depending on the distribution of profit and risk of losses.\n",
    "### Findings\n",
    "Based on this inquiry, Oily Giant should drill in Region 1, as it has the greatest profit potential and all wells will produce well in excess of the 111k barrels needed for a well to be profitable.\n",
    "## Regional Risks & Profit\n",
    "The previous calculations have not taken into account risks.  This section will employ the bootstrapping technique to find the distribution of profit for each region, the average profit, 95% confidence interval, and the risk of losses to confirm or challenge earlier conclusions.\n",
    "### Average Profit, 95% Confidence Interval, and Risk of Losses"
   ]
  },
  {
   "cell_type": "code",
   "execution_count": 40,
   "metadata": {
    "scrolled": true
   },
   "outputs": [
    {
     "name": "stdout",
     "output_type": "stream",
     "text": [
      "Mean profit for region_1: 4439240.77\n",
      "95% Confidence Interval for region_1: [-584744.82 9596717.21]\n",
      "Risk of Loss for region_1: 4.20%\n",
      "Mean profit for region_2: 4321070.65\n",
      "95% Confidence Interval for region_2: [ 359788.44 8395120.53]\n",
      "Risk of Loss for region_2: 1.80%\n",
      "Mean profit for region_3: 4112543.65\n",
      "95% Confidence Interval for region_3: [-731783.05 9087611.12]\n",
      "Risk of Loss for region_3: 5.80%\n"
     ]
    }
   ],
   "source": [
    "regions = ['region_1', 'region_2', 'region_3']\n",
    "predictions = [predict_1, predict_2, predict_3]\n",
    "targets = [valid_target_1, valid_target_2, valid_target_3]\n",
    "\n",
    "def subsampler(predictions, targets, regions):\n",
    "    region_profits = {}\n",
    "    for region, prediction, target in zip(regions, predictions, targets):\n",
    "        predandtargets = pd.DataFrame({'prediction': prediction, 'target': target}).reset_index(drop=True)\n",
    "        profits = []\n",
    "        for i in range(1000):\n",
    "            subsample = predandtargets.sample(n=500, replace=True, random_state=i)\n",
    "        \n",
    "            sorted_subsample = subsample.sort_values(by='prediction', ascending=False).reset_index(drop=True)\n",
    "            sorted_predictions = sorted_subsample['prediction']\n",
    "            aligned_targets = sorted_subsample['target']\n",
    "            \n",
    "            profit = profit_calc(sorted_predictions, aligned_targets)\n",
    "            profits.append(profit)\n",
    "        \n",
    "        region_profits[region] = profits\n",
    "        \n",
    "    return region_profits\n",
    "\n",
    "bs_profits = subsampler(predictions, targets, regions)\n",
    "\n",
    "for region in bs_profits:\n",
    "    region_profits = np.array(bs_profits[region])\n",
    "    mean_profit = np.mean(region_profits)\n",
    "    conf_intvl = np.percentile(region_profits, [2.5, 97.5]).round(2)\n",
    "    risk = (region_profits < 0).mean()\n",
    "    print(f'Mean profit for {region}: {mean_profit:.2f}')\n",
    "    print(f'95% Confidence Interval for {region}: {conf_intvl}')\n",
    "    print(f'Risk of Loss for {region}: {risk*100:.2f}%')\n",
    "    \n",
    "    "
   ]
  },
  {
   "cell_type": "markdown",
   "metadata": {},
   "source": [
    "### Provide Findings\n",
    "Based on these metrics, Region 1 is actually the riskiest region to drill in, and the company should avoid it as the risk of loss is 100%!  Region 2, despite its smaller reserves, is in fact the best choice as the risk of loss is only 1.8% and the 95% confidence interval predicts positive profit, with a potential maximum profit of 8 million and a mean profit of 4 million.  OilyGiant would do well to invest in wells in region 2 given it has the highest average profit, a 95% confidence interval that is positive, and a minimal risk of losses.\n",
    "\n",
    "## Conclusion\n",
    "This project used machine learning to predict the ideal region for OilyGiant to expand operations to maximize profit.  Using 100k data points from three prospective regions, I trained a linear regression model to predict the volume of oil reserves and calculate potential profit.  Of the regions studied, the model for Region 2 had the highest accuracy and Region 3 had the largest individual well reserves.  However, Region 1 emerged as the most reliable and profitable region due to a greater volume of reserves that well exceeded the minimum required for profitability.  \n",
    "\n",
    "To ensure reliability of these predictions, I used bootstrapping for each region to collect a subsample of 1000 predictions of profit for each region.  Based on this test, Region 1 was by far the riskiest region with a 100% chance of losses.  Region 2 instead emerged as the best region for the company to drill in, showing an average profit of over 4 million and the 95% confidence interval predicts that profit would almost certainly be positive.  Furthermore, the bootstrapped sample revealed only a 1.8% risk of loss for the region.\n",
    "\n",
    "Given these findings, OilyGiant should focus their resources on developing new wells in Region 2, where profit potential is highest due to highly accurate predictions of the volume of reserves and a risk of loss is virtually nonexistent.  The findings from this project are sure to guide OilyGiant toward optimal resource allocation that maximizes company profits."
   ]
  }
 ],
 "metadata": {
  "ExecuteTimeLog": [
   {
    "duration": 311,
    "start_time": "2024-08-01T20:11:53.287Z"
   },
   {
    "duration": 5138,
    "start_time": "2024-08-01T20:11:57.504Z"
   },
   {
    "duration": 820,
    "start_time": "2024-08-01T20:12:02.645Z"
   },
   {
    "duration": 270,
    "start_time": "2024-08-01T20:12:17.722Z"
   },
   {
    "duration": 444,
    "start_time": "2024-08-01T20:12:56.556Z"
   },
   {
    "duration": 21,
    "start_time": "2024-08-01T20:13:07.302Z"
   },
   {
    "duration": 17,
    "start_time": "2024-08-01T20:13:33.035Z"
   },
   {
    "duration": 17,
    "start_time": "2024-08-01T20:13:37.384Z"
   },
   {
    "duration": 24,
    "start_time": "2024-08-01T20:14:30.935Z"
   },
   {
    "duration": 42,
    "start_time": "2024-08-01T20:14:38.665Z"
   },
   {
    "duration": 13,
    "start_time": "2024-08-01T20:15:05.079Z"
   },
   {
    "duration": 14,
    "start_time": "2024-08-01T20:15:15.993Z"
   },
   {
    "duration": 15,
    "start_time": "2024-08-01T20:15:31.400Z"
   },
   {
    "duration": 23,
    "start_time": "2024-08-01T20:15:46.516Z"
   },
   {
    "duration": 17,
    "start_time": "2024-08-01T20:15:53.890Z"
   },
   {
    "duration": 18,
    "start_time": "2024-08-01T20:16:00.768Z"
   },
   {
    "duration": 17,
    "start_time": "2024-08-01T20:26:28.362Z"
   },
   {
    "duration": 21,
    "start_time": "2024-08-01T20:26:55.235Z"
   },
   {
    "duration": 23,
    "start_time": "2024-08-01T20:27:35.635Z"
   },
   {
    "duration": 1446,
    "start_time": "2024-08-01T20:27:57.875Z"
   },
   {
    "duration": 362,
    "start_time": "2024-08-01T20:28:16.996Z"
   },
   {
    "duration": 18,
    "start_time": "2024-08-01T20:28:31.430Z"
   },
   {
    "duration": 41,
    "start_time": "2024-08-01T20:29:18.673Z"
   },
   {
    "duration": 46,
    "start_time": "2024-08-01T20:29:45.546Z"
   },
   {
    "duration": 30,
    "start_time": "2024-08-01T20:29:55.787Z"
   },
   {
    "duration": 38,
    "start_time": "2024-08-01T20:30:05.716Z"
   },
   {
    "duration": 5477,
    "start_time": "2024-08-13T02:36:19.514Z"
   },
   {
    "duration": 505,
    "start_time": "2024-08-13T02:36:24.995Z"
   },
   {
    "duration": 34,
    "start_time": "2024-08-13T02:36:25.503Z"
   },
   {
    "duration": 17,
    "start_time": "2024-08-13T02:36:25.540Z"
   },
   {
    "duration": 18,
    "start_time": "2024-08-13T02:36:25.560Z"
   },
   {
    "duration": 53,
    "start_time": "2024-08-13T02:36:25.581Z"
   },
   {
    "duration": 16,
    "start_time": "2024-08-13T02:36:25.640Z"
   },
   {
    "duration": 16,
    "start_time": "2024-08-13T02:36:25.659Z"
   },
   {
    "duration": 59,
    "start_time": "2024-08-13T02:36:25.678Z"
   },
   {
    "duration": 17,
    "start_time": "2024-08-13T02:36:25.742Z"
   },
   {
    "duration": 18,
    "start_time": "2024-08-13T02:36:25.762Z"
   },
   {
    "duration": 49,
    "start_time": "2024-08-13T02:36:25.783Z"
   },
   {
    "duration": 39,
    "start_time": "2024-08-13T02:36:25.835Z"
   },
   {
    "duration": 55,
    "start_time": "2024-08-13T02:36:25.877Z"
   },
   {
    "duration": 37,
    "start_time": "2024-08-13T02:36:25.935Z"
   },
   {
    "duration": 1787,
    "start_time": "2024-08-13T02:50:01.345Z"
   },
   {
    "duration": 72,
    "start_time": "2024-08-13T02:50:18.874Z"
   },
   {
    "duration": 5,
    "start_time": "2024-08-13T02:50:27.530Z"
   },
   {
    "duration": 383,
    "start_time": "2024-08-13T02:50:27.539Z"
   },
   {
    "duration": 20,
    "start_time": "2024-08-13T02:50:27.925Z"
   },
   {
    "duration": 17,
    "start_time": "2024-08-13T02:50:27.949Z"
   },
   {
    "duration": 18,
    "start_time": "2024-08-13T02:50:27.972Z"
   },
   {
    "duration": 51,
    "start_time": "2024-08-13T02:50:27.993Z"
   },
   {
    "duration": 14,
    "start_time": "2024-08-13T02:50:28.047Z"
   },
   {
    "duration": 15,
    "start_time": "2024-08-13T02:50:28.063Z"
   },
   {
    "duration": 55,
    "start_time": "2024-08-13T02:50:28.081Z"
   },
   {
    "duration": 18,
    "start_time": "2024-08-13T02:50:28.140Z"
   },
   {
    "duration": 18,
    "start_time": "2024-08-13T02:50:28.161Z"
   },
   {
    "duration": 52,
    "start_time": "2024-08-13T02:50:28.181Z"
   },
   {
    "duration": 39,
    "start_time": "2024-08-13T02:50:28.237Z"
   },
   {
    "duration": 58,
    "start_time": "2024-08-13T02:50:28.281Z"
   },
   {
    "duration": 38,
    "start_time": "2024-08-13T02:50:28.342Z"
   },
   {
    "duration": 92,
    "start_time": "2024-08-13T02:50:28.383Z"
   },
   {
    "duration": 70,
    "start_time": "2024-08-13T02:51:03.221Z"
   },
   {
    "duration": 5,
    "start_time": "2024-08-13T02:51:13.001Z"
   },
   {
    "duration": 367,
    "start_time": "2024-08-13T02:51:14.172Z"
   },
   {
    "duration": 17,
    "start_time": "2024-08-13T02:51:15.471Z"
   },
   {
    "duration": 17,
    "start_time": "2024-08-13T02:51:17.356Z"
   },
   {
    "duration": 16,
    "start_time": "2024-08-13T02:51:18.599Z"
   },
   {
    "duration": 15,
    "start_time": "2024-08-13T02:51:19.737Z"
   },
   {
    "duration": 13,
    "start_time": "2024-08-13T02:51:20.755Z"
   },
   {
    "duration": 15,
    "start_time": "2024-08-13T02:51:21.669Z"
   },
   {
    "duration": 18,
    "start_time": "2024-08-13T02:51:22.539Z"
   },
   {
    "duration": 19,
    "start_time": "2024-08-13T02:51:23.347Z"
   },
   {
    "duration": 18,
    "start_time": "2024-08-13T02:51:27.587Z"
   },
   {
    "duration": 15,
    "start_time": "2024-08-13T02:51:29.335Z"
   },
   {
    "duration": 37,
    "start_time": "2024-08-13T02:51:30.122Z"
   },
   {
    "duration": 30,
    "start_time": "2024-08-13T02:51:33.712Z"
   },
   {
    "duration": 38,
    "start_time": "2024-08-13T02:51:34.473Z"
   },
   {
    "duration": 6,
    "start_time": "2024-08-13T02:52:25.523Z"
   },
   {
    "duration": 355,
    "start_time": "2024-08-13T02:52:26.062Z"
   },
   {
    "duration": 16,
    "start_time": "2024-08-13T02:52:27.060Z"
   },
   {
    "duration": 11,
    "start_time": "2024-08-13T02:52:32.016Z"
   },
   {
    "duration": 15,
    "start_time": "2024-08-13T03:04:10.259Z"
   },
   {
    "duration": 15,
    "start_time": "2024-08-13T03:04:19.091Z"
   },
   {
    "duration": 24,
    "start_time": "2024-08-13T03:04:52.646Z"
   },
   {
    "duration": 35,
    "start_time": "2024-08-13T03:05:15.023Z"
   },
   {
    "duration": 30,
    "start_time": "2024-08-13T03:14:50.310Z"
   },
   {
    "duration": 38,
    "start_time": "2024-08-13T03:19:31.812Z"
   },
   {
    "duration": 29,
    "start_time": "2024-08-13T03:19:33.430Z"
   },
   {
    "duration": 209,
    "start_time": "2024-08-13T03:21:48.642Z"
   },
   {
    "duration": 63,
    "start_time": "2024-08-13T03:22:28.586Z"
   },
   {
    "duration": 15,
    "start_time": "2024-08-13T03:22:38.474Z"
   },
   {
    "duration": 70,
    "start_time": "2024-08-13T03:22:41.284Z"
   },
   {
    "duration": 62,
    "start_time": "2024-08-13T03:25:11.721Z"
   },
   {
    "duration": 62,
    "start_time": "2024-08-13T03:25:23.857Z"
   },
   {
    "duration": 5,
    "start_time": "2024-08-13T03:27:59.949Z"
   },
   {
    "duration": 107,
    "start_time": "2024-08-13T03:28:05.552Z"
   },
   {
    "duration": 34,
    "start_time": "2024-08-13T03:28:39.232Z"
   },
   {
    "duration": 36,
    "start_time": "2024-08-13T03:29:19.300Z"
   },
   {
    "duration": 27,
    "start_time": "2024-08-13T03:29:30.767Z"
   },
   {
    "duration": 26,
    "start_time": "2024-08-13T03:29:38.469Z"
   },
   {
    "duration": 9,
    "start_time": "2024-08-13T03:38:47.320Z"
   },
   {
    "duration": 22,
    "start_time": "2024-08-13T03:40:05.069Z"
   },
   {
    "duration": 3,
    "start_time": "2024-08-13T03:46:08.383Z"
   },
   {
    "duration": 6,
    "start_time": "2024-08-13T03:56:43.562Z"
   },
   {
    "duration": 6,
    "start_time": "2024-08-13T04:07:00.424Z"
   },
   {
    "duration": 5,
    "start_time": "2024-08-13T04:07:49.925Z"
   },
   {
    "duration": 8,
    "start_time": "2024-08-13T04:08:59.799Z"
   },
   {
    "duration": 5007,
    "start_time": "2024-08-14T00:32:25.405Z"
   },
   {
    "duration": 500,
    "start_time": "2024-08-14T00:32:30.416Z"
   },
   {
    "duration": 29,
    "start_time": "2024-08-14T00:32:30.918Z"
   },
   {
    "duration": 20,
    "start_time": "2024-08-14T00:32:30.950Z"
   },
   {
    "duration": 19,
    "start_time": "2024-08-14T00:32:30.975Z"
   },
   {
    "duration": 50,
    "start_time": "2024-08-14T00:32:30.996Z"
   },
   {
    "duration": 15,
    "start_time": "2024-08-14T00:32:31.048Z"
   },
   {
    "duration": 15,
    "start_time": "2024-08-14T00:32:31.066Z"
   },
   {
    "duration": 60,
    "start_time": "2024-08-14T00:32:31.084Z"
   },
   {
    "duration": 18,
    "start_time": "2024-08-14T00:32:31.146Z"
   },
   {
    "duration": 18,
    "start_time": "2024-08-14T00:32:31.167Z"
   },
   {
    "duration": 95,
    "start_time": "2024-08-14T00:32:31.188Z"
   },
   {
    "duration": 87,
    "start_time": "2024-08-14T00:32:31.286Z"
   },
   {
    "duration": 80,
    "start_time": "2024-08-14T00:32:31.379Z"
   },
   {
    "duration": 11,
    "start_time": "2024-08-14T00:32:31.462Z"
   },
   {
    "duration": 66,
    "start_time": "2024-08-14T00:32:31.476Z"
   },
   {
    "duration": 33,
    "start_time": "2024-08-14T00:32:31.546Z"
   },
   {
    "duration": 67,
    "start_time": "2024-08-14T00:32:31.582Z"
   },
   {
    "duration": 4,
    "start_time": "2024-08-14T00:32:31.652Z"
   },
   {
    "duration": 6,
    "start_time": "2024-08-14T00:32:31.734Z"
   },
   {
    "duration": 12,
    "start_time": "2024-08-14T00:32:31.743Z"
   },
   {
    "duration": 5054,
    "start_time": "2024-08-18T04:14:40.975Z"
   },
   {
    "duration": 512,
    "start_time": "2024-08-18T04:14:46.033Z"
   },
   {
    "duration": 21,
    "start_time": "2024-08-18T04:14:46.548Z"
   },
   {
    "duration": 17,
    "start_time": "2024-08-18T04:14:46.574Z"
   },
   {
    "duration": 16,
    "start_time": "2024-08-18T04:14:46.607Z"
   },
   {
    "duration": 15,
    "start_time": "2024-08-18T04:14:46.627Z"
   },
   {
    "duration": 14,
    "start_time": "2024-08-18T04:14:46.645Z"
   },
   {
    "duration": 57,
    "start_time": "2024-08-18T04:14:46.662Z"
   },
   {
    "duration": 19,
    "start_time": "2024-08-18T04:14:46.723Z"
   },
   {
    "duration": 18,
    "start_time": "2024-08-18T04:14:46.748Z"
   },
   {
    "duration": 54,
    "start_time": "2024-08-18T04:14:46.768Z"
   },
   {
    "duration": 79,
    "start_time": "2024-08-18T04:14:46.826Z"
   },
   {
    "duration": 61,
    "start_time": "2024-08-18T04:14:46.908Z"
   },
   {
    "duration": 81,
    "start_time": "2024-08-18T04:14:46.972Z"
   },
   {
    "duration": 11,
    "start_time": "2024-08-18T04:14:47.056Z"
   },
   {
    "duration": 65,
    "start_time": "2024-08-18T04:14:47.070Z"
   },
   {
    "duration": 32,
    "start_time": "2024-08-18T04:14:47.138Z"
   },
   {
    "duration": 57,
    "start_time": "2024-08-18T04:14:47.174Z"
   },
   {
    "duration": 4,
    "start_time": "2024-08-18T04:14:47.307Z"
   },
   {
    "duration": 6,
    "start_time": "2024-08-18T04:14:47.313Z"
   },
   {
    "duration": 84,
    "start_time": "2024-08-18T04:14:47.322Z"
   },
   {
    "duration": 6,
    "start_time": "2024-08-18T04:59:45.577Z"
   },
   {
    "duration": 416,
    "start_time": "2024-08-18T05:02:52.120Z"
   },
   {
    "duration": 31,
    "start_time": "2024-08-18T05:05:34.079Z"
   },
   {
    "duration": 10,
    "start_time": "2024-08-18T05:10:55.230Z"
   },
   {
    "duration": 6,
    "start_time": "2024-08-18T05:11:50.723Z"
   },
   {
    "duration": 6,
    "start_time": "2024-08-18T05:12:10.373Z"
   },
   {
    "duration": 12,
    "start_time": "2024-08-18T05:12:17.852Z"
   },
   {
    "duration": 11,
    "start_time": "2024-08-18T05:12:48.773Z"
   },
   {
    "duration": 11,
    "start_time": "2024-08-18T05:13:10.083Z"
   },
   {
    "duration": 16,
    "start_time": "2024-08-18T05:19:40.365Z"
   },
   {
    "duration": 4,
    "start_time": "2024-08-18T05:19:46.320Z"
   },
   {
    "duration": 8,
    "start_time": "2024-08-18T05:19:52.010Z"
   },
   {
    "duration": 15,
    "start_time": "2024-08-18T05:21:16.650Z"
   },
   {
    "duration": 6,
    "start_time": "2024-08-18T05:28:41.047Z"
   },
   {
    "duration": 6,
    "start_time": "2024-08-18T05:29:48.926Z"
   },
   {
    "duration": 8,
    "start_time": "2024-08-18T05:32:37.412Z"
   },
   {
    "duration": 6,
    "start_time": "2024-08-18T05:33:03.196Z"
   },
   {
    "duration": 5,
    "start_time": "2024-08-18T05:33:13.646Z"
   },
   {
    "duration": 4,
    "start_time": "2024-08-18T05:33:49.744Z"
   },
   {
    "duration": 6,
    "start_time": "2024-08-18T05:34:23.462Z"
   },
   {
    "duration": 4,
    "start_time": "2024-08-18T05:37:41.711Z"
   },
   {
    "duration": 4,
    "start_time": "2024-08-18T05:37:45.873Z"
   },
   {
    "duration": 24,
    "start_time": "2024-08-18T05:44:57.821Z"
   },
   {
    "duration": 6,
    "start_time": "2024-08-18T05:45:12.411Z"
   },
   {
    "duration": 5,
    "start_time": "2024-08-18T05:53:54.860Z"
   },
   {
    "duration": 4,
    "start_time": "2024-08-18T05:54:16.664Z"
   },
   {
    "duration": 11,
    "start_time": "2024-08-18T05:54:44.522Z"
   },
   {
    "duration": 6,
    "start_time": "2024-08-18T05:56:00.904Z"
   },
   {
    "duration": 9,
    "start_time": "2024-08-18T05:56:08.300Z"
   },
   {
    "duration": 9,
    "start_time": "2024-08-18T05:56:27.557Z"
   },
   {
    "duration": 12,
    "start_time": "2024-08-18T05:57:26.370Z"
   },
   {
    "duration": 11,
    "start_time": "2024-08-18T05:58:10.304Z"
   },
   {
    "duration": 10,
    "start_time": "2024-08-18T05:59:39.086Z"
   },
   {
    "duration": 5,
    "start_time": "2024-08-18T06:05:52.101Z"
   },
   {
    "duration": 15,
    "start_time": "2024-08-18T06:06:57.600Z"
   },
   {
    "duration": 5371,
    "start_time": "2024-08-18T22:30:17.051Z"
   },
   {
    "duration": 539,
    "start_time": "2024-08-18T22:30:22.426Z"
   },
   {
    "duration": 25,
    "start_time": "2024-08-18T22:30:22.972Z"
   },
   {
    "duration": 41,
    "start_time": "2024-08-18T22:30:23.005Z"
   },
   {
    "duration": 17,
    "start_time": "2024-08-18T22:30:23.050Z"
   },
   {
    "duration": 17,
    "start_time": "2024-08-18T22:30:23.071Z"
   },
   {
    "duration": 56,
    "start_time": "2024-08-18T22:30:23.091Z"
   },
   {
    "duration": 19,
    "start_time": "2024-08-18T22:30:23.150Z"
   },
   {
    "duration": 27,
    "start_time": "2024-08-18T22:30:23.173Z"
   },
   {
    "duration": 23,
    "start_time": "2024-08-18T22:30:23.232Z"
   },
   {
    "duration": 23,
    "start_time": "2024-08-18T22:30:23.258Z"
   },
   {
    "duration": 86,
    "start_time": "2024-08-18T22:30:23.289Z"
   },
   {
    "duration": 78,
    "start_time": "2024-08-18T22:30:23.379Z"
   },
   {
    "duration": 78,
    "start_time": "2024-08-18T22:30:23.461Z"
   },
   {
    "duration": 11,
    "start_time": "2024-08-18T22:30:23.542Z"
   },
   {
    "duration": 47,
    "start_time": "2024-08-18T22:30:23.557Z"
   },
   {
    "duration": 40,
    "start_time": "2024-08-18T22:30:23.632Z"
   },
   {
    "duration": 82,
    "start_time": "2024-08-18T22:30:23.675Z"
   },
   {
    "duration": 77,
    "start_time": "2024-08-18T22:30:23.761Z"
   },
   {
    "duration": 9,
    "start_time": "2024-08-18T22:30:23.842Z"
   },
   {
    "duration": 78,
    "start_time": "2024-08-18T22:30:23.855Z"
   },
   {
    "duration": 4,
    "start_time": "2024-08-18T22:30:23.937Z"
   },
   {
    "duration": 6,
    "start_time": "2024-08-18T22:30:23.945Z"
   },
   {
    "duration": 17,
    "start_time": "2024-08-18T22:30:23.955Z"
   },
   {
    "duration": 9,
    "start_time": "2024-08-18T22:36:15.398Z"
   },
   {
    "duration": 421,
    "start_time": "2024-08-18T22:40:47.011Z"
   },
   {
    "duration": 35,
    "start_time": "2024-08-18T22:41:22.080Z"
   },
   {
    "duration": 16,
    "start_time": "2024-08-18T22:43:16.802Z"
   },
   {
    "duration": 23,
    "start_time": "2024-08-18T22:46:17.458Z"
   },
   {
    "duration": 21,
    "start_time": "2024-08-18T22:46:32.472Z"
   },
   {
    "duration": 18,
    "start_time": "2024-08-18T22:47:15.114Z"
   },
   {
    "duration": 14,
    "start_time": "2024-08-18T22:47:24.811Z"
   },
   {
    "duration": 10,
    "start_time": "2024-08-18T22:47:37.390Z"
   },
   {
    "duration": 14,
    "start_time": "2024-08-18T22:47:43.991Z"
   },
   {
    "duration": 5113,
    "start_time": "2024-08-19T00:27:40.633Z"
   },
   {
    "duration": 508,
    "start_time": "2024-08-19T00:27:45.749Z"
   },
   {
    "duration": 28,
    "start_time": "2024-08-19T00:27:46.260Z"
   },
   {
    "duration": 18,
    "start_time": "2024-08-19T00:27:46.294Z"
   },
   {
    "duration": 54,
    "start_time": "2024-08-19T00:27:46.315Z"
   },
   {
    "duration": 17,
    "start_time": "2024-08-19T00:27:46.372Z"
   },
   {
    "duration": 15,
    "start_time": "2024-08-19T00:27:46.395Z"
   },
   {
    "duration": 16,
    "start_time": "2024-08-19T00:27:46.412Z"
   },
   {
    "duration": 23,
    "start_time": "2024-08-19T00:27:46.469Z"
   },
   {
    "duration": 20,
    "start_time": "2024-08-19T00:27:46.499Z"
   },
   {
    "duration": 53,
    "start_time": "2024-08-19T00:27:46.522Z"
   },
   {
    "duration": 66,
    "start_time": "2024-08-19T00:27:46.579Z"
   },
   {
    "duration": 63,
    "start_time": "2024-08-19T00:27:46.669Z"
   },
   {
    "duration": 91,
    "start_time": "2024-08-19T00:27:46.735Z"
   },
   {
    "duration": 11,
    "start_time": "2024-08-19T00:27:46.829Z"
   },
   {
    "duration": 67,
    "start_time": "2024-08-19T00:27:46.843Z"
   },
   {
    "duration": 32,
    "start_time": "2024-08-19T00:27:46.913Z"
   },
   {
    "duration": 101,
    "start_time": "2024-08-19T00:27:46.967Z"
   },
   {
    "duration": 4,
    "start_time": "2024-08-19T00:27:47.071Z"
   },
   {
    "duration": 89,
    "start_time": "2024-08-19T00:27:47.078Z"
   },
   {
    "duration": 8,
    "start_time": "2024-08-19T00:27:47.170Z"
   },
   {
    "duration": 9,
    "start_time": "2024-08-19T00:27:47.180Z"
   },
   {
    "duration": 76,
    "start_time": "2024-08-19T00:27:47.192Z"
   },
   {
    "duration": 18,
    "start_time": "2024-08-19T00:27:47.271Z"
   },
   {
    "duration": 13,
    "start_time": "2024-08-19T00:27:47.291Z"
   },
   {
    "duration": 1245,
    "start_time": "2024-08-19T00:32:41.696Z"
   },
   {
    "duration": 6,
    "start_time": "2024-08-19T00:32:53.914Z"
   },
   {
    "duration": 362,
    "start_time": "2024-08-19T00:32:53.925Z"
   },
   {
    "duration": 18,
    "start_time": "2024-08-19T00:32:54.291Z"
   },
   {
    "duration": 18,
    "start_time": "2024-08-19T00:32:54.312Z"
   },
   {
    "duration": 46,
    "start_time": "2024-08-19T00:32:54.335Z"
   },
   {
    "duration": 14,
    "start_time": "2024-08-19T00:32:54.384Z"
   },
   {
    "duration": 15,
    "start_time": "2024-08-19T00:32:54.401Z"
   },
   {
    "duration": 51,
    "start_time": "2024-08-19T00:32:54.419Z"
   },
   {
    "duration": 21,
    "start_time": "2024-08-19T00:32:54.473Z"
   },
   {
    "duration": 17,
    "start_time": "2024-08-19T00:32:54.497Z"
   },
   {
    "duration": 58,
    "start_time": "2024-08-19T00:32:54.517Z"
   },
   {
    "duration": 59,
    "start_time": "2024-08-19T00:32:54.578Z"
   },
   {
    "duration": 75,
    "start_time": "2024-08-19T00:32:54.640Z"
   },
   {
    "duration": 76,
    "start_time": "2024-08-19T00:32:54.721Z"
   },
   {
    "duration": 9,
    "start_time": "2024-08-19T00:32:54.800Z"
   },
   {
    "duration": 57,
    "start_time": "2024-08-19T00:32:54.813Z"
   },
   {
    "duration": 30,
    "start_time": "2024-08-19T00:32:54.873Z"
   },
   {
    "duration": 62,
    "start_time": "2024-08-19T00:32:54.906Z"
   },
   {
    "duration": 4,
    "start_time": "2024-08-19T00:32:54.971Z"
   },
   {
    "duration": 7,
    "start_time": "2024-08-19T00:32:54.977Z"
   },
   {
    "duration": 92,
    "start_time": "2024-08-19T00:32:54.987Z"
   },
   {
    "duration": 4,
    "start_time": "2024-08-19T00:32:55.087Z"
   },
   {
    "duration": 75,
    "start_time": "2024-08-19T00:32:55.094Z"
   },
   {
    "duration": 16,
    "start_time": "2024-08-19T00:32:55.172Z"
   },
   {
    "duration": 13,
    "start_time": "2024-08-19T00:32:55.190Z"
   },
   {
    "duration": 126,
    "start_time": "2024-08-19T00:32:55.207Z"
   },
   {
    "duration": 117,
    "start_time": "2024-08-19T00:33:27.762Z"
   },
   {
    "duration": 14,
    "start_time": "2024-08-19T00:34:12.891Z"
   },
   {
    "duration": 94,
    "start_time": "2024-08-19T00:34:16.815Z"
   },
   {
    "duration": 37,
    "start_time": "2024-08-19T00:34:45.127Z"
   },
   {
    "duration": 38,
    "start_time": "2024-08-19T00:34:59.667Z"
   },
   {
    "duration": 271,
    "start_time": "2024-08-19T00:35:28.290Z"
   },
   {
    "duration": 40,
    "start_time": "2024-08-19T00:39:20.127Z"
   },
   {
    "duration": 16,
    "start_time": "2024-08-19T00:39:28.626Z"
   },
   {
    "duration": 47,
    "start_time": "2024-08-19T00:39:36.144Z"
   },
   {
    "duration": 70,
    "start_time": "2024-08-19T00:39:40.770Z"
   },
   {
    "duration": 70,
    "start_time": "2024-08-19T00:42:08.749Z"
   },
   {
    "duration": 27,
    "start_time": "2024-08-19T00:44:19.613Z"
   },
   {
    "duration": 40,
    "start_time": "2024-08-19T00:44:39.180Z"
   },
   {
    "duration": 78,
    "start_time": "2024-08-19T00:47:08.174Z"
   },
   {
    "duration": 105,
    "start_time": "2024-08-19T00:49:31.612Z"
   },
   {
    "duration": 18,
    "start_time": "2024-08-19T00:51:00.107Z"
   },
   {
    "duration": 7,
    "start_time": "2024-08-19T00:51:04.617Z"
   },
   {
    "duration": 35,
    "start_time": "2024-08-19T00:51:25.474Z"
   },
   {
    "duration": 4,
    "start_time": "2024-08-19T00:52:28.854Z"
   },
   {
    "duration": 12,
    "start_time": "2024-08-19T00:52:33.511Z"
   },
   {
    "duration": 81,
    "start_time": "2024-08-19T00:52:47.422Z"
   },
   {
    "duration": 5295,
    "start_time": "2024-08-19T01:57:44.564Z"
   },
   {
    "duration": 491,
    "start_time": "2024-08-19T01:57:49.862Z"
   },
   {
    "duration": 29,
    "start_time": "2024-08-19T01:57:50.356Z"
   },
   {
    "duration": 17,
    "start_time": "2024-08-19T01:57:50.391Z"
   },
   {
    "duration": 17,
    "start_time": "2024-08-19T01:57:50.411Z"
   },
   {
    "duration": 16,
    "start_time": "2024-08-19T01:57:50.469Z"
   },
   {
    "duration": 13,
    "start_time": "2024-08-19T01:57:50.489Z"
   },
   {
    "duration": 15,
    "start_time": "2024-08-19T01:57:50.504Z"
   },
   {
    "duration": 62,
    "start_time": "2024-08-19T01:57:50.522Z"
   },
   {
    "duration": 17,
    "start_time": "2024-08-19T01:57:50.590Z"
   },
   {
    "duration": 19,
    "start_time": "2024-08-19T01:57:50.610Z"
   },
   {
    "duration": 59,
    "start_time": "2024-08-19T01:57:50.667Z"
   },
   {
    "duration": 75,
    "start_time": "2024-08-19T01:57:50.729Z"
   },
   {
    "duration": 70,
    "start_time": "2024-08-19T01:57:50.807Z"
   },
   {
    "duration": 11,
    "start_time": "2024-08-19T01:57:50.880Z"
   },
   {
    "duration": 38,
    "start_time": "2024-08-19T01:57:50.895Z"
   },
   {
    "duration": 58,
    "start_time": "2024-08-19T01:57:50.936Z"
   },
   {
    "duration": 80,
    "start_time": "2024-08-19T01:57:50.997Z"
   },
   {
    "duration": 4,
    "start_time": "2024-08-19T01:57:51.080Z"
   },
   {
    "duration": 82,
    "start_time": "2024-08-19T01:57:51.088Z"
   },
   {
    "duration": 9,
    "start_time": "2024-08-19T01:57:51.173Z"
   },
   {
    "duration": 5,
    "start_time": "2024-08-19T01:57:51.184Z"
   },
   {
    "duration": 79,
    "start_time": "2024-08-19T01:57:51.192Z"
   },
   {
    "duration": 15,
    "start_time": "2024-08-19T01:57:51.274Z"
   },
   {
    "duration": 13,
    "start_time": "2024-08-19T01:57:51.292Z"
   },
   {
    "duration": 10,
    "start_time": "2024-08-19T01:57:51.308Z"
   },
   {
    "duration": 8,
    "start_time": "2024-08-19T01:57:51.370Z"
   },
   {
    "duration": 3553,
    "start_time": "2024-08-19T01:59:58.934Z"
   },
   {
    "duration": 1230,
    "start_time": "2024-08-19T02:02:49.615Z"
   },
   {
    "duration": 1290,
    "start_time": "2024-08-19T02:04:25.933Z"
   },
   {
    "duration": 951,
    "start_time": "2024-08-19T02:04:44.218Z"
   },
   {
    "duration": 54,
    "start_time": "2024-08-19T02:05:14.080Z"
   },
   {
    "duration": 1219,
    "start_time": "2024-08-19T02:05:20.875Z"
   },
   {
    "duration": 55,
    "start_time": "2024-08-19T02:05:41.278Z"
   },
   {
    "duration": 1259,
    "start_time": "2024-08-19T02:05:48.868Z"
   },
   {
    "duration": 1291,
    "start_time": "2024-08-19T02:06:32.520Z"
   },
   {
    "duration": 1316,
    "start_time": "2024-08-19T02:07:44.506Z"
   },
   {
    "duration": 58,
    "start_time": "2024-08-19T02:08:31.407Z"
   },
   {
    "duration": 11,
    "start_time": "2024-08-19T02:09:00.357Z"
   },
   {
    "duration": 5,
    "start_time": "2024-08-19T02:09:36.249Z"
   },
   {
    "duration": 13,
    "start_time": "2024-08-19T02:09:44.690Z"
   },
   {
    "duration": 29,
    "start_time": "2024-08-19T02:09:54.323Z"
   },
   {
    "duration": 5,
    "start_time": "2024-08-19T02:09:58.464Z"
   },
   {
    "duration": 28,
    "start_time": "2024-08-19T02:10:07.776Z"
   },
   {
    "duration": 2675,
    "start_time": "2024-08-19T02:11:31.308Z"
   },
   {
    "duration": 9,
    "start_time": "2024-08-19T02:14:38.130Z"
   },
   {
    "duration": 42,
    "start_time": "2024-08-19T02:15:33.726Z"
   },
   {
    "duration": 42,
    "start_time": "2024-08-19T02:17:03.987Z"
   },
   {
    "duration": 50,
    "start_time": "2024-08-19T02:17:20.487Z"
   },
   {
    "duration": 49,
    "start_time": "2024-08-19T02:22:04.368Z"
   },
   {
    "duration": 44,
    "start_time": "2024-08-19T02:24:03.069Z"
   },
   {
    "duration": 14,
    "start_time": "2024-08-19T02:24:12.300Z"
   },
   {
    "duration": 8074,
    "start_time": "2024-08-19T02:24:26.050Z"
   },
   {
    "duration": 32,
    "start_time": "2024-08-19T02:30:37.941Z"
   },
   {
    "duration": 8082,
    "start_time": "2024-08-19T02:31:05.885Z"
   },
   {
    "duration": 8032,
    "start_time": "2024-08-19T02:31:46.166Z"
   },
   {
    "duration": 8054,
    "start_time": "2024-08-19T02:32:29.886Z"
   },
   {
    "duration": 249,
    "start_time": "2024-08-19T02:38:01.284Z"
   },
   {
    "duration": 7,
    "start_time": "2024-08-19T02:45:05.925Z"
   },
   {
    "duration": 5122,
    "start_time": "2024-08-23T02:31:31.543Z"
   },
   {
    "duration": 507,
    "start_time": "2024-08-23T02:31:36.669Z"
   },
   {
    "duration": 33,
    "start_time": "2024-08-23T02:31:37.179Z"
   },
   {
    "duration": 16,
    "start_time": "2024-08-23T02:31:37.217Z"
   },
   {
    "duration": 17,
    "start_time": "2024-08-23T02:31:37.236Z"
   },
   {
    "duration": 15,
    "start_time": "2024-08-23T02:31:37.256Z"
   },
   {
    "duration": 18,
    "start_time": "2024-08-23T02:31:37.310Z"
   },
   {
    "duration": 21,
    "start_time": "2024-08-23T02:31:37.331Z"
   },
   {
    "duration": 51,
    "start_time": "2024-08-23T02:31:37.359Z"
   },
   {
    "duration": 21,
    "start_time": "2024-08-23T02:31:37.416Z"
   },
   {
    "duration": 19,
    "start_time": "2024-08-23T02:31:37.440Z"
   },
   {
    "duration": 92,
    "start_time": "2024-08-23T02:31:37.463Z"
   },
   {
    "duration": 74,
    "start_time": "2024-08-23T02:31:37.558Z"
   },
   {
    "duration": 58,
    "start_time": "2024-08-23T02:31:37.634Z"
   },
   {
    "duration": 10,
    "start_time": "2024-08-23T02:31:37.708Z"
   },
   {
    "duration": 40,
    "start_time": "2024-08-23T02:31:37.722Z"
   },
   {
    "duration": 61,
    "start_time": "2024-08-23T02:31:37.765Z"
   },
   {
    "duration": 89,
    "start_time": "2024-08-23T02:31:37.828Z"
   },
   {
    "duration": 6,
    "start_time": "2024-08-23T02:31:37.920Z"
   },
   {
    "duration": 81,
    "start_time": "2024-08-23T02:31:37.929Z"
   },
   {
    "duration": 10,
    "start_time": "2024-08-23T02:31:38.013Z"
   },
   {
    "duration": 82,
    "start_time": "2024-08-23T02:31:38.026Z"
   },
   {
    "duration": 6,
    "start_time": "2024-08-23T02:31:38.111Z"
   },
   {
    "duration": 16,
    "start_time": "2024-08-23T02:31:38.121Z"
   },
   {
    "duration": 13,
    "start_time": "2024-08-23T02:31:38.140Z"
   },
   {
    "duration": 8102,
    "start_time": "2024-08-23T02:31:38.155Z"
   },
   {
    "duration": 7,
    "start_time": "2024-08-23T02:31:46.260Z"
   },
   {
    "duration": 7,
    "start_time": "2024-08-23T02:36:01.885Z"
   },
   {
    "duration": 469,
    "start_time": "2024-08-23T02:59:50.349Z"
   },
   {
    "duration": 42,
    "start_time": "2024-08-23T03:00:53.688Z"
   },
   {
    "duration": 26,
    "start_time": "2024-08-23T03:01:26.169Z"
   },
   {
    "duration": 9,
    "start_time": "2024-08-23T03:01:44.019Z"
   },
   {
    "duration": 9,
    "start_time": "2024-08-23T03:17:08.294Z"
   },
   {
    "duration": 36,
    "start_time": "2024-08-23T03:19:11.363Z"
   },
   {
    "duration": 4,
    "start_time": "2024-08-23T03:19:34.646Z"
   },
   {
    "duration": 7,
    "start_time": "2024-08-23T03:19:39.972Z"
   },
   {
    "duration": 14,
    "start_time": "2024-08-23T03:21:31.771Z"
   },
   {
    "duration": 7,
    "start_time": "2024-08-23T03:22:01.987Z"
   },
   {
    "duration": 321,
    "start_time": "2024-08-23T07:52:52.223Z"
   },
   {
    "duration": 5199,
    "start_time": "2024-08-23T07:55:00.802Z"
   },
   {
    "duration": 492,
    "start_time": "2024-08-23T07:55:06.005Z"
   },
   {
    "duration": 21,
    "start_time": "2024-08-23T07:55:06.499Z"
   },
   {
    "duration": 19,
    "start_time": "2024-08-23T07:55:06.524Z"
   },
   {
    "duration": 18,
    "start_time": "2024-08-23T07:55:06.546Z"
   },
   {
    "duration": 14,
    "start_time": "2024-08-23T07:55:06.567Z"
   },
   {
    "duration": 53,
    "start_time": "2024-08-23T07:55:06.584Z"
   },
   {
    "duration": 16,
    "start_time": "2024-08-23T07:55:06.641Z"
   },
   {
    "duration": 20,
    "start_time": "2024-08-23T07:55:06.660Z"
   },
   {
    "duration": 53,
    "start_time": "2024-08-23T07:55:06.686Z"
   },
   {
    "duration": 19,
    "start_time": "2024-08-23T07:55:06.742Z"
   },
   {
    "duration": 85,
    "start_time": "2024-08-23T07:55:06.764Z"
   },
   {
    "duration": 54,
    "start_time": "2024-08-23T07:55:06.852Z"
   },
   {
    "duration": 75,
    "start_time": "2024-08-23T07:55:06.908Z"
   },
   {
    "duration": 10,
    "start_time": "2024-08-23T07:55:06.986Z"
   },
   {
    "duration": 65,
    "start_time": "2024-08-23T07:55:06.999Z"
   },
   {
    "duration": 33,
    "start_time": "2024-08-23T07:55:07.067Z"
   },
   {
    "duration": 151,
    "start_time": "2024-08-23T07:55:07.102Z"
   },
   {
    "duration": 76,
    "start_time": "2024-08-23T07:55:07.256Z"
   },
   {
    "duration": 95,
    "start_time": "2024-08-23T07:55:07.335Z"
   },
   {
    "duration": 23,
    "start_time": "2024-08-23T07:55:07.433Z"
   },
   {
    "duration": 6,
    "start_time": "2024-08-23T07:55:07.459Z"
   },
   {
    "duration": 7,
    "start_time": "2024-08-23T07:55:07.469Z"
   },
   {
    "duration": 3,
    "start_time": "2024-08-23T07:55:07.479Z"
   },
   {
    "duration": 50,
    "start_time": "2024-08-23T07:55:07.485Z"
   },
   {
    "duration": 7,
    "start_time": "2024-08-23T07:55:15.536Z"
   },
   {
    "duration": 6,
    "start_time": "2024-08-23T07:55:19.631Z"
   },
   {
    "duration": 10,
    "start_time": "2024-08-23T07:55:24.503Z"
   },
   {
    "duration": 15,
    "start_time": "2024-08-23T07:56:09.958Z"
   },
   {
    "duration": 14,
    "start_time": "2024-08-23T07:56:30.584Z"
   },
   {
    "duration": 12,
    "start_time": "2024-08-23T07:58:26.083Z"
   },
   {
    "duration": 307,
    "start_time": "2024-08-23T12:11:47.544Z"
   },
   {
    "duration": 5155,
    "start_time": "2024-08-23T12:11:55.407Z"
   },
   {
    "duration": 486,
    "start_time": "2024-08-23T12:12:00.567Z"
   },
   {
    "duration": 22,
    "start_time": "2024-08-23T12:12:01.055Z"
   },
   {
    "duration": 31,
    "start_time": "2024-08-23T12:12:01.080Z"
   },
   {
    "duration": 16,
    "start_time": "2024-08-23T12:12:01.116Z"
   },
   {
    "duration": 15,
    "start_time": "2024-08-23T12:12:01.135Z"
   },
   {
    "duration": 51,
    "start_time": "2024-08-23T12:12:01.153Z"
   },
   {
    "duration": 15,
    "start_time": "2024-08-23T12:12:01.207Z"
   },
   {
    "duration": 19,
    "start_time": "2024-08-23T12:12:01.225Z"
   },
   {
    "duration": 58,
    "start_time": "2024-08-23T12:12:01.248Z"
   },
   {
    "duration": 18,
    "start_time": "2024-08-23T12:12:01.309Z"
   },
   {
    "duration": 82,
    "start_time": "2024-08-23T12:12:01.330Z"
   },
   {
    "duration": 53,
    "start_time": "2024-08-23T12:12:01.415Z"
   },
   {
    "duration": 77,
    "start_time": "2024-08-23T12:12:01.473Z"
   },
   {
    "duration": 27,
    "start_time": "2024-08-23T12:12:01.553Z"
   },
   {
    "duration": 29,
    "start_time": "2024-08-23T12:12:45.846Z"
   },
   {
    "duration": 27,
    "start_time": "2024-08-23T12:12:50.851Z"
   },
   {
    "duration": 153,
    "start_time": "2024-08-23T12:13:00.278Z"
   },
   {
    "duration": 27,
    "start_time": "2024-08-23T12:13:30.966Z"
   },
   {
    "duration": 56,
    "start_time": "2024-08-23T12:14:38.371Z"
   },
   {
    "duration": 356,
    "start_time": "2024-08-23T12:15:00.713Z"
   },
   {
    "duration": 44,
    "start_time": "2024-08-23T12:16:53.802Z"
   },
   {
    "duration": 33,
    "start_time": "2024-08-23T12:18:36.475Z"
   },
   {
    "duration": 29,
    "start_time": "2024-08-23T12:19:05.706Z"
   },
   {
    "duration": 31,
    "start_time": "2024-08-23T12:19:26.810Z"
   },
   {
    "duration": 42,
    "start_time": "2024-08-23T12:19:53.587Z"
   },
   {
    "duration": 25,
    "start_time": "2024-08-23T12:20:58.248Z"
   },
   {
    "duration": 6,
    "start_time": "2024-08-23T12:21:01.884Z"
   },
   {
    "duration": 6,
    "start_time": "2024-08-23T12:21:23.538Z"
   },
   {
    "duration": 6,
    "start_time": "2024-08-23T12:21:41.236Z"
   },
   {
    "duration": 27,
    "start_time": "2024-08-23T12:21:58.527Z"
   },
   {
    "duration": 30,
    "start_time": "2024-08-23T12:22:26.514Z"
   },
   {
    "duration": 5,
    "start_time": "2024-08-23T12:22:35.695Z"
   },
   {
    "duration": 16,
    "start_time": "2024-08-23T12:22:51.323Z"
   },
   {
    "duration": 28,
    "start_time": "2024-08-23T12:23:12.673Z"
   },
   {
    "duration": 372,
    "start_time": "2024-08-23T12:23:19.126Z"
   },
   {
    "duration": 29,
    "start_time": "2024-08-23T12:23:24.487Z"
   },
   {
    "duration": 38,
    "start_time": "2024-08-23T12:24:52.299Z"
   },
   {
    "duration": 36,
    "start_time": "2024-08-23T12:36:58.121Z"
   },
   {
    "duration": 37,
    "start_time": "2024-08-23T12:37:12.547Z"
   },
   {
    "duration": 5077,
    "start_time": "2024-08-24T16:02:59.907Z"
   },
   {
    "duration": 491,
    "start_time": "2024-08-24T16:03:04.987Z"
   },
   {
    "duration": 22,
    "start_time": "2024-08-24T16:03:05.480Z"
   },
   {
    "duration": 42,
    "start_time": "2024-08-24T16:03:05.507Z"
   },
   {
    "duration": 20,
    "start_time": "2024-08-24T16:03:05.552Z"
   },
   {
    "duration": 16,
    "start_time": "2024-08-24T16:03:05.575Z"
   },
   {
    "duration": 46,
    "start_time": "2024-08-24T16:03:05.594Z"
   },
   {
    "duration": 15,
    "start_time": "2024-08-24T16:03:05.642Z"
   },
   {
    "duration": 20,
    "start_time": "2024-08-24T16:03:05.660Z"
   },
   {
    "duration": 54,
    "start_time": "2024-08-24T16:03:05.685Z"
   },
   {
    "duration": 19,
    "start_time": "2024-08-24T16:03:05.742Z"
   },
   {
    "duration": 87,
    "start_time": "2024-08-24T16:03:05.764Z"
   },
   {
    "duration": 54,
    "start_time": "2024-08-24T16:03:05.854Z"
   },
   {
    "duration": 74,
    "start_time": "2024-08-24T16:03:05.911Z"
   },
   {
    "duration": 53,
    "start_time": "2024-08-24T16:03:05.988Z"
   },
   {
    "duration": 38,
    "start_time": "2024-08-24T16:03:06.044Z"
   },
   {
    "duration": 52,
    "start_time": "2024-08-24T16:03:06.086Z"
   },
   {
    "duration": 36,
    "start_time": "2024-08-24T16:03:06.140Z"
   },
   {
    "duration": 29,
    "start_time": "2024-08-24T16:03:06.179Z"
   },
   {
    "duration": 36,
    "start_time": "2024-08-24T16:03:06.233Z"
   },
   {
    "duration": 11,
    "start_time": "2024-08-24T16:03:06.271Z"
   },
   {
    "duration": 69,
    "start_time": "2024-08-24T16:03:06.285Z"
   },
   {
    "duration": 33,
    "start_time": "2024-08-24T16:03:06.357Z"
   },
   {
    "duration": 60,
    "start_time": "2024-08-24T16:03:06.393Z"
   },
   {
    "duration": 78,
    "start_time": "2024-08-24T16:03:06.456Z"
   },
   {
    "duration": 95,
    "start_time": "2024-08-24T16:03:06.538Z"
   },
   {
    "duration": 22,
    "start_time": "2024-08-24T16:03:06.635Z"
   },
   {
    "duration": 8,
    "start_time": "2024-08-24T16:03:06.663Z"
   },
   {
    "duration": 10,
    "start_time": "2024-08-24T16:03:06.674Z"
   },
   {
    "duration": 45,
    "start_time": "2024-08-24T16:03:06.687Z"
   },
   {
    "duration": 5,
    "start_time": "2024-08-24T16:03:06.735Z"
   },
   {
    "duration": 16,
    "start_time": "2024-08-24T16:03:06.743Z"
   },
   {
    "duration": 13,
    "start_time": "2024-08-24T16:03:06.763Z"
   },
   {
    "duration": 8058,
    "start_time": "2024-08-24T16:03:06.779Z"
   },
   {
    "duration": 7,
    "start_time": "2024-08-24T16:03:14.840Z"
   },
   {
    "duration": 9,
    "start_time": "2024-08-24T16:03:14.851Z"
   },
   {
    "duration": 7,
    "start_time": "2024-08-24T16:03:14.863Z"
   },
   {
    "duration": 205,
    "start_time": "2024-08-24T16:05:38.680Z"
   },
   {
    "duration": 1658,
    "start_time": "2024-08-24T16:06:13.012Z"
   },
   {
    "duration": 127,
    "start_time": "2024-08-24T16:08:06.505Z"
   },
   {
    "duration": 14,
    "start_time": "2024-08-24T16:09:31.226Z"
   },
   {
    "duration": 42,
    "start_time": "2024-08-24T16:10:24.395Z"
   },
   {
    "duration": 1639,
    "start_time": "2024-08-24T16:13:40.419Z"
   },
   {
    "duration": 495,
    "start_time": "2024-08-24T16:13:42.061Z"
   },
   {
    "duration": 21,
    "start_time": "2024-08-24T16:13:42.559Z"
   },
   {
    "duration": 17,
    "start_time": "2024-08-24T16:13:42.583Z"
   },
   {
    "duration": 17,
    "start_time": "2024-08-24T16:13:42.633Z"
   },
   {
    "duration": 15,
    "start_time": "2024-08-24T16:13:42.653Z"
   },
   {
    "duration": 15,
    "start_time": "2024-08-24T16:13:42.670Z"
   },
   {
    "duration": 54,
    "start_time": "2024-08-24T16:13:42.688Z"
   },
   {
    "duration": 19,
    "start_time": "2024-08-24T16:13:42.744Z"
   },
   {
    "duration": 18,
    "start_time": "2024-08-24T16:13:42.765Z"
   },
   {
    "duration": 51,
    "start_time": "2024-08-24T16:13:42.786Z"
   },
   {
    "duration": 433,
    "start_time": "2024-08-24T16:13:42.841Z"
   },
   {
    "duration": 0,
    "start_time": "2024-08-24T16:13:43.279Z"
   },
   {
    "duration": 0,
    "start_time": "2024-08-24T16:13:43.282Z"
   },
   {
    "duration": 0,
    "start_time": "2024-08-24T16:13:43.284Z"
   },
   {
    "duration": 0,
    "start_time": "2024-08-24T16:13:43.287Z"
   },
   {
    "duration": 0,
    "start_time": "2024-08-24T16:13:43.289Z"
   },
   {
    "duration": 0,
    "start_time": "2024-08-24T16:13:43.292Z"
   },
   {
    "duration": 0,
    "start_time": "2024-08-24T16:13:43.294Z"
   },
   {
    "duration": 0,
    "start_time": "2024-08-24T16:13:43.296Z"
   },
   {
    "duration": 0,
    "start_time": "2024-08-24T16:13:43.298Z"
   },
   {
    "duration": 0,
    "start_time": "2024-08-24T16:13:43.300Z"
   },
   {
    "duration": 0,
    "start_time": "2024-08-24T16:13:43.301Z"
   },
   {
    "duration": 0,
    "start_time": "2024-08-24T16:13:43.303Z"
   },
   {
    "duration": 0,
    "start_time": "2024-08-24T16:13:43.332Z"
   },
   {
    "duration": 0,
    "start_time": "2024-08-24T16:13:43.336Z"
   },
   {
    "duration": 0,
    "start_time": "2024-08-24T16:13:43.337Z"
   },
   {
    "duration": 0,
    "start_time": "2024-08-24T16:13:43.340Z"
   },
   {
    "duration": 0,
    "start_time": "2024-08-24T16:13:43.342Z"
   },
   {
    "duration": 0,
    "start_time": "2024-08-24T16:13:43.344Z"
   },
   {
    "duration": 0,
    "start_time": "2024-08-24T16:13:43.346Z"
   },
   {
    "duration": 0,
    "start_time": "2024-08-24T16:13:43.349Z"
   },
   {
    "duration": 0,
    "start_time": "2024-08-24T16:13:43.351Z"
   },
   {
    "duration": 0,
    "start_time": "2024-08-24T16:13:43.354Z"
   },
   {
    "duration": 0,
    "start_time": "2024-08-24T16:13:43.356Z"
   },
   {
    "duration": 0,
    "start_time": "2024-08-24T16:13:43.358Z"
   },
   {
    "duration": 0,
    "start_time": "2024-08-24T16:13:43.361Z"
   },
   {
    "duration": 0,
    "start_time": "2024-08-24T16:13:43.364Z"
   },
   {
    "duration": 2253,
    "start_time": "2024-08-24T16:14:13.147Z"
   },
   {
    "duration": 7,
    "start_time": "2024-08-24T16:23:02.690Z"
   },
   {
    "duration": 115,
    "start_time": "2024-08-24T16:23:10.167Z"
   },
   {
    "duration": 26,
    "start_time": "2024-08-24T16:23:33.893Z"
   },
   {
    "duration": 3,
    "start_time": "2024-08-24T16:25:46.336Z"
   },
   {
    "duration": 4,
    "start_time": "2024-08-24T16:26:25.941Z"
   },
   {
    "duration": 217,
    "start_time": "2024-08-24T16:29:29.113Z"
   },
   {
    "duration": 23,
    "start_time": "2024-08-24T16:33:53.863Z"
   },
   {
    "duration": 7,
    "start_time": "2024-08-24T16:34:01.940Z"
   },
   {
    "duration": 387,
    "start_time": "2024-08-24T16:34:01.951Z"
   },
   {
    "duration": 17,
    "start_time": "2024-08-24T16:34:02.341Z"
   },
   {
    "duration": 17,
    "start_time": "2024-08-24T16:34:02.362Z"
   },
   {
    "duration": 55,
    "start_time": "2024-08-24T16:34:02.385Z"
   },
   {
    "duration": 16,
    "start_time": "2024-08-24T16:34:02.443Z"
   },
   {
    "duration": 15,
    "start_time": "2024-08-24T16:34:02.462Z"
   },
   {
    "duration": 54,
    "start_time": "2024-08-24T16:34:02.480Z"
   },
   {
    "duration": 18,
    "start_time": "2024-08-24T16:34:02.537Z"
   },
   {
    "duration": 18,
    "start_time": "2024-08-24T16:34:02.558Z"
   },
   {
    "duration": 59,
    "start_time": "2024-08-24T16:34:02.579Z"
   },
   {
    "duration": 224,
    "start_time": "2024-08-24T16:34:02.641Z"
   },
   {
    "duration": 72,
    "start_time": "2024-08-24T16:34:02.868Z"
   },
   {
    "duration": 55,
    "start_time": "2024-08-24T16:34:02.947Z"
   },
   {
    "duration": 80,
    "start_time": "2024-08-24T16:34:03.005Z"
   },
   {
    "duration": 46,
    "start_time": "2024-08-24T16:34:03.088Z"
   },
   {
    "duration": 38,
    "start_time": "2024-08-24T16:34:03.137Z"
   },
   {
    "duration": 57,
    "start_time": "2024-08-24T16:34:03.178Z"
   },
   {
    "duration": 34,
    "start_time": "2024-08-24T16:34:03.238Z"
   },
   {
    "duration": 28,
    "start_time": "2024-08-24T16:34:03.275Z"
   },
   {
    "duration": 35,
    "start_time": "2024-08-24T16:34:03.332Z"
   },
   {
    "duration": 10,
    "start_time": "2024-08-24T16:34:03.370Z"
   },
   {
    "duration": 70,
    "start_time": "2024-08-24T16:34:03.383Z"
   },
   {
    "duration": 29,
    "start_time": "2024-08-24T16:34:03.456Z"
   },
   {
    "duration": 50,
    "start_time": "2024-08-24T16:34:03.489Z"
   },
   {
    "duration": 5,
    "start_time": "2024-08-24T16:34:10.312Z"
   },
   {
    "duration": 3,
    "start_time": "2024-08-24T16:35:45.770Z"
   },
   {
    "duration": 26,
    "start_time": "2024-08-24T16:38:14.406Z"
   },
   {
    "duration": 4,
    "start_time": "2024-08-24T16:38:57.434Z"
   },
   {
    "duration": 41,
    "start_time": "2024-08-24T16:41:44.951Z"
   },
   {
    "duration": 16,
    "start_time": "2024-08-24T16:41:52.363Z"
   },
   {
    "duration": 25,
    "start_time": "2024-08-24T16:46:50.964Z"
   },
   {
    "duration": 44,
    "start_time": "2024-08-24T16:47:10.329Z"
   },
   {
    "duration": 18,
    "start_time": "2024-08-24T16:47:22.715Z"
   },
   {
    "duration": 41,
    "start_time": "2024-08-24T16:47:29.932Z"
   },
   {
    "duration": 21,
    "start_time": "2024-08-24T16:47:41.927Z"
   },
   {
    "duration": 610,
    "start_time": "2024-08-24T16:51:12.310Z"
   },
   {
    "duration": 19,
    "start_time": "2024-08-24T16:51:26.811Z"
   },
   {
    "duration": 13,
    "start_time": "2024-08-24T16:53:29.135Z"
   },
   {
    "duration": 13,
    "start_time": "2024-08-24T16:53:59.691Z"
   },
   {
    "duration": 19,
    "start_time": "2024-08-24T16:56:04.579Z"
   },
   {
    "duration": 42,
    "start_time": "2024-08-24T17:02:45.804Z"
   },
   {
    "duration": 50,
    "start_time": "2024-08-24T17:03:02.242Z"
   },
   {
    "duration": 3262,
    "start_time": "2024-08-24T17:03:27.687Z"
   },
   {
    "duration": 5042,
    "start_time": "2024-08-24T17:09:54.168Z"
   },
   {
    "duration": 6,
    "start_time": "2024-08-24T17:11:56.820Z"
   },
   {
    "duration": 5175,
    "start_time": "2024-08-24T17:12:31.658Z"
   },
   {
    "duration": 5117,
    "start_time": "2024-08-24T17:13:38.660Z"
   },
   {
    "duration": 5067,
    "start_time": "2024-08-24T17:15:03.652Z"
   },
   {
    "duration": 31,
    "start_time": "2024-08-24T17:17:00.544Z"
   },
   {
    "duration": 43,
    "start_time": "2024-08-24T17:17:06.152Z"
   },
   {
    "duration": 45,
    "start_time": "2024-08-24T17:17:17.179Z"
   },
   {
    "duration": 3182,
    "start_time": "2024-08-24T17:17:43.697Z"
   },
   {
    "duration": 3262,
    "start_time": "2024-08-24T17:18:11.828Z"
   },
   {
    "duration": 5151,
    "start_time": "2024-08-24T17:22:16.242Z"
   },
   {
    "duration": 19,
    "start_time": "2024-08-24T17:23:55.810Z"
   },
   {
    "duration": 64,
    "start_time": "2024-08-24T17:24:02.753Z"
   },
   {
    "duration": 19,
    "start_time": "2024-08-24T17:24:35.509Z"
   },
   {
    "duration": 4,
    "start_time": "2024-08-24T17:28:53.084Z"
   },
   {
    "duration": 9,
    "start_time": "2024-08-24T17:29:00.054Z"
   },
   {
    "duration": 5,
    "start_time": "2024-08-24T17:29:05.713Z"
   },
   {
    "duration": 46,
    "start_time": "2024-08-24T17:29:08.350Z"
   },
   {
    "duration": 5469,
    "start_time": "2024-08-25T03:53:13.544Z"
   },
   {
    "duration": 512,
    "start_time": "2024-08-25T03:53:19.017Z"
   },
   {
    "duration": 35,
    "start_time": "2024-08-25T03:53:19.531Z"
   },
   {
    "duration": 22,
    "start_time": "2024-08-25T03:53:19.571Z"
   },
   {
    "duration": 37,
    "start_time": "2024-08-25T03:53:19.599Z"
   },
   {
    "duration": 17,
    "start_time": "2024-08-25T03:53:19.639Z"
   },
   {
    "duration": 15,
    "start_time": "2024-08-25T03:53:19.659Z"
   },
   {
    "duration": 14,
    "start_time": "2024-08-25T03:53:19.677Z"
   },
   {
    "duration": 51,
    "start_time": "2024-08-25T03:53:19.694Z"
   },
   {
    "duration": 22,
    "start_time": "2024-08-25T03:53:19.747Z"
   },
   {
    "duration": 18,
    "start_time": "2024-08-25T03:53:19.771Z"
   },
   {
    "duration": 277,
    "start_time": "2024-08-25T03:53:19.791Z"
   },
   {
    "duration": 68,
    "start_time": "2024-08-25T03:53:20.072Z"
   },
   {
    "duration": 61,
    "start_time": "2024-08-25T03:53:20.148Z"
   },
   {
    "duration": 77,
    "start_time": "2024-08-25T03:53:20.212Z"
   },
   {
    "duration": 51,
    "start_time": "2024-08-25T03:53:20.292Z"
   },
   {
    "duration": 43,
    "start_time": "2024-08-25T03:53:20.346Z"
   },
   {
    "duration": 28,
    "start_time": "2024-08-25T03:53:20.392Z"
   },
   {
    "duration": 44,
    "start_time": "2024-08-25T03:53:20.438Z"
   },
   {
    "duration": 27,
    "start_time": "2024-08-25T03:53:20.485Z"
   },
   {
    "duration": 56,
    "start_time": "2024-08-25T03:53:20.515Z"
   },
   {
    "duration": 10,
    "start_time": "2024-08-25T03:53:20.574Z"
   },
   {
    "duration": 61,
    "start_time": "2024-08-25T03:53:20.587Z"
   },
   {
    "duration": 33,
    "start_time": "2024-08-25T03:53:20.651Z"
   },
   {
    "duration": 74,
    "start_time": "2024-08-25T03:53:20.687Z"
   },
   {
    "duration": 6,
    "start_time": "2024-08-25T03:53:20.765Z"
   },
   {
    "duration": 97,
    "start_time": "2024-08-25T03:53:20.775Z"
   },
   {
    "duration": 90,
    "start_time": "2024-08-25T03:53:20.875Z"
   },
   {
    "duration": 10,
    "start_time": "2024-08-25T03:53:20.968Z"
   },
   {
    "duration": 9,
    "start_time": "2024-08-25T03:53:20.981Z"
   },
   {
    "duration": 3,
    "start_time": "2024-08-25T03:53:20.994Z"
   },
   {
    "duration": 5,
    "start_time": "2024-08-25T03:53:21.001Z"
   },
   {
    "duration": 540,
    "start_time": "2024-08-25T03:53:21.037Z"
   },
   {
    "duration": 0,
    "start_time": "2024-08-25T03:53:21.580Z"
   },
   {
    "duration": 0,
    "start_time": "2024-08-25T03:53:21.583Z"
   },
   {
    "duration": 0,
    "start_time": "2024-08-25T03:53:21.585Z"
   },
   {
    "duration": 0,
    "start_time": "2024-08-25T03:53:21.588Z"
   },
   {
    "duration": 0,
    "start_time": "2024-08-25T03:53:21.590Z"
   },
   {
    "duration": 47,
    "start_time": "2024-08-25T03:55:31.195Z"
   },
   {
    "duration": 26,
    "start_time": "2024-08-25T03:58:05.496Z"
   },
   {
    "duration": 23,
    "start_time": "2024-08-25T03:59:30.727Z"
   },
   {
    "duration": 19,
    "start_time": "2024-08-25T03:59:43.524Z"
   },
   {
    "duration": 22,
    "start_time": "2024-08-25T03:59:48.671Z"
   },
   {
    "duration": 23,
    "start_time": "2024-08-25T04:01:41.644Z"
   },
   {
    "duration": 17,
    "start_time": "2024-08-25T04:02:13.254Z"
   },
   {
    "duration": 16,
    "start_time": "2024-08-25T04:02:34.832Z"
   },
   {
    "duration": 578,
    "start_time": "2024-08-25T04:02:57.642Z"
   },
   {
    "duration": 16,
    "start_time": "2024-08-25T04:03:31.350Z"
   },
   {
    "duration": 15,
    "start_time": "2024-08-25T04:03:56.625Z"
   },
   {
    "duration": 20,
    "start_time": "2024-08-25T04:04:51.424Z"
   },
   {
    "duration": 141,
    "start_time": "2024-08-25T04:05:57.620Z"
   },
   {
    "duration": 22,
    "start_time": "2024-08-25T04:08:06.182Z"
   },
   {
    "duration": 15,
    "start_time": "2024-08-25T04:08:26.555Z"
   },
   {
    "duration": 150,
    "start_time": "2024-08-25T04:08:43.842Z"
   },
   {
    "duration": 20,
    "start_time": "2024-08-25T04:09:36.258Z"
   },
   {
    "duration": 147,
    "start_time": "2024-08-25T04:09:47.750Z"
   },
   {
    "duration": 20,
    "start_time": "2024-08-25T04:11:45.555Z"
   },
   {
    "duration": 20,
    "start_time": "2024-08-25T04:11:56.007Z"
   },
   {
    "duration": 25,
    "start_time": "2024-08-25T04:12:03.302Z"
   },
   {
    "duration": 19,
    "start_time": "2024-08-25T04:12:11.758Z"
   },
   {
    "duration": 22,
    "start_time": "2024-08-25T04:12:20.005Z"
   },
   {
    "duration": 16,
    "start_time": "2024-08-25T04:12:26.088Z"
   },
   {
    "duration": 15,
    "start_time": "2024-08-25T04:12:43.438Z"
   },
   {
    "duration": 14,
    "start_time": "2024-08-25T04:12:46.872Z"
   },
   {
    "duration": 16,
    "start_time": "2024-08-25T04:13:01.386Z"
   },
   {
    "duration": 18,
    "start_time": "2024-08-25T04:13:08.857Z"
   },
   {
    "duration": 15,
    "start_time": "2024-08-25T04:13:16.004Z"
   },
   {
    "duration": 22,
    "start_time": "2024-08-25T04:14:39.290Z"
   },
   {
    "duration": 136,
    "start_time": "2024-08-25T04:15:42.789Z"
   },
   {
    "duration": 22,
    "start_time": "2024-08-25T04:16:36.202Z"
   },
   {
    "duration": 4,
    "start_time": "2024-08-25T04:25:54.632Z"
   },
   {
    "duration": 26,
    "start_time": "2024-08-25T04:27:39.083Z"
   },
   {
    "duration": 24,
    "start_time": "2024-08-25T04:29:30.576Z"
   },
   {
    "duration": 5,
    "start_time": "2024-08-25T04:34:02.768Z"
   },
   {
    "duration": 25,
    "start_time": "2024-08-25T04:34:23.097Z"
   },
   {
    "duration": 24,
    "start_time": "2024-08-25T04:36:36.180Z"
   },
   {
    "duration": 736,
    "start_time": "2024-08-25T04:38:44.304Z"
   },
   {
    "duration": 7,
    "start_time": "2024-08-25T04:43:44.111Z"
   },
   {
    "duration": 9,
    "start_time": "2024-08-25T04:43:47.445Z"
   },
   {
    "duration": 9,
    "start_time": "2024-08-25T04:46:23.924Z"
   },
   {
    "duration": 8,
    "start_time": "2024-08-25T04:46:32.660Z"
   },
   {
    "duration": 8,
    "start_time": "2024-08-25T04:46:40.659Z"
   },
   {
    "duration": 23,
    "start_time": "2024-08-25T04:47:31.197Z"
   },
   {
    "duration": 5,
    "start_time": "2024-08-25T04:47:48.508Z"
   },
   {
    "duration": 4,
    "start_time": "2024-08-25T04:47:57.056Z"
   },
   {
    "duration": 7,
    "start_time": "2024-08-25T04:48:07.536Z"
   },
   {
    "duration": 11,
    "start_time": "2024-08-25T04:48:19.093Z"
   },
   {
    "duration": 1705,
    "start_time": "2024-08-25T04:50:46.850Z"
   },
   {
    "duration": 401,
    "start_time": "2024-08-25T04:50:48.559Z"
   },
   {
    "duration": 23,
    "start_time": "2024-08-25T04:50:48.963Z"
   },
   {
    "duration": 44,
    "start_time": "2024-08-25T04:50:48.990Z"
   },
   {
    "duration": 21,
    "start_time": "2024-08-25T04:50:49.039Z"
   },
   {
    "duration": 18,
    "start_time": "2024-08-25T04:50:49.063Z"
   },
   {
    "duration": 44,
    "start_time": "2024-08-25T04:50:49.091Z"
   },
   {
    "duration": 17,
    "start_time": "2024-08-25T04:50:49.138Z"
   },
   {
    "duration": 24,
    "start_time": "2024-08-25T04:50:49.159Z"
   },
   {
    "duration": 53,
    "start_time": "2024-08-25T04:50:49.187Z"
   },
   {
    "duration": 22,
    "start_time": "2024-08-25T04:50:49.244Z"
   },
   {
    "duration": 292,
    "start_time": "2024-08-25T04:50:49.270Z"
   },
   {
    "duration": 87,
    "start_time": "2024-08-25T04:50:49.566Z"
   },
   {
    "duration": 81,
    "start_time": "2024-08-25T04:50:49.661Z"
   },
   {
    "duration": 68,
    "start_time": "2024-08-25T04:50:49.745Z"
   },
   {
    "duration": 39,
    "start_time": "2024-08-25T04:50:49.834Z"
   },
   {
    "duration": 64,
    "start_time": "2024-08-25T04:50:49.877Z"
   },
   {
    "duration": 33,
    "start_time": "2024-08-25T04:50:49.944Z"
   },
   {
    "duration": 71,
    "start_time": "2024-08-25T04:50:49.981Z"
   },
   {
    "duration": 34,
    "start_time": "2024-08-25T04:50:50.056Z"
   },
   {
    "duration": 69,
    "start_time": "2024-08-25T04:50:50.095Z"
   },
   {
    "duration": 12,
    "start_time": "2024-08-25T04:50:50.167Z"
   },
   {
    "duration": 77,
    "start_time": "2024-08-25T04:50:50.183Z"
   },
   {
    "duration": 37,
    "start_time": "2024-08-25T04:50:50.264Z"
   },
   {
    "duration": 51,
    "start_time": "2024-08-25T04:50:50.307Z"
   },
   {
    "duration": 4,
    "start_time": "2024-08-25T04:50:50.362Z"
   },
   {
    "duration": 165,
    "start_time": "2024-08-25T04:50:50.369Z"
   },
   {
    "duration": 25,
    "start_time": "2024-08-25T04:50:50.541Z"
   },
   {
    "duration": 7,
    "start_time": "2024-08-25T04:50:50.570Z"
   },
   {
    "duration": 11,
    "start_time": "2024-08-25T04:50:50.581Z"
   },
   {
    "duration": 41,
    "start_time": "2024-08-25T04:50:50.596Z"
   },
   {
    "duration": 5,
    "start_time": "2024-08-25T04:50:50.642Z"
   },
   {
    "duration": 795,
    "start_time": "2024-08-25T04:50:50.651Z"
   },
   {
    "duration": 25,
    "start_time": "2024-08-25T04:50:51.451Z"
   },
   {
    "duration": 21,
    "start_time": "2024-08-25T04:50:51.480Z"
   },
   {
    "duration": 10461,
    "start_time": "2024-08-25T04:50:51.536Z"
   },
   {
    "duration": 7,
    "start_time": "2024-08-25T04:51:02.001Z"
   },
   {
    "duration": 31,
    "start_time": "2024-08-25T04:51:02.012Z"
   },
   {
    "duration": 8,
    "start_time": "2024-08-25T04:51:02.047Z"
   },
   {
    "duration": 5,
    "start_time": "2024-08-25T04:52:34.006Z"
   },
   {
    "duration": 756,
    "start_time": "2024-08-25T04:53:14.870Z"
   },
   {
    "duration": 9,
    "start_time": "2024-08-25T04:53:30.254Z"
   },
   {
    "duration": 34,
    "start_time": "2024-08-25T04:55:18.511Z"
   },
   {
    "duration": 406,
    "start_time": "2024-08-25T05:00:11.519Z"
   },
   {
    "duration": 19,
    "start_time": "2024-08-25T05:00:14.835Z"
   },
   {
    "duration": 15,
    "start_time": "2024-08-25T05:00:20.303Z"
   },
   {
    "duration": 21,
    "start_time": "2024-08-25T05:00:28.840Z"
   },
   {
    "duration": 222,
    "start_time": "2024-08-25T05:00:34.566Z"
   },
   {
    "duration": 75,
    "start_time": "2024-08-25T05:00:41.149Z"
   },
   {
    "duration": 32,
    "start_time": "2024-08-25T05:00:45.984Z"
   },
   {
    "duration": 12,
    "start_time": "2024-08-25T05:00:53.416Z"
   },
   {
    "duration": 48,
    "start_time": "2024-08-25T05:01:18.250Z"
   },
   {
    "duration": 36,
    "start_time": "2024-08-25T05:01:22.129Z"
   },
   {
    "duration": 10,
    "start_time": "2024-08-25T05:01:46.068Z"
   },
   {
    "duration": 23,
    "start_time": "2024-08-25T05:02:06.603Z"
   },
   {
    "duration": 5,
    "start_time": "2024-08-25T05:02:10.627Z"
   },
   {
    "duration": 6,
    "start_time": "2024-08-25T05:02:18.101Z"
   },
   {
    "duration": 9,
    "start_time": "2024-08-25T05:02:21.652Z"
   },
   {
    "duration": 11,
    "start_time": "2024-08-25T05:02:36.942Z"
   },
   {
    "duration": 27,
    "start_time": "2024-08-25T05:02:46.359Z"
   },
   {
    "duration": 16,
    "start_time": "2024-08-25T05:06:19.468Z"
   },
   {
    "duration": 22,
    "start_time": "2024-08-25T05:06:52.217Z"
   },
   {
    "duration": 584,
    "start_time": "2024-08-25T05:09:19.826Z"
   },
   {
    "duration": 8,
    "start_time": "2024-08-25T05:12:12.230Z"
   },
   {
    "duration": 14,
    "start_time": "2024-08-25T05:12:19.881Z"
   },
   {
    "duration": 10,
    "start_time": "2024-08-25T05:12:24.321Z"
   },
   {
    "duration": 37,
    "start_time": "2024-08-25T05:12:33.087Z"
   },
   {
    "duration": 12,
    "start_time": "2024-08-25T05:13:37.262Z"
   },
   {
    "duration": 399,
    "start_time": "2024-08-25T05:14:16.931Z"
   },
   {
    "duration": 18,
    "start_time": "2024-08-25T05:14:21.580Z"
   },
   {
    "duration": 19,
    "start_time": "2024-08-25T05:18:23.455Z"
   },
   {
    "duration": 9,
    "start_time": "2024-08-25T05:23:14.725Z"
   },
   {
    "duration": 4,
    "start_time": "2024-08-25T05:23:55.081Z"
   },
   {
    "duration": 7,
    "start_time": "2024-08-25T05:26:33.115Z"
   },
   {
    "duration": 19,
    "start_time": "2024-08-25T05:28:10.443Z"
   },
   {
    "duration": 15,
    "start_time": "2024-08-25T05:28:59.153Z"
   },
   {
    "duration": 17,
    "start_time": "2024-08-25T05:30:08.819Z"
   },
   {
    "duration": 17,
    "start_time": "2024-08-25T05:31:01.124Z"
   },
   {
    "duration": 18,
    "start_time": "2024-08-25T05:36:33.121Z"
   },
   {
    "duration": 39,
    "start_time": "2024-08-25T05:39:00.547Z"
   },
   {
    "duration": 40,
    "start_time": "2024-08-25T05:39:22.604Z"
   },
   {
    "duration": 50,
    "start_time": "2024-08-25T05:40:09.387Z"
   },
   {
    "duration": 47,
    "start_time": "2024-08-25T05:43:28.098Z"
   },
   {
    "duration": 12,
    "start_time": "2024-08-25T05:44:48.552Z"
   },
   {
    "duration": 8,
    "start_time": "2024-08-25T05:46:36.384Z"
   },
   {
    "duration": 28,
    "start_time": "2024-08-25T05:47:05.741Z"
   },
   {
    "duration": 26,
    "start_time": "2024-08-25T05:47:18.616Z"
   },
   {
    "duration": 30,
    "start_time": "2024-08-25T05:47:27.116Z"
   },
   {
    "duration": 38,
    "start_time": "2024-08-25T05:47:43.779Z"
   },
   {
    "duration": 21,
    "start_time": "2024-08-25T05:47:50.346Z"
   },
   {
    "duration": 10,
    "start_time": "2024-08-25T05:47:59.082Z"
   },
   {
    "duration": 7,
    "start_time": "2024-08-25T05:48:06.050Z"
   },
   {
    "duration": 54,
    "start_time": "2024-08-25T05:48:44.863Z"
   },
   {
    "duration": 729,
    "start_time": "2024-08-25T05:49:00.842Z"
   },
   {
    "duration": 182,
    "start_time": "2024-08-25T05:49:21.809Z"
   },
   {
    "duration": 27,
    "start_time": "2024-08-25T05:50:05.679Z"
   },
   {
    "duration": 16,
    "start_time": "2024-08-25T05:50:11.298Z"
   },
   {
    "duration": 27,
    "start_time": "2024-08-25T05:50:14.130Z"
   },
   {
    "duration": 489,
    "start_time": "2024-08-25T05:51:05.515Z"
   },
   {
    "duration": 102,
    "start_time": "2024-08-25T05:51:46.340Z"
   },
   {
    "duration": 93,
    "start_time": "2024-08-25T05:51:58.489Z"
   },
   {
    "duration": 88,
    "start_time": "2024-08-25T05:52:12.079Z"
   },
   {
    "duration": 6,
    "start_time": "2024-08-25T05:53:06.575Z"
   },
   {
    "duration": 24,
    "start_time": "2024-08-25T05:53:14.345Z"
   },
   {
    "duration": 7,
    "start_time": "2024-08-25T05:53:18.847Z"
   },
   {
    "duration": 4,
    "start_time": "2024-08-25T05:53:25.662Z"
   },
   {
    "duration": 26,
    "start_time": "2024-08-25T05:53:35.883Z"
   },
   {
    "duration": 6,
    "start_time": "2024-08-25T05:53:57.631Z"
   },
   {
    "duration": 29,
    "start_time": "2024-08-25T05:54:04.726Z"
   },
   {
    "duration": 4,
    "start_time": "2024-08-25T05:54:29.128Z"
   },
   {
    "duration": 9,
    "start_time": "2024-08-25T05:54:34.201Z"
   },
   {
    "duration": 28,
    "start_time": "2024-08-25T05:54:48.679Z"
   },
   {
    "duration": 26,
    "start_time": "2024-08-25T05:54:53.461Z"
   },
   {
    "duration": 10,
    "start_time": "2024-08-25T05:54:56.810Z"
   },
   {
    "duration": 7,
    "start_time": "2024-08-25T06:00:28.424Z"
   },
   {
    "duration": 7,
    "start_time": "2024-08-25T06:00:44.474Z"
   },
   {
    "duration": 7,
    "start_time": "2024-08-25T06:00:57.146Z"
   },
   {
    "duration": 8,
    "start_time": "2024-08-25T06:01:46.291Z"
   },
   {
    "duration": 8,
    "start_time": "2024-08-25T06:03:18.694Z"
   },
   {
    "duration": 5027,
    "start_time": "2024-08-25T06:08:38.463Z"
   },
   {
    "duration": 314,
    "start_time": "2024-08-27T01:57:38.519Z"
   },
   {
    "duration": 30,
    "start_time": "2024-08-27T01:58:12.273Z"
   },
   {
    "duration": 5104,
    "start_time": "2024-08-27T01:58:51.802Z"
   },
   {
    "duration": 485,
    "start_time": "2024-08-27T01:58:56.909Z"
   },
   {
    "duration": 20,
    "start_time": "2024-08-27T01:58:57.397Z"
   },
   {
    "duration": 16,
    "start_time": "2024-08-27T01:58:57.421Z"
   },
   {
    "duration": 35,
    "start_time": "2024-08-27T01:58:57.440Z"
   },
   {
    "duration": 15,
    "start_time": "2024-08-27T01:58:57.479Z"
   },
   {
    "duration": 13,
    "start_time": "2024-08-27T01:58:57.497Z"
   },
   {
    "duration": 10,
    "start_time": "2024-08-27T01:58:57.513Z"
   },
   {
    "duration": 14,
    "start_time": "2024-08-27T01:58:57.570Z"
   },
   {
    "duration": 17,
    "start_time": "2024-08-27T01:58:57.590Z"
   },
   {
    "duration": 19,
    "start_time": "2024-08-27T01:58:57.610Z"
   },
   {
    "duration": 18,
    "start_time": "2024-08-27T01:58:57.669Z"
   },
   {
    "duration": 247,
    "start_time": "2024-08-27T01:58:57.690Z"
   },
   {
    "duration": 75,
    "start_time": "2024-08-27T01:58:57.940Z"
   },
   {
    "duration": 60,
    "start_time": "2024-08-27T01:58:58.018Z"
   },
   {
    "duration": 58,
    "start_time": "2024-08-27T01:58:58.081Z"
   },
   {
    "duration": 43,
    "start_time": "2024-08-27T01:58:58.143Z"
   },
   {
    "duration": 38,
    "start_time": "2024-08-27T01:58:58.189Z"
   },
   {
    "duration": 51,
    "start_time": "2024-08-27T01:58:58.230Z"
   },
   {
    "duration": 33,
    "start_time": "2024-08-27T01:58:58.284Z"
   },
   {
    "duration": 60,
    "start_time": "2024-08-27T01:58:58.321Z"
   },
   {
    "duration": 37,
    "start_time": "2024-08-27T01:58:58.383Z"
   },
   {
    "duration": 11,
    "start_time": "2024-08-27T01:58:58.423Z"
   },
   {
    "duration": 66,
    "start_time": "2024-08-27T01:58:58.437Z"
   },
   {
    "duration": 31,
    "start_time": "2024-08-27T01:58:58.506Z"
   },
   {
    "duration": 129,
    "start_time": "2024-08-27T01:58:58.541Z"
   },
   {
    "duration": 5,
    "start_time": "2024-08-27T01:58:58.672Z"
   },
   {
    "duration": 94,
    "start_time": "2024-08-27T01:58:58.690Z"
   },
   {
    "duration": 28,
    "start_time": "2024-08-27T01:58:58.788Z"
   },
   {
    "duration": 6,
    "start_time": "2024-08-27T01:58:58.818Z"
   },
   {
    "duration": 48,
    "start_time": "2024-08-27T01:58:58.827Z"
   },
   {
    "duration": 4,
    "start_time": "2024-08-27T01:58:58.878Z"
   },
   {
    "duration": 6,
    "start_time": "2024-08-27T01:58:58.885Z"
   },
   {
    "duration": 16,
    "start_time": "2024-08-27T01:58:58.894Z"
   },
   {
    "duration": 6,
    "start_time": "2024-08-27T01:58:58.913Z"
   },
   {
    "duration": 7,
    "start_time": "2024-08-27T01:58:58.969Z"
   },
   {
    "duration": 7,
    "start_time": "2024-08-27T01:58:58.979Z"
   },
   {
    "duration": 508,
    "start_time": "2024-08-27T01:58:58.988Z"
   },
   {
    "duration": 0,
    "start_time": "2024-08-27T01:58:59.499Z"
   },
   {
    "duration": 0,
    "start_time": "2024-08-27T01:58:59.501Z"
   },
   {
    "duration": 0,
    "start_time": "2024-08-27T01:58:59.503Z"
   },
   {
    "duration": 0,
    "start_time": "2024-08-27T01:58:59.504Z"
   },
   {
    "duration": 30,
    "start_time": "2024-08-27T01:59:05.389Z"
   },
   {
    "duration": 33,
    "start_time": "2024-08-27T02:00:19.278Z"
   },
   {
    "duration": 46,
    "start_time": "2024-08-27T02:00:40.971Z"
   },
   {
    "duration": 56,
    "start_time": "2024-08-27T02:04:27.109Z"
   },
   {
    "duration": 47,
    "start_time": "2024-08-27T02:08:01.387Z"
   },
   {
    "duration": 59,
    "start_time": "2024-08-27T02:11:19.130Z"
   },
   {
    "duration": 49,
    "start_time": "2024-08-27T02:11:29.222Z"
   },
   {
    "duration": 28,
    "start_time": "2024-08-27T02:16:22.829Z"
   },
   {
    "duration": 25,
    "start_time": "2024-08-27T02:16:34.686Z"
   },
   {
    "duration": 47,
    "start_time": "2024-08-27T02:16:46.360Z"
   },
   {
    "duration": 6,
    "start_time": "2024-08-27T02:17:02.999Z"
   },
   {
    "duration": 381,
    "start_time": "2024-08-27T02:17:03.009Z"
   },
   {
    "duration": 18,
    "start_time": "2024-08-27T02:17:03.393Z"
   },
   {
    "duration": 16,
    "start_time": "2024-08-27T02:17:03.415Z"
   },
   {
    "duration": 48,
    "start_time": "2024-08-27T02:17:03.434Z"
   },
   {
    "duration": 17,
    "start_time": "2024-08-27T02:17:03.486Z"
   },
   {
    "duration": 15,
    "start_time": "2024-08-27T02:17:03.507Z"
   },
   {
    "duration": 46,
    "start_time": "2024-08-27T02:17:03.525Z"
   },
   {
    "duration": 14,
    "start_time": "2024-08-27T02:17:03.574Z"
   },
   {
    "duration": 19,
    "start_time": "2024-08-27T02:17:03.595Z"
   },
   {
    "duration": 55,
    "start_time": "2024-08-27T02:17:03.616Z"
   },
   {
    "duration": 19,
    "start_time": "2024-08-27T02:17:03.675Z"
   },
   {
    "duration": 240,
    "start_time": "2024-08-27T02:17:03.697Z"
   },
   {
    "duration": 78,
    "start_time": "2024-08-27T02:17:03.941Z"
   },
   {
    "duration": 74,
    "start_time": "2024-08-27T02:17:04.022Z"
   },
   {
    "duration": 74,
    "start_time": "2024-08-27T02:17:04.099Z"
   },
   {
    "duration": 28,
    "start_time": "2024-08-27T02:17:04.176Z"
   },
   {
    "duration": 65,
    "start_time": "2024-08-27T02:17:04.206Z"
   },
   {
    "duration": 28,
    "start_time": "2024-08-27T02:17:04.273Z"
   },
   {
    "duration": 36,
    "start_time": "2024-08-27T02:17:04.303Z"
   },
   {
    "duration": 36,
    "start_time": "2024-08-27T02:17:04.369Z"
   },
   {
    "duration": 64,
    "start_time": "2024-08-27T02:17:04.409Z"
   },
   {
    "duration": 12,
    "start_time": "2024-08-27T02:17:04.477Z"
   },
   {
    "duration": 36,
    "start_time": "2024-08-27T02:17:04.493Z"
   },
   {
    "duration": 60,
    "start_time": "2024-08-27T02:17:04.532Z"
   },
   {
    "duration": 76,
    "start_time": "2024-08-27T02:17:04.594Z"
   },
   {
    "duration": 4,
    "start_time": "2024-08-27T02:17:04.673Z"
   },
   {
    "duration": 96,
    "start_time": "2024-08-27T02:17:04.684Z"
   },
   {
    "duration": 21,
    "start_time": "2024-08-27T02:17:04.782Z"
   },
   {
    "duration": 7,
    "start_time": "2024-08-27T02:17:04.806Z"
   },
   {
    "duration": 8,
    "start_time": "2024-08-27T02:17:04.816Z"
   },
   {
    "duration": 4,
    "start_time": "2024-08-27T02:17:04.870Z"
   },
   {
    "duration": 5,
    "start_time": "2024-08-27T02:17:04.878Z"
   },
   {
    "duration": 17,
    "start_time": "2024-08-27T02:17:04.886Z"
   },
   {
    "duration": 8,
    "start_time": "2024-08-27T02:17:04.908Z"
   },
   {
    "duration": 50,
    "start_time": "2024-08-27T02:17:04.919Z"
   },
   {
    "duration": 8,
    "start_time": "2024-08-27T02:17:04.972Z"
   },
   {
    "duration": 44,
    "start_time": "2024-08-27T02:17:14.172Z"
   },
   {
    "duration": 31,
    "start_time": "2024-08-27T02:20:01.150Z"
   },
   {
    "duration": 49,
    "start_time": "2024-08-27T02:20:13.680Z"
   },
   {
    "duration": 6,
    "start_time": "2024-08-27T02:22:23.567Z"
   },
   {
    "duration": 5,
    "start_time": "2024-08-27T02:22:35.699Z"
   },
   {
    "duration": 5,
    "start_time": "2024-08-27T02:23:00.446Z"
   },
   {
    "duration": 6,
    "start_time": "2024-08-27T02:23:38.916Z"
   },
   {
    "duration": 9,
    "start_time": "2024-08-27T02:23:45.971Z"
   },
   {
    "duration": 25,
    "start_time": "2024-08-27T02:23:54.165Z"
   },
   {
    "duration": 4,
    "start_time": "2024-08-27T02:23:58.122Z"
   },
   {
    "duration": 7,
    "start_time": "2024-08-27T02:24:03.125Z"
   },
   {
    "duration": 5,
    "start_time": "2024-08-27T02:25:01.311Z"
   },
   {
    "duration": 7,
    "start_time": "2024-08-27T02:25:12.240Z"
   },
   {
    "duration": 5,
    "start_time": "2024-08-27T02:25:42.913Z"
   },
   {
    "duration": 48,
    "start_time": "2024-08-27T02:28:16.320Z"
   },
   {
    "duration": 52,
    "start_time": "2024-08-27T02:29:51.233Z"
   },
   {
    "duration": 43,
    "start_time": "2024-08-27T02:31:01.834Z"
   },
   {
    "duration": 57,
    "start_time": "2024-08-27T02:39:26.354Z"
   },
   {
    "duration": 5,
    "start_time": "2024-08-27T02:41:14.857Z"
   },
   {
    "duration": 5,
    "start_time": "2024-08-27T02:41:19.624Z"
   },
   {
    "duration": 23,
    "start_time": "2024-08-27T02:41:38.408Z"
   },
   {
    "duration": 91,
    "start_time": "2024-08-27T02:45:27.903Z"
   },
   {
    "duration": 1628,
    "start_time": "2024-08-27T02:48:57.006Z"
   },
   {
    "duration": 1645,
    "start_time": "2024-08-27T02:49:51.721Z"
   },
   {
    "duration": 4823,
    "start_time": "2024-08-27T02:50:11.641Z"
   },
   {
    "duration": 4845,
    "start_time": "2024-08-27T02:57:34.884Z"
   },
   {
    "duration": 5821,
    "start_time": "2024-08-27T03:00:28.321Z"
   },
   {
    "duration": 7,
    "start_time": "2024-08-27T03:09:02.751Z"
   },
   {
    "duration": 7,
    "start_time": "2024-08-27T03:09:19.605Z"
   },
   {
    "duration": 7,
    "start_time": "2024-08-27T03:11:53.216Z"
   },
   {
    "duration": 470,
    "start_time": "2024-08-27T03:12:28.147Z"
   },
   {
    "duration": 9,
    "start_time": "2024-08-27T03:18:08.131Z"
   },
   {
    "duration": 42,
    "start_time": "2024-08-27T03:18:50.023Z"
   },
   {
    "duration": 5773,
    "start_time": "2024-08-27T03:21:57.060Z"
   },
   {
    "duration": 4808,
    "start_time": "2024-08-27T03:22:18.277Z"
   },
   {
    "duration": 7,
    "start_time": "2024-08-27T03:25:32.390Z"
   },
   {
    "duration": 8,
    "start_time": "2024-08-27T03:25:38.010Z"
   },
   {
    "duration": 6,
    "start_time": "2024-08-27T03:25:47.373Z"
   },
   {
    "duration": 21,
    "start_time": "2024-08-27T03:26:16.542Z"
   },
   {
    "duration": 7,
    "start_time": "2024-08-27T03:29:44.609Z"
   },
   {
    "duration": 35,
    "start_time": "2024-08-27T03:32:17.833Z"
   },
   {
    "duration": 44,
    "start_time": "2024-08-27T03:32:34.203Z"
   },
   {
    "duration": 36,
    "start_time": "2024-08-27T03:32:53.625Z"
   },
   {
    "duration": 6,
    "start_time": "2024-08-27T03:33:55.973Z"
   },
   {
    "duration": 37,
    "start_time": "2024-08-27T03:36:47.388Z"
   },
   {
    "duration": 6,
    "start_time": "2024-08-27T03:37:16.744Z"
   },
   {
    "duration": 6,
    "start_time": "2024-08-27T03:43:08.856Z"
   },
   {
    "duration": 11,
    "start_time": "2024-08-27T03:43:24.446Z"
   },
   {
    "duration": 7,
    "start_time": "2024-08-27T03:43:39.210Z"
   },
   {
    "duration": 7,
    "start_time": "2024-08-27T03:43:44.519Z"
   },
   {
    "duration": 10,
    "start_time": "2024-08-27T03:44:00.850Z"
   },
   {
    "duration": 12,
    "start_time": "2024-08-27T03:44:20.163Z"
   },
   {
    "duration": 7,
    "start_time": "2024-08-27T03:44:26.209Z"
   },
   {
    "duration": 2769,
    "start_time": "2024-09-03T00:08:16.964Z"
   },
   {
    "duration": 331,
    "start_time": "2024-09-03T00:08:19.735Z"
   },
   {
    "duration": 14,
    "start_time": "2024-09-03T00:08:20.068Z"
   },
   {
    "duration": 11,
    "start_time": "2024-09-03T00:08:20.084Z"
   },
   {
    "duration": 11,
    "start_time": "2024-09-03T00:08:20.112Z"
   },
   {
    "duration": 9,
    "start_time": "2024-09-03T00:08:20.124Z"
   },
   {
    "duration": 9,
    "start_time": "2024-09-03T00:08:20.135Z"
   },
   {
    "duration": 5,
    "start_time": "2024-09-03T00:08:20.146Z"
   },
   {
    "duration": 8,
    "start_time": "2024-09-03T00:08:20.153Z"
   },
   {
    "duration": 49,
    "start_time": "2024-09-03T00:08:20.163Z"
   },
   {
    "duration": 12,
    "start_time": "2024-09-03T00:08:20.213Z"
   },
   {
    "duration": 10,
    "start_time": "2024-09-03T00:08:20.226Z"
   },
   {
    "duration": 145,
    "start_time": "2024-09-03T00:08:20.238Z"
   },
   {
    "duration": 44,
    "start_time": "2024-09-03T00:08:20.386Z"
   },
   {
    "duration": 32,
    "start_time": "2024-09-03T00:08:20.432Z"
   },
   {
    "duration": 46,
    "start_time": "2024-09-03T00:08:20.466Z"
   },
   {
    "duration": 15,
    "start_time": "2024-09-03T00:08:20.515Z"
   },
   {
    "duration": 21,
    "start_time": "2024-09-03T00:08:20.532Z"
   },
   {
    "duration": 15,
    "start_time": "2024-09-03T00:08:20.555Z"
   },
   {
    "duration": 54,
    "start_time": "2024-09-03T00:08:20.573Z"
   },
   {
    "duration": 16,
    "start_time": "2024-09-03T00:08:20.629Z"
   },
   {
    "duration": 21,
    "start_time": "2024-09-03T00:08:20.647Z"
   },
   {
    "duration": 8,
    "start_time": "2024-09-03T00:08:20.670Z"
   },
   {
    "duration": 53,
    "start_time": "2024-09-03T00:08:20.680Z"
   },
   {
    "duration": 20,
    "start_time": "2024-09-03T00:08:20.734Z"
   },
   {
    "duration": 68,
    "start_time": "2024-09-03T00:08:20.756Z"
   },
   {
    "duration": 3,
    "start_time": "2024-09-03T00:08:20.826Z"
   },
   {
    "duration": 88,
    "start_time": "2024-09-03T00:08:20.831Z"
   },
   {
    "duration": 13,
    "start_time": "2024-09-03T00:08:20.921Z"
   },
   {
    "duration": 5,
    "start_time": "2024-09-03T00:08:20.936Z"
   },
   {
    "duration": 5,
    "start_time": "2024-09-03T00:08:20.942Z"
   },
   {
    "duration": 3,
    "start_time": "2024-09-03T00:08:20.949Z"
   },
   {
    "duration": 3,
    "start_time": "2024-09-03T00:08:21.012Z"
   },
   {
    "duration": 11,
    "start_time": "2024-09-03T00:08:21.017Z"
   },
   {
    "duration": 4,
    "start_time": "2024-09-03T00:08:21.029Z"
   },
   {
    "duration": 4,
    "start_time": "2024-09-03T00:08:21.035Z"
   },
   {
    "duration": 4,
    "start_time": "2024-09-03T00:08:21.042Z"
   },
   {
    "duration": 3331,
    "start_time": "2024-09-03T00:08:21.048Z"
   },
   {
    "duration": 5,
    "start_time": "2024-09-03T00:08:24.381Z"
   },
   {
    "duration": 6,
    "start_time": "2024-09-03T00:08:24.388Z"
   },
   {
    "duration": 4,
    "start_time": "2024-09-03T00:08:24.412Z"
   },
   {
    "duration": 4,
    "start_time": "2024-09-03T00:08:52.290Z"
   },
   {
    "duration": 160,
    "start_time": "2024-09-03T05:04:49.940Z"
   },
   {
    "duration": 1035,
    "start_time": "2024-09-03T05:04:54.726Z"
   },
   {
    "duration": 346,
    "start_time": "2024-09-03T05:04:55.763Z"
   },
   {
    "duration": 12,
    "start_time": "2024-09-03T05:04:56.111Z"
   },
   {
    "duration": 10,
    "start_time": "2024-09-03T05:04:56.124Z"
   },
   {
    "duration": 83,
    "start_time": "2024-09-03T05:04:56.137Z"
   },
   {
    "duration": 7,
    "start_time": "2024-09-03T05:05:03.492Z"
   },
   {
    "duration": 10,
    "start_time": "2024-09-03T05:05:09.383Z"
   },
   {
    "duration": 6,
    "start_time": "2024-09-03T05:05:17.340Z"
   },
   {
    "duration": 5,
    "start_time": "2024-09-03T05:05:20.821Z"
   },
   {
    "duration": 6,
    "start_time": "2024-09-03T05:05:24.532Z"
   },
   {
    "duration": 6,
    "start_time": "2024-09-03T05:17:19.764Z"
   },
   {
    "duration": 278,
    "start_time": "2024-09-03T05:17:19.773Z"
   },
   {
    "duration": 11,
    "start_time": "2024-09-03T05:17:20.053Z"
   },
   {
    "duration": 11,
    "start_time": "2024-09-03T05:17:20.065Z"
   },
   {
    "duration": 13,
    "start_time": "2024-09-03T05:17:20.079Z"
   },
   {
    "duration": 11,
    "start_time": "2024-09-03T05:17:20.095Z"
   },
   {
    "duration": 10,
    "start_time": "2024-09-03T05:17:20.130Z"
   },
   {
    "duration": 5,
    "start_time": "2024-09-03T05:17:20.142Z"
   },
   {
    "duration": 9,
    "start_time": "2024-09-03T05:17:20.149Z"
   },
   {
    "duration": 11,
    "start_time": "2024-09-03T05:17:20.160Z"
   },
   {
    "duration": 14,
    "start_time": "2024-09-03T05:17:20.173Z"
   },
   {
    "duration": 48,
    "start_time": "2024-09-03T05:17:20.189Z"
   },
   {
    "duration": 162,
    "start_time": "2024-09-03T05:17:20.239Z"
   },
   {
    "duration": 40,
    "start_time": "2024-09-03T05:17:20.405Z"
   },
   {
    "duration": 43,
    "start_time": "2024-09-03T05:17:20.447Z"
   },
   {
    "duration": 64,
    "start_time": "2024-09-03T05:17:20.492Z"
   },
   {
    "duration": 14,
    "start_time": "2024-09-03T05:17:20.559Z"
   },
   {
    "duration": 20,
    "start_time": "2024-09-03T05:17:20.575Z"
   },
   {
    "duration": 42,
    "start_time": "2024-09-03T05:17:20.597Z"
   },
   {
    "duration": 25,
    "start_time": "2024-09-03T05:17:20.641Z"
   },
   {
    "duration": 20,
    "start_time": "2024-09-03T05:17:20.669Z"
   },
   {
    "duration": 21,
    "start_time": "2024-09-03T05:17:20.691Z"
   },
   {
    "duration": 8,
    "start_time": "2024-09-03T05:17:20.732Z"
   },
   {
    "duration": 26,
    "start_time": "2024-09-03T05:17:20.742Z"
   },
   {
    "duration": 18,
    "start_time": "2024-09-03T05:17:20.770Z"
   },
   {
    "duration": 63,
    "start_time": "2024-09-03T05:17:20.790Z"
   },
   {
    "duration": 5,
    "start_time": "2024-09-03T05:17:20.856Z"
   },
   {
    "duration": 87,
    "start_time": "2024-09-03T05:17:20.863Z"
   },
   {
    "duration": 15,
    "start_time": "2024-09-03T05:17:20.952Z"
   },
   {
    "duration": 62,
    "start_time": "2024-09-03T05:17:20.969Z"
   },
   {
    "duration": 6,
    "start_time": "2024-09-03T05:17:21.034Z"
   },
   {
    "duration": 3,
    "start_time": "2024-09-03T05:17:21.042Z"
   },
   {
    "duration": 4,
    "start_time": "2024-09-03T05:17:21.047Z"
   },
   {
    "duration": 13,
    "start_time": "2024-09-03T05:17:21.053Z"
   },
   {
    "duration": 7,
    "start_time": "2024-09-03T05:17:21.068Z"
   },
   {
    "duration": 6,
    "start_time": "2024-09-03T05:17:36.356Z"
   },
   {
    "duration": 15,
    "start_time": "2024-09-03T05:17:50.707Z"
   },
   {
    "duration": 5,
    "start_time": "2024-09-03T05:18:14.751Z"
   },
   {
    "duration": 24,
    "start_time": "2024-09-03T05:18:29.480Z"
   },
   {
    "duration": 11,
    "start_time": "2024-09-03T05:18:47.429Z"
   },
   {
    "duration": 2,
    "start_time": "2024-09-03T05:19:20.784Z"
   },
   {
    "duration": 5,
    "start_time": "2024-09-03T05:19:48.563Z"
   },
   {
    "duration": 238,
    "start_time": "2024-09-03T05:20:09.952Z"
   },
   {
    "duration": 8,
    "start_time": "2024-09-03T05:20:27.415Z"
   },
   {
    "duration": 4,
    "start_time": "2024-09-03T05:21:15.188Z"
   },
   {
    "duration": 286,
    "start_time": "2024-09-03T05:21:23.551Z"
   },
   {
    "duration": 8,
    "start_time": "2024-09-03T05:21:34.032Z"
   },
   {
    "duration": 8,
    "start_time": "2024-09-03T05:24:16.843Z"
   },
   {
    "duration": 157,
    "start_time": "2024-09-04T02:24:48.803Z"
   },
   {
    "duration": 2,
    "start_time": "2024-09-04T02:24:53.374Z"
   },
   {
    "duration": 3,
    "start_time": "2024-09-04T02:24:58.508Z"
   },
   {
    "duration": 16,
    "start_time": "2024-09-04T02:29:52.909Z"
   },
   {
    "duration": 2605,
    "start_time": "2024-09-04T02:29:58.966Z"
   },
   {
    "duration": 455,
    "start_time": "2024-09-04T02:30:01.573Z"
   },
   {
    "duration": 13,
    "start_time": "2024-09-04T02:30:02.030Z"
   },
   {
    "duration": 10,
    "start_time": "2024-09-04T02:30:02.045Z"
   },
   {
    "duration": 29,
    "start_time": "2024-09-04T02:30:02.058Z"
   },
   {
    "duration": 9,
    "start_time": "2024-09-04T02:30:02.088Z"
   },
   {
    "duration": 9,
    "start_time": "2024-09-04T02:30:02.099Z"
   },
   {
    "duration": 5,
    "start_time": "2024-09-04T02:30:02.109Z"
   },
   {
    "duration": 8,
    "start_time": "2024-09-04T02:30:02.116Z"
   },
   {
    "duration": 11,
    "start_time": "2024-09-04T02:30:02.126Z"
   },
   {
    "duration": 10,
    "start_time": "2024-09-04T02:30:02.138Z"
   },
   {
    "duration": 43,
    "start_time": "2024-09-04T02:30:02.149Z"
   },
   {
    "duration": 132,
    "start_time": "2024-09-04T02:30:02.194Z"
   },
   {
    "duration": 31,
    "start_time": "2024-09-04T02:30:02.330Z"
   },
   {
    "duration": 43,
    "start_time": "2024-09-04T02:30:02.363Z"
   },
   {
    "duration": 31,
    "start_time": "2024-09-04T02:30:02.407Z"
   },
   {
    "duration": 13,
    "start_time": "2024-09-04T02:30:02.439Z"
   },
   {
    "duration": 41,
    "start_time": "2024-09-04T02:30:02.454Z"
   },
   {
    "duration": 14,
    "start_time": "2024-09-04T02:30:02.497Z"
   },
   {
    "duration": 18,
    "start_time": "2024-09-04T02:30:02.513Z"
   },
   {
    "duration": 14,
    "start_time": "2024-09-04T02:30:02.533Z"
   },
   {
    "duration": 43,
    "start_time": "2024-09-04T02:30:02.549Z"
   },
   {
    "duration": 7,
    "start_time": "2024-09-04T02:30:02.593Z"
   },
   {
    "duration": 23,
    "start_time": "2024-09-04T02:30:02.602Z"
   },
   {
    "duration": 19,
    "start_time": "2024-09-04T02:30:02.626Z"
   },
   {
    "duration": 56,
    "start_time": "2024-09-04T02:30:02.647Z"
   },
   {
    "duration": 80,
    "start_time": "2024-09-04T02:30:02.707Z"
   },
   {
    "duration": 11,
    "start_time": "2024-09-04T02:30:02.789Z"
   },
   {
    "duration": 12,
    "start_time": "2024-09-04T02:30:02.801Z"
   },
   {
    "duration": 4,
    "start_time": "2024-09-04T02:30:02.814Z"
   },
   {
    "duration": 5,
    "start_time": "2024-09-04T02:30:02.820Z"
   },
   {
    "duration": 61,
    "start_time": "2024-09-04T02:30:02.826Z"
   },
   {
    "duration": 5,
    "start_time": "2024-09-04T02:30:02.889Z"
   },
   {
    "duration": 102,
    "start_time": "2024-09-04T02:30:08.665Z"
   },
   {
    "duration": 29,
    "start_time": "2024-09-04T02:34:27.693Z"
   },
   {
    "duration": 13,
    "start_time": "2024-09-04T02:34:36.096Z"
   },
   {
    "duration": 15,
    "start_time": "2024-09-04T02:39:36.311Z"
   },
   {
    "duration": 9,
    "start_time": "2024-09-04T02:40:57.856Z"
   },
   {
    "duration": 5,
    "start_time": "2024-09-04T02:44:06.659Z"
   },
   {
    "duration": 6,
    "start_time": "2024-09-04T02:44:10.960Z"
   },
   {
    "duration": 5,
    "start_time": "2024-09-04T02:44:13.573Z"
   },
   {
    "duration": 9935,
    "start_time": "2024-09-04T02:48:13.792Z"
   },
   {
    "duration": 27,
    "start_time": "2024-09-04T02:54:35.938Z"
   },
   {
    "duration": 159,
    "start_time": "2024-09-04T02:54:47.735Z"
   },
   {
    "duration": 458,
    "start_time": "2024-09-04T02:56:56.137Z"
   },
   {
    "duration": 99,
    "start_time": "2024-09-04T03:02:12.896Z"
   },
   {
    "duration": 71,
    "start_time": "2024-09-04T03:04:07.011Z"
   },
   {
    "duration": 70,
    "start_time": "2024-09-04T03:05:54.558Z"
   },
   {
    "duration": 69,
    "start_time": "2024-09-04T03:06:08.729Z"
   },
   {
    "duration": 28,
    "start_time": "2024-09-04T03:07:18.306Z"
   },
   {
    "duration": 67,
    "start_time": "2024-09-04T03:07:38.269Z"
   },
   {
    "duration": 69,
    "start_time": "2024-09-04T03:11:28.566Z"
   },
   {
    "duration": 70,
    "start_time": "2024-09-04T03:14:20.725Z"
   },
   {
    "duration": 73,
    "start_time": "2024-09-04T03:15:43.260Z"
   },
   {
    "duration": 14,
    "start_time": "2024-09-04T03:18:27.217Z"
   },
   {
    "duration": 25,
    "start_time": "2024-09-04T03:18:52.011Z"
   },
   {
    "duration": 9,
    "start_time": "2024-09-04T03:19:00.809Z"
   },
   {
    "duration": 10,
    "start_time": "2024-09-04T03:19:11.427Z"
   },
   {
    "duration": 4,
    "start_time": "2024-09-04T03:19:21.594Z"
   },
   {
    "duration": 235,
    "start_time": "2024-09-04T03:19:21.600Z"
   },
   {
    "duration": 11,
    "start_time": "2024-09-04T03:19:21.836Z"
   },
   {
    "duration": 9,
    "start_time": "2024-09-04T03:19:21.849Z"
   },
   {
    "duration": 26,
    "start_time": "2024-09-04T03:19:21.861Z"
   },
   {
    "duration": 8,
    "start_time": "2024-09-04T03:19:21.889Z"
   },
   {
    "duration": 8,
    "start_time": "2024-09-04T03:19:21.899Z"
   },
   {
    "duration": 6,
    "start_time": "2024-09-04T03:19:21.909Z"
   },
   {
    "duration": 9,
    "start_time": "2024-09-04T03:19:21.916Z"
   },
   {
    "duration": 10,
    "start_time": "2024-09-04T03:19:21.926Z"
   },
   {
    "duration": 10,
    "start_time": "2024-09-04T03:19:21.938Z"
   },
   {
    "duration": 9,
    "start_time": "2024-09-04T03:19:21.987Z"
   },
   {
    "duration": 128,
    "start_time": "2024-09-04T03:19:21.998Z"
   },
   {
    "duration": 33,
    "start_time": "2024-09-04T03:19:22.129Z"
   },
   {
    "duration": 45,
    "start_time": "2024-09-04T03:19:22.164Z"
   },
   {
    "duration": 32,
    "start_time": "2024-09-04T03:19:22.211Z"
   },
   {
    "duration": 13,
    "start_time": "2024-09-04T03:19:22.244Z"
   },
   {
    "duration": 35,
    "start_time": "2024-09-04T03:19:22.258Z"
   },
   {
    "duration": 15,
    "start_time": "2024-09-04T03:19:22.295Z"
   },
   {
    "duration": 22,
    "start_time": "2024-09-04T03:19:22.311Z"
   },
   {
    "duration": 16,
    "start_time": "2024-09-04T03:19:22.335Z"
   },
   {
    "duration": 46,
    "start_time": "2024-09-04T03:19:22.353Z"
   },
   {
    "duration": 8,
    "start_time": "2024-09-04T03:19:22.400Z"
   },
   {
    "duration": 22,
    "start_time": "2024-09-04T03:19:22.410Z"
   },
   {
    "duration": 16,
    "start_time": "2024-09-04T03:19:22.434Z"
   },
   {
    "duration": 43,
    "start_time": "2024-09-04T03:19:22.452Z"
   },
   {
    "duration": 4,
    "start_time": "2024-09-04T03:19:22.499Z"
   },
   {
    "duration": 89,
    "start_time": "2024-09-04T03:19:22.507Z"
   },
   {
    "duration": 11,
    "start_time": "2024-09-04T03:19:22.598Z"
   },
   {
    "duration": 4,
    "start_time": "2024-09-04T03:19:22.610Z"
   },
   {
    "duration": 5,
    "start_time": "2024-09-04T03:19:22.615Z"
   },
   {
    "duration": 2,
    "start_time": "2024-09-04T03:19:22.622Z"
   },
   {
    "duration": 4,
    "start_time": "2024-09-04T03:19:22.626Z"
   },
   {
    "duration": 14,
    "start_time": "2024-09-04T03:19:25.443Z"
   },
   {
    "duration": 81,
    "start_time": "2024-09-04T03:24:47.859Z"
   },
   {
    "duration": 161,
    "start_time": "2024-09-04T03:26:53.926Z"
   },
   {
    "duration": 68,
    "start_time": "2024-09-04T03:34:11.623Z"
   },
   {
    "duration": 66,
    "start_time": "2024-09-04T03:36:35.346Z"
   },
   {
    "duration": 69,
    "start_time": "2024-09-04T03:38:19.836Z"
   },
   {
    "duration": 69,
    "start_time": "2024-09-04T03:39:06.412Z"
   },
   {
    "duration": 78,
    "start_time": "2024-09-04T03:40:03.077Z"
   },
   {
    "duration": 954,
    "start_time": "2024-09-04T03:45:44.709Z"
   },
   {
    "duration": 238,
    "start_time": "2024-09-04T03:45:45.665Z"
   },
   {
    "duration": 12,
    "start_time": "2024-09-04T03:45:45.907Z"
   },
   {
    "duration": 9,
    "start_time": "2024-09-04T03:45:45.922Z"
   },
   {
    "duration": 10,
    "start_time": "2024-09-04T03:45:45.933Z"
   },
   {
    "duration": 10,
    "start_time": "2024-09-04T03:45:45.945Z"
   },
   {
    "duration": 37,
    "start_time": "2024-09-04T03:45:45.957Z"
   },
   {
    "duration": 6,
    "start_time": "2024-09-04T03:45:45.996Z"
   },
   {
    "duration": 8,
    "start_time": "2024-09-04T03:45:46.004Z"
   },
   {
    "duration": 11,
    "start_time": "2024-09-04T03:45:46.014Z"
   },
   {
    "duration": 10,
    "start_time": "2024-09-04T03:45:46.026Z"
   },
   {
    "duration": 11,
    "start_time": "2024-09-04T03:45:46.038Z"
   },
   {
    "duration": 184,
    "start_time": "2024-09-04T03:45:46.088Z"
   },
   {
    "duration": 48,
    "start_time": "2024-09-04T03:45:46.273Z"
   },
   {
    "duration": 38,
    "start_time": "2024-09-04T03:45:46.324Z"
   },
   {
    "duration": 49,
    "start_time": "2024-09-04T03:45:46.364Z"
   },
   {
    "duration": 14,
    "start_time": "2024-09-04T03:45:46.415Z"
   },
   {
    "duration": 29,
    "start_time": "2024-09-04T03:45:46.431Z"
   },
   {
    "duration": 29,
    "start_time": "2024-09-04T03:45:46.462Z"
   },
   {
    "duration": 24,
    "start_time": "2024-09-04T03:45:46.493Z"
   },
   {
    "duration": 21,
    "start_time": "2024-09-04T03:45:46.519Z"
   },
   {
    "duration": 49,
    "start_time": "2024-09-04T03:45:46.542Z"
   },
   {
    "duration": 9,
    "start_time": "2024-09-04T03:45:46.593Z"
   },
   {
    "duration": 28,
    "start_time": "2024-09-04T03:45:46.604Z"
   },
   {
    "duration": 19,
    "start_time": "2024-09-04T03:45:46.634Z"
   },
   {
    "duration": 58,
    "start_time": "2024-09-04T03:45:46.655Z"
   },
   {
    "duration": 5,
    "start_time": "2024-09-04T03:45:46.789Z"
   },
   {
    "duration": 18,
    "start_time": "2024-09-04T03:45:46.799Z"
   },
   {
    "duration": 73,
    "start_time": "2024-09-04T03:45:46.819Z"
   },
   {
    "duration": 3,
    "start_time": "2024-09-04T03:45:46.894Z"
   },
   {
    "duration": 5,
    "start_time": "2024-09-04T03:45:46.899Z"
   },
   {
    "duration": 4,
    "start_time": "2024-09-04T03:45:46.906Z"
   },
   {
    "duration": 3,
    "start_time": "2024-09-04T03:45:46.913Z"
   },
   {
    "duration": 15,
    "start_time": "2024-09-04T03:45:46.918Z"
   },
   {
    "duration": 10,
    "start_time": "2024-09-04T03:45:46.935Z"
   },
   {
    "duration": 42,
    "start_time": "2024-09-04T03:45:46.946Z"
   },
   {
    "duration": 4,
    "start_time": "2024-09-04T03:45:46.990Z"
   },
   {
    "duration": 4,
    "start_time": "2024-09-04T03:45:46.996Z"
   },
   {
    "duration": 517,
    "start_time": "2024-09-04T03:45:47.002Z"
   },
   {
    "duration": 0,
    "start_time": "2024-09-04T03:45:47.521Z"
   },
   {
    "duration": 0,
    "start_time": "2024-09-04T03:45:47.523Z"
   },
   {
    "duration": 0,
    "start_time": "2024-09-04T03:45:47.525Z"
   },
   {
    "duration": 130,
    "start_time": "2024-09-04T03:53:56.803Z"
   },
   {
    "duration": 4635,
    "start_time": "2024-09-04T04:05:08.640Z"
   },
   {
    "duration": 10,
    "start_time": "2024-09-04T04:11:11.490Z"
   },
   {
    "duration": 882,
    "start_time": "2024-09-04T04:11:21.439Z"
   },
   {
    "duration": 219,
    "start_time": "2024-09-04T04:11:22.323Z"
   },
   {
    "duration": 11,
    "start_time": "2024-09-04T04:11:22.544Z"
   },
   {
    "duration": 8,
    "start_time": "2024-09-04T04:11:22.558Z"
   },
   {
    "duration": 25,
    "start_time": "2024-09-04T04:11:22.568Z"
   },
   {
    "duration": 16,
    "start_time": "2024-09-04T04:11:22.594Z"
   },
   {
    "duration": 8,
    "start_time": "2024-09-04T04:11:22.611Z"
   },
   {
    "duration": 5,
    "start_time": "2024-09-04T04:11:22.620Z"
   },
   {
    "duration": 8,
    "start_time": "2024-09-04T04:11:22.627Z"
   },
   {
    "duration": 11,
    "start_time": "2024-09-04T04:11:22.639Z"
   },
   {
    "duration": 40,
    "start_time": "2024-09-04T04:11:22.651Z"
   },
   {
    "duration": 10,
    "start_time": "2024-09-04T04:11:22.693Z"
   },
   {
    "duration": 183,
    "start_time": "2024-09-04T04:11:22.706Z"
   },
   {
    "duration": 35,
    "start_time": "2024-09-04T04:11:22.890Z"
   },
   {
    "duration": 29,
    "start_time": "2024-09-04T04:11:22.926Z"
   },
   {
    "duration": 48,
    "start_time": "2024-09-04T04:11:22.956Z"
   },
   {
    "duration": 12,
    "start_time": "2024-09-04T04:11:23.006Z"
   },
   {
    "duration": 19,
    "start_time": "2024-09-04T04:11:23.020Z"
   },
   {
    "duration": 15,
    "start_time": "2024-09-04T04:11:23.041Z"
   },
   {
    "duration": 44,
    "start_time": "2024-09-04T04:11:23.058Z"
   },
   {
    "duration": 19,
    "start_time": "2024-09-04T04:11:23.104Z"
   },
   {
    "duration": 23,
    "start_time": "2024-09-04T04:11:23.124Z"
   },
   {
    "duration": 14,
    "start_time": "2024-09-04T04:11:23.148Z"
   },
   {
    "duration": 46,
    "start_time": "2024-09-04T04:11:23.163Z"
   },
   {
    "duration": 23,
    "start_time": "2024-09-04T04:11:23.213Z"
   },
   {
    "duration": 66,
    "start_time": "2024-09-04T04:11:23.240Z"
   },
   {
    "duration": 4,
    "start_time": "2024-09-04T04:11:23.308Z"
   },
   {
    "duration": 82,
    "start_time": "2024-09-04T04:11:23.319Z"
   },
   {
    "duration": 16,
    "start_time": "2024-09-04T04:11:23.403Z"
   },
   {
    "duration": 4,
    "start_time": "2024-09-04T04:11:23.420Z"
   },
   {
    "duration": 5,
    "start_time": "2024-09-04T04:11:23.426Z"
   },
   {
    "duration": 3,
    "start_time": "2024-09-04T04:11:23.434Z"
   },
   {
    "duration": 3,
    "start_time": "2024-09-04T04:11:23.487Z"
   },
   {
    "duration": 16,
    "start_time": "2024-09-04T04:11:23.492Z"
   },
   {
    "duration": 8,
    "start_time": "2024-09-04T04:11:23.510Z"
   },
   {
    "duration": 4,
    "start_time": "2024-09-04T04:11:23.519Z"
   },
   {
    "duration": 4,
    "start_time": "2024-09-04T04:11:23.524Z"
   },
   {
    "duration": 4,
    "start_time": "2024-09-04T04:11:23.530Z"
   },
   {
    "duration": 4615,
    "start_time": "2024-09-04T04:11:23.536Z"
   },
   {
    "duration": 4,
    "start_time": "2024-09-04T04:11:28.153Z"
   },
   {
    "duration": 5,
    "start_time": "2024-09-04T04:11:28.159Z"
   },
   {
    "duration": 4,
    "start_time": "2024-09-04T04:11:28.166Z"
   },
   {
    "duration": 4608,
    "start_time": "2024-09-04T04:11:34.139Z"
   },
   {
    "duration": 7,
    "start_time": "2024-09-04T04:17:24.506Z"
   },
   {
    "duration": 4581,
    "start_time": "2024-09-04T04:17:38.819Z"
   },
   {
    "duration": 11,
    "start_time": "2024-09-04T04:23:39.111Z"
   },
   {
    "duration": 901,
    "start_time": "2024-09-04T04:23:51.118Z"
   },
   {
    "duration": 219,
    "start_time": "2024-09-04T04:23:52.021Z"
   },
   {
    "duration": 12,
    "start_time": "2024-09-04T04:23:52.242Z"
   },
   {
    "duration": 9,
    "start_time": "2024-09-04T04:23:52.257Z"
   },
   {
    "duration": 24,
    "start_time": "2024-09-04T04:23:52.267Z"
   },
   {
    "duration": 9,
    "start_time": "2024-09-04T04:23:52.292Z"
   },
   {
    "duration": 9,
    "start_time": "2024-09-04T04:23:52.302Z"
   },
   {
    "duration": 5,
    "start_time": "2024-09-04T04:23:52.312Z"
   },
   {
    "duration": 8,
    "start_time": "2024-09-04T04:23:52.319Z"
   },
   {
    "duration": 11,
    "start_time": "2024-09-04T04:23:52.331Z"
   },
   {
    "duration": 48,
    "start_time": "2024-09-04T04:23:52.344Z"
   },
   {
    "duration": 10,
    "start_time": "2024-09-04T04:23:52.393Z"
   },
   {
    "duration": 177,
    "start_time": "2024-09-04T04:23:52.405Z"
   },
   {
    "duration": 32,
    "start_time": "2024-09-04T04:23:52.587Z"
   },
   {
    "duration": 32,
    "start_time": "2024-09-04T04:23:52.620Z"
   },
   {
    "duration": 53,
    "start_time": "2024-09-04T04:23:52.654Z"
   },
   {
    "duration": 13,
    "start_time": "2024-09-04T04:23:52.709Z"
   },
   {
    "duration": 18,
    "start_time": "2024-09-04T04:23:52.724Z"
   },
   {
    "duration": 13,
    "start_time": "2024-09-04T04:23:52.744Z"
   },
   {
    "duration": 42,
    "start_time": "2024-09-04T04:23:52.758Z"
   },
   {
    "duration": 13,
    "start_time": "2024-09-04T04:23:52.802Z"
   },
   {
    "duration": 19,
    "start_time": "2024-09-04T04:23:52.816Z"
   },
   {
    "duration": 8,
    "start_time": "2024-09-04T04:23:52.837Z"
   },
   {
    "duration": 48,
    "start_time": "2024-09-04T04:23:52.847Z"
   },
   {
    "duration": 18,
    "start_time": "2024-09-04T04:23:52.897Z"
   },
   {
    "duration": 18,
    "start_time": "2024-09-04T04:23:52.917Z"
   },
   {
    "duration": 3,
    "start_time": "2024-09-04T04:23:52.987Z"
   },
   {
    "duration": 11,
    "start_time": "2024-09-04T04:23:52.994Z"
   },
   {
    "duration": 86,
    "start_time": "2024-09-04T04:23:53.007Z"
   },
   {
    "duration": 3,
    "start_time": "2024-09-04T04:23:53.095Z"
   },
   {
    "duration": 10,
    "start_time": "2024-09-04T04:23:53.100Z"
   },
   {
    "duration": 3,
    "start_time": "2024-09-04T04:23:53.111Z"
   },
   {
    "duration": 5,
    "start_time": "2024-09-04T04:23:53.115Z"
   },
   {
    "duration": 17,
    "start_time": "2024-09-04T04:23:53.121Z"
   },
   {
    "duration": 10,
    "start_time": "2024-09-04T04:23:53.139Z"
   },
   {
    "duration": 40,
    "start_time": "2024-09-04T04:23:53.151Z"
   },
   {
    "duration": 10,
    "start_time": "2024-09-04T04:23:53.192Z"
   },
   {
    "duration": 4,
    "start_time": "2024-09-04T04:23:53.204Z"
   },
   {
    "duration": 4605,
    "start_time": "2024-09-04T04:23:53.210Z"
   },
   {
    "duration": 4,
    "start_time": "2024-09-04T04:23:57.817Z"
   },
   {
    "duration": 4,
    "start_time": "2024-09-04T04:23:57.823Z"
   },
   {
    "duration": 4,
    "start_time": "2024-09-04T04:23:57.829Z"
   },
   {
    "duration": 9,
    "start_time": "2024-09-04T04:24:16.584Z"
   },
   {
    "duration": 894,
    "start_time": "2024-09-04T04:24:21.541Z"
   },
   {
    "duration": 220,
    "start_time": "2024-09-04T04:24:22.437Z"
   },
   {
    "duration": 12,
    "start_time": "2024-09-04T04:24:22.659Z"
   },
   {
    "duration": 20,
    "start_time": "2024-09-04T04:24:22.672Z"
   },
   {
    "duration": 10,
    "start_time": "2024-09-04T04:24:22.694Z"
   },
   {
    "duration": 9,
    "start_time": "2024-09-04T04:24:22.705Z"
   },
   {
    "duration": 8,
    "start_time": "2024-09-04T04:24:22.716Z"
   },
   {
    "duration": 5,
    "start_time": "2024-09-04T04:24:22.725Z"
   },
   {
    "duration": 9,
    "start_time": "2024-09-04T04:24:22.733Z"
   },
   {
    "duration": 47,
    "start_time": "2024-09-04T04:24:22.744Z"
   },
   {
    "duration": 10,
    "start_time": "2024-09-04T04:24:22.792Z"
   },
   {
    "duration": 10,
    "start_time": "2024-09-04T04:24:22.803Z"
   },
   {
    "duration": 183,
    "start_time": "2024-09-04T04:24:22.815Z"
   },
   {
    "duration": 33,
    "start_time": "2024-09-04T04:24:23.002Z"
   },
   {
    "duration": 30,
    "start_time": "2024-09-04T04:24:23.037Z"
   },
   {
    "duration": 55,
    "start_time": "2024-09-04T04:24:23.068Z"
   },
   {
    "duration": 18,
    "start_time": "2024-09-04T04:24:23.124Z"
   },
   {
    "duration": 25,
    "start_time": "2024-09-04T04:24:23.144Z"
   },
   {
    "duration": 36,
    "start_time": "2024-09-04T04:24:23.170Z"
   },
   {
    "duration": 33,
    "start_time": "2024-09-04T04:24:23.208Z"
   },
   {
    "duration": 14,
    "start_time": "2024-09-04T04:24:23.242Z"
   },
   {
    "duration": 42,
    "start_time": "2024-09-04T04:24:23.259Z"
   },
   {
    "duration": 9,
    "start_time": "2024-09-04T04:24:23.305Z"
   },
   {
    "duration": 39,
    "start_time": "2024-09-04T04:24:23.316Z"
   },
   {
    "duration": 18,
    "start_time": "2024-09-04T04:24:23.356Z"
   },
   {
    "duration": 33,
    "start_time": "2024-09-04T04:24:23.376Z"
   },
   {
    "duration": 4,
    "start_time": "2024-09-04T04:24:23.411Z"
   },
   {
    "duration": 17,
    "start_time": "2024-09-04T04:24:23.489Z"
   },
   {
    "duration": 79,
    "start_time": "2024-09-04T04:24:23.510Z"
   },
   {
    "duration": 3,
    "start_time": "2024-09-04T04:24:23.592Z"
   },
   {
    "duration": 6,
    "start_time": "2024-09-04T04:24:23.597Z"
   },
   {
    "duration": 3,
    "start_time": "2024-09-04T04:24:23.604Z"
   },
   {
    "duration": 3,
    "start_time": "2024-09-04T04:24:23.608Z"
   },
   {
    "duration": 14,
    "start_time": "2024-09-04T04:24:23.613Z"
   },
   {
    "duration": 7,
    "start_time": "2024-09-04T04:24:23.628Z"
   },
   {
    "duration": 4,
    "start_time": "2024-09-04T04:24:23.637Z"
   },
   {
    "duration": 45,
    "start_time": "2024-09-04T04:24:23.642Z"
   },
   {
    "duration": 6,
    "start_time": "2024-09-04T04:24:23.689Z"
   },
   {
    "duration": 4655,
    "start_time": "2024-09-04T04:24:23.696Z"
   },
   {
    "duration": 4,
    "start_time": "2024-09-04T04:24:28.353Z"
   },
   {
    "duration": 4,
    "start_time": "2024-09-04T04:24:28.361Z"
   },
   {
    "duration": 4,
    "start_time": "2024-09-04T04:24:28.367Z"
   },
   {
    "duration": 4571,
    "start_time": "2024-09-04T04:24:38.316Z"
   },
   {
    "duration": 11,
    "start_time": "2024-09-04T04:29:07.609Z"
   },
   {
    "duration": 862,
    "start_time": "2024-09-04T04:29:19.466Z"
   },
   {
    "duration": 225,
    "start_time": "2024-09-04T04:29:20.331Z"
   },
   {
    "duration": 15,
    "start_time": "2024-09-04T04:29:20.558Z"
   },
   {
    "duration": 18,
    "start_time": "2024-09-04T04:29:20.576Z"
   },
   {
    "duration": 11,
    "start_time": "2024-09-04T04:29:20.596Z"
   },
   {
    "duration": 9,
    "start_time": "2024-09-04T04:29:20.608Z"
   },
   {
    "duration": 8,
    "start_time": "2024-09-04T04:29:20.619Z"
   },
   {
    "duration": 6,
    "start_time": "2024-09-04T04:29:20.629Z"
   },
   {
    "duration": 8,
    "start_time": "2024-09-04T04:29:20.637Z"
   },
   {
    "duration": 44,
    "start_time": "2024-09-04T04:29:20.648Z"
   },
   {
    "duration": 11,
    "start_time": "2024-09-04T04:29:20.693Z"
   },
   {
    "duration": 10,
    "start_time": "2024-09-04T04:29:20.706Z"
   },
   {
    "duration": 188,
    "start_time": "2024-09-04T04:29:20.718Z"
   },
   {
    "duration": 34,
    "start_time": "2024-09-04T04:29:20.908Z"
   },
   {
    "duration": 46,
    "start_time": "2024-09-04T04:29:20.944Z"
   },
   {
    "duration": 32,
    "start_time": "2024-09-04T04:29:20.992Z"
   },
   {
    "duration": 13,
    "start_time": "2024-09-04T04:29:21.026Z"
   },
   {
    "duration": 19,
    "start_time": "2024-09-04T04:29:21.041Z"
   },
   {
    "duration": 38,
    "start_time": "2024-09-04T04:29:21.061Z"
   },
   {
    "duration": 20,
    "start_time": "2024-09-04T04:29:21.100Z"
   },
   {
    "duration": 14,
    "start_time": "2024-09-04T04:29:21.121Z"
   },
   {
    "duration": 18,
    "start_time": "2024-09-04T04:29:21.137Z"
   },
   {
    "duration": 32,
    "start_time": "2024-09-04T04:29:21.157Z"
   },
   {
    "duration": 24,
    "start_time": "2024-09-04T04:29:21.191Z"
   },
   {
    "duration": 18,
    "start_time": "2024-09-04T04:29:21.216Z"
   },
   {
    "duration": 52,
    "start_time": "2024-09-04T04:29:21.236Z"
   },
   {
    "duration": 3,
    "start_time": "2024-09-04T04:29:21.289Z"
   },
   {
    "duration": 12,
    "start_time": "2024-09-04T04:29:21.297Z"
   },
   {
    "duration": 83,
    "start_time": "2024-09-04T04:29:21.311Z"
   },
   {
    "duration": 3,
    "start_time": "2024-09-04T04:29:21.396Z"
   },
   {
    "duration": 4,
    "start_time": "2024-09-04T04:29:21.401Z"
   },
   {
    "duration": 2,
    "start_time": "2024-09-04T04:29:21.407Z"
   },
   {
    "duration": 3,
    "start_time": "2024-09-04T04:29:21.411Z"
   },
   {
    "duration": 15,
    "start_time": "2024-09-04T04:29:21.416Z"
   },
   {
    "duration": 8,
    "start_time": "2024-09-04T04:29:21.432Z"
   },
   {
    "duration": 4,
    "start_time": "2024-09-04T04:29:21.487Z"
   },
   {
    "duration": 4,
    "start_time": "2024-09-04T04:29:21.492Z"
   },
   {
    "duration": 4,
    "start_time": "2024-09-04T04:29:21.498Z"
   },
   {
    "duration": 5855,
    "start_time": "2024-09-04T04:29:21.504Z"
   },
   {
    "duration": 4,
    "start_time": "2024-09-04T04:29:27.361Z"
   },
   {
    "duration": 4,
    "start_time": "2024-09-04T04:29:27.367Z"
   },
   {
    "duration": 3,
    "start_time": "2024-09-04T04:29:27.373Z"
   },
   {
    "duration": 4954,
    "start_time": "2024-09-04T04:31:30.668Z"
   },
   {
    "duration": 4923,
    "start_time": "2024-09-04T04:36:08.508Z"
   },
   {
    "duration": 4735,
    "start_time": "2024-09-04T04:37:03.696Z"
   },
   {
    "duration": 4949,
    "start_time": "2024-09-04T04:38:23.196Z"
   },
   {
    "duration": 244,
    "start_time": "2024-09-04T04:40:50.241Z"
   },
   {
    "duration": 5206,
    "start_time": "2024-09-04T04:41:05.842Z"
   },
   {
    "duration": 4896,
    "start_time": "2024-09-04T04:42:04.212Z"
   },
   {
    "duration": 4928,
    "start_time": "2024-09-04T04:42:30.978Z"
   },
   {
    "duration": 4,
    "start_time": "2024-09-04T04:49:31.626Z"
   },
   {
    "duration": 5,
    "start_time": "2024-09-04T04:49:34.937Z"
   },
   {
    "duration": 4,
    "start_time": "2024-09-04T04:49:39.231Z"
   },
   {
    "duration": 163,
    "start_time": "2024-09-04T06:17:11.420Z"
   },
   {
    "duration": 2828,
    "start_time": "2024-09-04T06:17:16.619Z"
   },
   {
    "duration": 416,
    "start_time": "2024-09-04T06:17:19.449Z"
   },
   {
    "duration": 13,
    "start_time": "2024-09-04T06:17:19.867Z"
   },
   {
    "duration": 10,
    "start_time": "2024-09-04T06:17:19.881Z"
   },
   {
    "duration": 9,
    "start_time": "2024-09-04T06:17:19.893Z"
   },
   {
    "duration": 9,
    "start_time": "2024-09-04T06:17:19.903Z"
   },
   {
    "duration": 37,
    "start_time": "2024-09-04T06:17:19.913Z"
   },
   {
    "duration": 7,
    "start_time": "2024-09-04T06:17:19.952Z"
   },
   {
    "duration": 9,
    "start_time": "2024-09-04T06:17:19.960Z"
   },
   {
    "duration": 10,
    "start_time": "2024-09-04T06:17:19.972Z"
   },
   {
    "duration": 10,
    "start_time": "2024-09-04T06:17:19.983Z"
   },
   {
    "duration": 10,
    "start_time": "2024-09-04T06:17:19.996Z"
   },
   {
    "duration": 165,
    "start_time": "2024-09-04T06:17:20.007Z"
   },
   {
    "duration": 36,
    "start_time": "2024-09-04T06:17:20.176Z"
   },
   {
    "duration": 42,
    "start_time": "2024-09-04T06:17:20.214Z"
   },
   {
    "duration": 35,
    "start_time": "2024-09-04T06:17:20.258Z"
   },
   {
    "duration": 16,
    "start_time": "2024-09-04T06:17:20.295Z"
   },
   {
    "duration": 41,
    "start_time": "2024-09-04T06:17:20.313Z"
   },
   {
    "duration": 18,
    "start_time": "2024-09-04T06:17:20.356Z"
   },
   {
    "duration": 18,
    "start_time": "2024-09-04T06:17:20.376Z"
   },
   {
    "duration": 16,
    "start_time": "2024-09-04T06:17:20.396Z"
   },
   {
    "duration": 43,
    "start_time": "2024-09-04T06:17:20.414Z"
   },
   {
    "duration": 8,
    "start_time": "2024-09-04T06:17:20.459Z"
   },
   {
    "duration": 33,
    "start_time": "2024-09-04T06:17:20.469Z"
   },
   {
    "duration": 37,
    "start_time": "2024-09-04T06:17:20.507Z"
   },
   {
    "duration": 104,
    "start_time": "2024-09-04T06:17:20.546Z"
   },
   {
    "duration": 10,
    "start_time": "2024-09-04T06:17:20.652Z"
   },
   {
    "duration": 87,
    "start_time": "2024-09-04T06:17:20.663Z"
   },
   {
    "duration": 14,
    "start_time": "2024-09-04T06:17:20.752Z"
   },
   {
    "duration": 3,
    "start_time": "2024-09-04T06:17:20.768Z"
   },
   {
    "duration": 5,
    "start_time": "2024-09-04T06:17:20.773Z"
   },
   {
    "duration": 3,
    "start_time": "2024-09-04T06:17:20.779Z"
   },
   {
    "duration": 3,
    "start_time": "2024-09-04T06:17:20.784Z"
   },
   {
    "duration": 63,
    "start_time": "2024-09-04T06:17:20.788Z"
   },
   {
    "duration": 8,
    "start_time": "2024-09-04T06:17:20.853Z"
   },
   {
    "duration": 5,
    "start_time": "2024-09-04T06:17:20.863Z"
   },
   {
    "duration": 4,
    "start_time": "2024-09-04T06:17:20.870Z"
   },
   {
    "duration": 4,
    "start_time": "2024-09-04T06:17:20.876Z"
   },
   {
    "duration": 5310,
    "start_time": "2024-09-04T06:17:20.881Z"
   },
   {
    "duration": 5,
    "start_time": "2024-09-04T06:17:46.251Z"
   },
   {
    "duration": 5,
    "start_time": "2024-09-04T06:17:50.033Z"
   },
   {
    "duration": 4,
    "start_time": "2024-09-04T06:18:24.230Z"
   },
   {
    "duration": 332,
    "start_time": "2024-09-04T06:18:30.970Z"
   },
   {
    "duration": 62,
    "start_time": "2024-09-04T06:19:02.366Z"
   },
   {
    "duration": 54,
    "start_time": "2024-09-04T06:20:09.211Z"
   },
   {
    "duration": 922,
    "start_time": "2024-09-04T06:20:41.261Z"
   },
   {
    "duration": 5,
    "start_time": "2024-09-04T06:21:19.241Z"
   },
   {
    "duration": 6,
    "start_time": "2024-09-04T06:23:37.808Z"
   },
   {
    "duration": 5,
    "start_time": "2024-09-04T06:24:16.649Z"
   },
   {
    "duration": 844,
    "start_time": "2024-09-04T06:24:34.562Z"
   },
   {
    "duration": 837,
    "start_time": "2024-09-04T06:24:55.598Z"
   },
   {
    "duration": 7,
    "start_time": "2024-09-04T06:25:24.926Z"
   },
   {
    "duration": 5,
    "start_time": "2024-09-04T06:25:51.266Z"
   },
   {
    "duration": 8,
    "start_time": "2024-09-04T06:26:03.926Z"
   },
   {
    "duration": 838,
    "start_time": "2024-09-04T06:26:24.354Z"
   },
   {
    "duration": 5,
    "start_time": "2024-09-04T06:27:05.709Z"
   },
   {
    "duration": 166,
    "start_time": "2024-09-07T19:27:38.563Z"
   },
   {
    "duration": 2631,
    "start_time": "2024-09-07T19:27:46.602Z"
   },
   {
    "duration": 419,
    "start_time": "2024-09-07T19:27:49.238Z"
   },
   {
    "duration": 12,
    "start_time": "2024-09-07T19:27:49.660Z"
   },
   {
    "duration": 9,
    "start_time": "2024-09-07T19:27:49.674Z"
   },
   {
    "duration": 9,
    "start_time": "2024-09-07T19:27:49.686Z"
   },
   {
    "duration": 9,
    "start_time": "2024-09-07T19:27:49.697Z"
   },
   {
    "duration": 37,
    "start_time": "2024-09-07T19:27:49.708Z"
   },
   {
    "duration": 6,
    "start_time": "2024-09-07T19:27:49.747Z"
   },
   {
    "duration": 8,
    "start_time": "2024-09-07T19:27:49.754Z"
   },
   {
    "duration": 11,
    "start_time": "2024-09-07T19:27:49.764Z"
   },
   {
    "duration": 11,
    "start_time": "2024-09-07T19:27:49.777Z"
   },
   {
    "duration": 10,
    "start_time": "2024-09-07T19:27:49.789Z"
   },
   {
    "duration": 156,
    "start_time": "2024-09-07T19:27:49.801Z"
   },
   {
    "duration": 33,
    "start_time": "2024-09-07T19:27:49.962Z"
   },
   {
    "duration": 48,
    "start_time": "2024-09-07T19:27:49.997Z"
   },
   {
    "duration": 39,
    "start_time": "2024-09-07T19:27:50.047Z"
   },
   {
    "duration": 14,
    "start_time": "2024-09-07T19:27:50.088Z"
   },
   {
    "duration": 39,
    "start_time": "2024-09-07T19:27:50.104Z"
   },
   {
    "duration": 14,
    "start_time": "2024-09-07T19:27:50.145Z"
   },
   {
    "duration": 17,
    "start_time": "2024-09-07T19:27:50.161Z"
   },
   {
    "duration": 14,
    "start_time": "2024-09-07T19:27:50.180Z"
   },
   {
    "duration": 18,
    "start_time": "2024-09-07T19:27:50.196Z"
   },
   {
    "duration": 32,
    "start_time": "2024-09-07T19:27:50.215Z"
   },
   {
    "duration": 26,
    "start_time": "2024-09-07T19:27:50.249Z"
   },
   {
    "duration": 21,
    "start_time": "2024-09-07T19:27:50.277Z"
   },
   {
    "duration": 58,
    "start_time": "2024-09-07T19:27:50.299Z"
   },
   {
    "duration": 3,
    "start_time": "2024-09-07T19:27:50.359Z"
   },
   {
    "duration": 86,
    "start_time": "2024-09-07T19:27:50.364Z"
   },
   {
    "duration": 14,
    "start_time": "2024-09-07T19:27:50.453Z"
   },
   {
    "duration": 3,
    "start_time": "2024-09-07T19:27:50.470Z"
   },
   {
    "duration": 4,
    "start_time": "2024-09-07T19:27:50.477Z"
   },
   {
    "duration": 3,
    "start_time": "2024-09-07T19:27:50.546Z"
   },
   {
    "duration": 3,
    "start_time": "2024-09-07T19:27:50.552Z"
   },
   {
    "duration": 17,
    "start_time": "2024-09-07T19:27:50.557Z"
   },
   {
    "duration": 8,
    "start_time": "2024-09-07T19:27:50.575Z"
   },
   {
    "duration": 5,
    "start_time": "2024-09-07T19:27:50.585Z"
   },
   {
    "duration": 4,
    "start_time": "2024-09-07T19:27:50.592Z"
   },
   {
    "duration": 4,
    "start_time": "2024-09-07T19:27:50.598Z"
   },
   {
    "duration": 3517,
    "start_time": "2024-09-07T19:28:01.902Z"
   },
   {
    "duration": 3435,
    "start_time": "2024-09-07T19:28:42.529Z"
   },
   {
    "duration": 3381,
    "start_time": "2024-09-07T19:29:13.420Z"
   },
   {
    "duration": 7,
    "start_time": "2024-09-07T19:31:11.363Z"
   },
   {
    "duration": 3400,
    "start_time": "2024-09-07T19:32:10.016Z"
   },
   {
    "duration": 3387,
    "start_time": "2024-09-07T19:39:40.487Z"
   },
   {
    "duration": 3411,
    "start_time": "2024-09-07T19:40:30.587Z"
   },
   {
    "duration": 1152,
    "start_time": "2024-09-07T19:43:14.914Z"
   },
   {
    "duration": 1145,
    "start_time": "2024-09-07T19:44:44.271Z"
   },
   {
    "duration": 3440,
    "start_time": "2024-09-07T19:51:52.311Z"
   },
   {
    "duration": 897,
    "start_time": "2024-09-07T19:52:04.086Z"
   },
   {
    "duration": 242,
    "start_time": "2024-09-07T19:52:04.985Z"
   },
   {
    "duration": 18,
    "start_time": "2024-09-07T19:52:05.228Z"
   },
   {
    "duration": 10,
    "start_time": "2024-09-07T19:52:05.248Z"
   },
   {
    "duration": 11,
    "start_time": "2024-09-07T19:52:05.260Z"
   },
   {
    "duration": 9,
    "start_time": "2024-09-07T19:52:05.273Z"
   },
   {
    "duration": 9,
    "start_time": "2024-09-07T19:52:05.283Z"
   },
   {
    "duration": 5,
    "start_time": "2024-09-07T19:52:05.293Z"
   },
   {
    "duration": 46,
    "start_time": "2024-09-07T19:52:05.300Z"
   },
   {
    "duration": 12,
    "start_time": "2024-09-07T19:52:05.347Z"
   },
   {
    "duration": 10,
    "start_time": "2024-09-07T19:52:05.362Z"
   },
   {
    "duration": 11,
    "start_time": "2024-09-07T19:52:05.373Z"
   },
   {
    "duration": 200,
    "start_time": "2024-09-07T19:52:05.385Z"
   },
   {
    "duration": 32,
    "start_time": "2024-09-07T19:52:05.589Z"
   },
   {
    "duration": 44,
    "start_time": "2024-09-07T19:52:05.623Z"
   },
   {
    "duration": 31,
    "start_time": "2024-09-07T19:52:05.669Z"
   },
   {
    "duration": 13,
    "start_time": "2024-09-07T19:52:05.702Z"
   },
   {
    "duration": 35,
    "start_time": "2024-09-07T19:52:05.718Z"
   },
   {
    "duration": 16,
    "start_time": "2024-09-07T19:52:05.755Z"
   },
   {
    "duration": 26,
    "start_time": "2024-09-07T19:52:05.773Z"
   },
   {
    "duration": 15,
    "start_time": "2024-09-07T19:52:05.800Z"
   },
   {
    "duration": 44,
    "start_time": "2024-09-07T19:52:05.817Z"
   },
   {
    "duration": 9,
    "start_time": "2024-09-07T19:52:05.864Z"
   },
   {
    "duration": 25,
    "start_time": "2024-09-07T19:52:05.875Z"
   },
   {
    "duration": 18,
    "start_time": "2024-09-07T19:52:05.902Z"
   },
   {
    "duration": 37,
    "start_time": "2024-09-07T19:52:05.922Z"
   },
   {
    "duration": 5,
    "start_time": "2024-09-07T19:52:05.963Z"
   },
   {
    "duration": 16,
    "start_time": "2024-09-07T19:52:06.043Z"
   },
   {
    "duration": 11,
    "start_time": "2024-09-07T19:52:06.062Z"
   },
   {
    "duration": 4,
    "start_time": "2024-09-07T19:52:06.075Z"
   },
   {
    "duration": 7,
    "start_time": "2024-09-07T19:52:06.143Z"
   },
   {
    "duration": 2,
    "start_time": "2024-09-07T19:52:06.152Z"
   },
   {
    "duration": 3,
    "start_time": "2024-09-07T19:52:06.156Z"
   },
   {
    "duration": 15,
    "start_time": "2024-09-07T19:52:06.161Z"
   },
   {
    "duration": 7,
    "start_time": "2024-09-07T19:52:06.178Z"
   },
   {
    "duration": 5,
    "start_time": "2024-09-07T19:52:06.187Z"
   },
   {
    "duration": 4,
    "start_time": "2024-09-07T19:52:06.193Z"
   },
   {
    "duration": 44,
    "start_time": "2024-09-07T19:52:06.199Z"
   },
   {
    "duration": 3745,
    "start_time": "2024-09-07T19:52:06.245Z"
   },
   {
    "duration": 4,
    "start_time": "2024-09-07T19:52:09.992Z"
   },
   {
    "duration": 5,
    "start_time": "2024-09-07T19:52:10.001Z"
   },
   {
    "duration": 5,
    "start_time": "2024-09-07T19:52:10.008Z"
   },
   {
    "duration": 3418,
    "start_time": "2024-09-07T19:53:31.109Z"
   },
   {
    "duration": 3437,
    "start_time": "2024-09-07T19:54:49.035Z"
   },
   {
    "duration": 10,
    "start_time": "2024-09-07T19:59:08.641Z"
   },
   {
    "duration": 908,
    "start_time": "2024-09-07T19:59:16.087Z"
   },
   {
    "duration": 229,
    "start_time": "2024-09-07T19:59:16.997Z"
   },
   {
    "duration": 15,
    "start_time": "2024-09-07T19:59:17.229Z"
   },
   {
    "duration": 11,
    "start_time": "2024-09-07T19:59:17.247Z"
   },
   {
    "duration": 8,
    "start_time": "2024-09-07T19:59:17.261Z"
   },
   {
    "duration": 10,
    "start_time": "2024-09-07T19:59:17.271Z"
   },
   {
    "duration": 8,
    "start_time": "2024-09-07T19:59:17.282Z"
   },
   {
    "duration": 6,
    "start_time": "2024-09-07T19:59:17.291Z"
   },
   {
    "duration": 50,
    "start_time": "2024-09-07T19:59:17.298Z"
   },
   {
    "duration": 11,
    "start_time": "2024-09-07T19:59:17.351Z"
   },
   {
    "duration": 10,
    "start_time": "2024-09-07T19:59:17.364Z"
   },
   {
    "duration": 10,
    "start_time": "2024-09-07T19:59:17.376Z"
   },
   {
    "duration": 208,
    "start_time": "2024-09-07T19:59:17.387Z"
   },
   {
    "duration": 46,
    "start_time": "2024-09-07T19:59:17.597Z"
   },
   {
    "duration": 31,
    "start_time": "2024-09-07T19:59:17.645Z"
   },
   {
    "duration": 32,
    "start_time": "2024-09-07T19:59:17.678Z"
   },
   {
    "duration": 31,
    "start_time": "2024-09-07T19:59:17.712Z"
   },
   {
    "duration": 20,
    "start_time": "2024-09-07T19:59:17.745Z"
   },
   {
    "duration": 13,
    "start_time": "2024-09-07T19:59:17.766Z"
   },
   {
    "duration": 17,
    "start_time": "2024-09-07T19:59:17.781Z"
   },
   {
    "duration": 15,
    "start_time": "2024-09-07T19:59:17.800Z"
   },
   {
    "duration": 43,
    "start_time": "2024-09-07T19:59:17.816Z"
   },
   {
    "duration": 8,
    "start_time": "2024-09-07T19:59:17.861Z"
   },
   {
    "duration": 25,
    "start_time": "2024-09-07T19:59:17.871Z"
   },
   {
    "duration": 45,
    "start_time": "2024-09-07T19:59:17.898Z"
   },
   {
    "duration": 19,
    "start_time": "2024-09-07T19:59:17.945Z"
   },
   {
    "duration": 3,
    "start_time": "2024-09-07T19:59:17.966Z"
   },
   {
    "duration": 83,
    "start_time": "2024-09-07T19:59:17.974Z"
   },
   {
    "duration": 82,
    "start_time": "2024-09-07T19:59:18.061Z"
   },
   {
    "duration": 4,
    "start_time": "2024-09-07T19:59:18.145Z"
   },
   {
    "duration": 5,
    "start_time": "2024-09-07T19:59:18.150Z"
   },
   {
    "duration": 3,
    "start_time": "2024-09-07T19:59:18.157Z"
   },
   {
    "duration": 3,
    "start_time": "2024-09-07T19:59:18.162Z"
   },
   {
    "duration": 15,
    "start_time": "2024-09-07T19:59:18.166Z"
   },
   {
    "duration": 7,
    "start_time": "2024-09-07T19:59:18.184Z"
   },
   {
    "duration": 4,
    "start_time": "2024-09-07T19:59:18.193Z"
   },
   {
    "duration": 44,
    "start_time": "2024-09-07T19:59:18.199Z"
   },
   {
    "duration": 5,
    "start_time": "2024-09-07T19:59:18.245Z"
   },
   {
    "duration": 3101,
    "start_time": "2024-09-07T19:59:18.251Z"
   },
   {
    "duration": 4,
    "start_time": "2024-09-07T19:59:21.354Z"
   },
   {
    "duration": 5,
    "start_time": "2024-09-07T19:59:21.360Z"
   },
   {
    "duration": 4,
    "start_time": "2024-09-07T19:59:21.366Z"
   },
   {
    "duration": 4,
    "start_time": "2024-09-07T20:02:34.054Z"
   },
   {
    "duration": 5,
    "start_time": "2024-09-07T20:02:36.700Z"
   },
   {
    "duration": 4,
    "start_time": "2024-09-07T20:02:39.731Z"
   },
   {
    "duration": 2661,
    "start_time": "2024-09-08T03:02:54.133Z"
   },
   {
    "duration": 359,
    "start_time": "2024-09-08T03:02:56.797Z"
   },
   {
    "duration": 13,
    "start_time": "2024-09-08T03:02:57.157Z"
   },
   {
    "duration": 9,
    "start_time": "2024-09-08T03:02:57.173Z"
   },
   {
    "duration": 10,
    "start_time": "2024-09-08T03:02:57.184Z"
   },
   {
    "duration": 9,
    "start_time": "2024-09-08T03:02:57.197Z"
   },
   {
    "duration": 41,
    "start_time": "2024-09-08T03:02:57.207Z"
   },
   {
    "duration": 5,
    "start_time": "2024-09-08T03:02:57.250Z"
   },
   {
    "duration": 9,
    "start_time": "2024-09-08T03:02:57.256Z"
   },
   {
    "duration": 11,
    "start_time": "2024-09-08T03:02:57.269Z"
   },
   {
    "duration": 11,
    "start_time": "2024-09-08T03:02:57.281Z"
   },
   {
    "duration": 10,
    "start_time": "2024-09-08T03:02:57.293Z"
   },
   {
    "duration": 162,
    "start_time": "2024-09-08T03:02:57.305Z"
   },
   {
    "duration": 35,
    "start_time": "2024-09-08T03:02:57.469Z"
   },
   {
    "duration": 42,
    "start_time": "2024-09-08T03:02:57.506Z"
   },
   {
    "duration": 33,
    "start_time": "2024-09-08T03:02:57.550Z"
   },
   {
    "duration": 13,
    "start_time": "2024-09-08T03:02:57.585Z"
   },
   {
    "duration": 43,
    "start_time": "2024-09-08T03:02:57.600Z"
   },
   {
    "duration": 16,
    "start_time": "2024-09-08T03:02:57.645Z"
   },
   {
    "duration": 19,
    "start_time": "2024-09-08T03:02:57.662Z"
   },
   {
    "duration": 14,
    "start_time": "2024-09-08T03:02:57.683Z"
   },
   {
    "duration": 45,
    "start_time": "2024-09-08T03:02:57.699Z"
   },
   {
    "duration": 10,
    "start_time": "2024-09-08T03:02:57.745Z"
   },
   {
    "duration": 27,
    "start_time": "2024-09-08T03:02:57.756Z"
   },
   {
    "duration": 19,
    "start_time": "2024-09-08T03:02:57.785Z"
   },
   {
    "duration": 54,
    "start_time": "2024-09-08T03:02:57.806Z"
   },
   {
    "duration": 3,
    "start_time": "2024-09-08T03:02:57.862Z"
   },
   {
    "duration": 12,
    "start_time": "2024-09-08T03:02:57.945Z"
   },
   {
    "duration": 11,
    "start_time": "2024-09-08T03:02:57.961Z"
   },
   {
    "duration": 4,
    "start_time": "2024-09-08T03:02:57.974Z"
   },
   {
    "duration": 5,
    "start_time": "2024-09-08T03:02:58.043Z"
   },
   {
    "duration": 2,
    "start_time": "2024-09-08T03:02:58.050Z"
   },
   {
    "duration": 3,
    "start_time": "2024-09-08T03:02:58.054Z"
   },
   {
    "duration": 14,
    "start_time": "2024-09-08T03:02:58.059Z"
   },
   {
    "duration": 7,
    "start_time": "2024-09-08T03:02:58.075Z"
   },
   {
    "duration": 3104,
    "start_time": "2024-09-08T03:03:01.306Z"
   },
   {
    "duration": 6,
    "start_time": "2024-09-08T03:03:05.504Z"
   },
   {
    "duration": 5,
    "start_time": "2024-09-08T03:03:06.472Z"
   },
   {
    "duration": 5,
    "start_time": "2024-09-08T03:03:09.384Z"
   },
   {
    "duration": 36,
    "start_time": "2024-09-08T03:04:01.667Z"
   },
   {
    "duration": 7,
    "start_time": "2024-09-08T03:04:17.067Z"
   },
   {
    "duration": 282,
    "start_time": "2024-09-08T03:04:20.153Z"
   },
   {
    "duration": 4,
    "start_time": "2024-09-08T03:04:28.915Z"
   },
   {
    "duration": 4,
    "start_time": "2024-09-08T03:05:33.150Z"
   },
   {
    "duration": 4,
    "start_time": "2024-09-08T03:05:39.311Z"
   },
   {
    "duration": 282,
    "start_time": "2024-09-08T03:07:52.725Z"
   },
   {
    "duration": 261,
    "start_time": "2024-09-08T03:08:00.574Z"
   },
   {
    "duration": 5,
    "start_time": "2024-09-08T03:08:40.558Z"
   },
   {
    "duration": 66,
    "start_time": "2024-09-08T03:08:59.328Z"
   },
   {
    "duration": 54,
    "start_time": "2024-09-08T03:09:36.771Z"
   },
   {
    "duration": 939,
    "start_time": "2024-09-08T03:10:03.102Z"
   },
   {
    "duration": 173,
    "start_time": "2024-09-10T03:00:06.462Z"
   },
   {
    "duration": 2728,
    "start_time": "2024-09-10T03:00:11.973Z"
   },
   {
    "duration": 342,
    "start_time": "2024-09-10T03:00:14.704Z"
   },
   {
    "duration": 13,
    "start_time": "2024-09-10T03:00:15.048Z"
   },
   {
    "duration": 11,
    "start_time": "2024-09-10T03:00:15.063Z"
   },
   {
    "duration": 10,
    "start_time": "2024-09-10T03:00:15.077Z"
   },
   {
    "duration": 9,
    "start_time": "2024-09-10T03:00:15.088Z"
   },
   {
    "duration": 8,
    "start_time": "2024-09-10T03:00:15.099Z"
   },
   {
    "duration": 7,
    "start_time": "2024-09-10T03:00:15.109Z"
   },
   {
    "duration": 9,
    "start_time": "2024-09-10T03:00:15.118Z"
   },
   {
    "duration": 52,
    "start_time": "2024-09-10T03:00:15.129Z"
   },
   {
    "duration": 12,
    "start_time": "2024-09-10T03:00:15.183Z"
   },
   {
    "duration": 10,
    "start_time": "2024-09-10T03:00:15.198Z"
   },
   {
    "duration": 215,
    "start_time": "2024-09-10T03:00:15.210Z"
   },
   {
    "duration": 46,
    "start_time": "2024-09-10T03:00:15.431Z"
   },
   {
    "duration": 31,
    "start_time": "2024-09-10T03:00:15.479Z"
   },
   {
    "duration": 36,
    "start_time": "2024-09-10T03:00:15.512Z"
   },
   {
    "duration": 34,
    "start_time": "2024-09-10T03:00:15.549Z"
   },
   {
    "duration": 20,
    "start_time": "2024-09-10T03:00:15.585Z"
   },
   {
    "duration": 15,
    "start_time": "2024-09-10T03:00:15.607Z"
   },
   {
    "duration": 49,
    "start_time": "2024-09-10T03:00:15.624Z"
   },
   {
    "duration": 17,
    "start_time": "2024-09-10T03:00:15.675Z"
   },
   {
    "duration": 29,
    "start_time": "2024-09-10T03:00:15.694Z"
   },
   {
    "duration": 10,
    "start_time": "2024-09-10T03:00:15.725Z"
   },
   {
    "duration": 53,
    "start_time": "2024-09-10T03:00:15.738Z"
   },
   {
    "duration": 20,
    "start_time": "2024-09-10T03:00:15.792Z"
   },
   {
    "duration": 66,
    "start_time": "2024-09-10T03:00:15.814Z"
   },
   {
    "duration": 3,
    "start_time": "2024-09-10T03:00:15.882Z"
   },
   {
    "duration": 90,
    "start_time": "2024-09-10T03:00:15.887Z"
   },
   {
    "duration": 13,
    "start_time": "2024-09-10T03:00:15.981Z"
   },
   {
    "duration": 4,
    "start_time": "2024-09-10T03:00:15.996Z"
   },
   {
    "duration": 5,
    "start_time": "2024-09-10T03:00:16.002Z"
   },
   {
    "duration": 3,
    "start_time": "2024-09-10T03:00:16.008Z"
   },
   {
    "duration": 3,
    "start_time": "2024-09-10T03:00:16.071Z"
   },
   {
    "duration": 15,
    "start_time": "2024-09-10T03:00:16.075Z"
   },
   {
    "duration": 8,
    "start_time": "2024-09-10T03:00:16.092Z"
   },
   {
    "duration": 3,
    "start_time": "2024-09-10T03:00:21.053Z"
   },
   {
    "duration": 4,
    "start_time": "2024-09-10T03:00:30.340Z"
   },
   {
    "duration": 4,
    "start_time": "2024-09-10T03:00:34.716Z"
   },
   {
    "duration": 84,
    "start_time": "2024-09-10T03:07:53.926Z"
   },
   {
    "duration": 14,
    "start_time": "2024-09-10T03:09:08.849Z"
   },
   {
    "duration": 14,
    "start_time": "2024-09-10T03:09:25.627Z"
   },
   {
    "duration": 14,
    "start_time": "2024-09-10T03:09:33.613Z"
   },
   {
    "duration": 17,
    "start_time": "2024-09-10T03:10:59.877Z"
   },
   {
    "duration": 3,
    "start_time": "2024-09-10T03:11:28.614Z"
   },
   {
    "duration": 5,
    "start_time": "2024-09-10T03:11:45.482Z"
   },
   {
    "duration": 4,
    "start_time": "2024-09-10T03:11:58.819Z"
   },
   {
    "duration": 7,
    "start_time": "2024-09-10T03:16:40.867Z"
   },
   {
    "duration": 3085,
    "start_time": "2024-09-10T03:17:00.795Z"
   },
   {
    "duration": 19,
    "start_time": "2024-09-10T03:17:35.945Z"
   },
   {
    "duration": 3252,
    "start_time": "2024-09-10T03:17:56.211Z"
   },
   {
    "duration": 3128,
    "start_time": "2024-09-10T03:20:31.803Z"
   },
   {
    "duration": 3109,
    "start_time": "2024-09-10T03:21:39.478Z"
   },
   {
    "duration": 7,
    "start_time": "2024-09-10T03:23:46.146Z"
   },
   {
    "duration": 3048,
    "start_time": "2024-09-10T03:23:53.801Z"
   },
   {
    "duration": 3068,
    "start_time": "2024-09-10T03:25:22.173Z"
   },
   {
    "duration": 3117,
    "start_time": "2024-09-10T03:25:54.483Z"
   },
   {
    "duration": 3138,
    "start_time": "2024-09-10T03:26:14.559Z"
   },
   {
    "duration": 3136,
    "start_time": "2024-09-10T03:26:55.867Z"
   },
   {
    "duration": 3074,
    "start_time": "2024-09-10T03:27:34.173Z"
   },
   {
    "duration": 3153,
    "start_time": "2024-09-10T03:27:45.421Z"
   },
   {
    "duration": 2981,
    "start_time": "2024-09-10T03:29:17.638Z"
   },
   {
    "duration": 3054,
    "start_time": "2024-09-10T03:32:02.508Z"
   },
   {
    "duration": 6,
    "start_time": "2024-09-10T03:33:09.621Z"
   },
   {
    "duration": 8,
    "start_time": "2024-09-10T03:33:29.503Z"
   },
   {
    "duration": 5,
    "start_time": "2024-09-10T03:33:47.593Z"
   },
   {
    "duration": 3079,
    "start_time": "2024-09-10T03:36:51.274Z"
   },
   {
    "duration": 3035,
    "start_time": "2024-09-10T03:38:38.928Z"
   },
   {
    "duration": 7,
    "start_time": "2024-09-10T03:39:43.972Z"
   },
   {
    "duration": 5,
    "start_time": "2024-09-10T03:40:03.299Z"
   },
   {
    "duration": 5,
    "start_time": "2024-09-10T03:40:13.520Z"
   },
   {
    "duration": 846,
    "start_time": "2024-09-10T04:00:44.180Z"
   },
   {
    "duration": 1044,
    "start_time": "2024-09-10T05:37:36.909Z"
   },
   {
    "duration": 441,
    "start_time": "2024-09-10T05:37:37.955Z"
   },
   {
    "duration": 13,
    "start_time": "2024-09-10T05:37:38.398Z"
   },
   {
    "duration": 11,
    "start_time": "2024-09-10T05:37:38.412Z"
   },
   {
    "duration": 26,
    "start_time": "2024-09-10T05:37:38.426Z"
   },
   {
    "duration": 10,
    "start_time": "2024-09-10T05:37:38.454Z"
   },
   {
    "duration": 9,
    "start_time": "2024-09-10T05:37:38.467Z"
   },
   {
    "duration": 7,
    "start_time": "2024-09-10T05:37:38.478Z"
   },
   {
    "duration": 10,
    "start_time": "2024-09-10T05:37:38.486Z"
   },
   {
    "duration": 49,
    "start_time": "2024-09-10T05:37:38.498Z"
   },
   {
    "duration": 12,
    "start_time": "2024-09-10T05:37:38.549Z"
   },
   {
    "duration": 12,
    "start_time": "2024-09-10T05:37:38.563Z"
   },
   {
    "duration": 221,
    "start_time": "2024-09-10T05:37:38.576Z"
   },
   {
    "duration": 49,
    "start_time": "2024-09-10T05:37:38.801Z"
   },
   {
    "duration": 31,
    "start_time": "2024-09-10T05:37:38.852Z"
   },
   {
    "duration": 35,
    "start_time": "2024-09-10T05:37:38.885Z"
   },
   {
    "duration": 33,
    "start_time": "2024-09-10T05:37:38.922Z"
   },
   {
    "duration": 21,
    "start_time": "2024-09-10T05:37:38.957Z"
   },
   {
    "duration": 16,
    "start_time": "2024-09-10T05:37:38.980Z"
   },
   {
    "duration": 46,
    "start_time": "2024-09-10T05:37:38.998Z"
   },
   {
    "duration": 16,
    "start_time": "2024-09-10T05:37:39.046Z"
   },
   {
    "duration": 21,
    "start_time": "2024-09-10T05:37:39.063Z"
   },
   {
    "duration": 8,
    "start_time": "2024-09-10T05:37:39.086Z"
   },
   {
    "duration": 51,
    "start_time": "2024-09-10T05:37:39.096Z"
   },
   {
    "duration": 20,
    "start_time": "2024-09-10T05:37:39.149Z"
   },
   {
    "duration": 72,
    "start_time": "2024-09-10T05:37:39.171Z"
   },
   {
    "duration": 4,
    "start_time": "2024-09-10T05:37:39.245Z"
   },
   {
    "duration": 12,
    "start_time": "2024-09-10T05:37:39.251Z"
   },
   {
    "duration": 13,
    "start_time": "2024-09-10T05:37:39.342Z"
   },
   {
    "duration": 4,
    "start_time": "2024-09-10T05:37:39.357Z"
   },
   {
    "duration": 5,
    "start_time": "2024-09-10T05:37:39.362Z"
   },
   {
    "duration": 3,
    "start_time": "2024-09-10T05:37:39.369Z"
   },
   {
    "duration": 3,
    "start_time": "2024-09-10T05:37:39.373Z"
   },
   {
    "duration": 15,
    "start_time": "2024-09-10T05:37:39.378Z"
   },
   {
    "duration": 50,
    "start_time": "2024-09-10T05:37:39.394Z"
   },
   {
    "duration": 5,
    "start_time": "2024-09-10T05:37:39.446Z"
   },
   {
    "duration": 5,
    "start_time": "2024-09-10T05:37:39.453Z"
   },
   {
    "duration": 6,
    "start_time": "2024-09-10T05:37:39.459Z"
   },
   {
    "duration": 3235,
    "start_time": "2024-09-10T05:37:39.466Z"
   },
   {
    "duration": 3118,
    "start_time": "2024-09-10T05:37:54.904Z"
   },
   {
    "duration": 893,
    "start_time": "2024-09-10T05:38:30.508Z"
   }
  ],
  "kernelspec": {
   "display_name": "Python 3 (ipykernel)",
   "language": "python",
   "name": "python3"
  },
  "language_info": {
   "codemirror_mode": {
    "name": "ipython",
    "version": 3
   },
   "file_extension": ".py",
   "mimetype": "text/x-python",
   "name": "python",
   "nbconvert_exporter": "python",
   "pygments_lexer": "ipython3",
   "version": "3.9.19"
  },
  "toc": {
   "base_numbering": 1,
   "nav_menu": {},
   "number_sections": true,
   "sideBar": true,
   "skip_h1_title": true,
   "title_cell": "Table of Contents",
   "title_sidebar": "Contents",
   "toc_cell": false,
   "toc_position": {
    "height": "calc(100% - 180px)",
    "left": "10px",
    "top": "150px",
    "width": "230px"
   },
   "toc_section_display": true,
   "toc_window_display": true
  }
 },
 "nbformat": 4,
 "nbformat_minor": 2
}
